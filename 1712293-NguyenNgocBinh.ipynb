{
 "cells": [
  {
   "cell_type": "markdown",
   "metadata": {},
   "source": [
    "# <U>ĐỒ ÁN CUỐI KÌ:</U> MÔN LẬP TRÌNH KHOA HỌC DỮ LIỆU\n",
    "# <u>ĐỀ TÀI:</u>  PHÂN TÍCH ĐIỂM THI THPT QUỐC GIA NĂM 2017, 2019"
   ]
  },
  {
   "cell_type": "markdown",
   "metadata": {},
   "source": [
    "## <U>GVHD:</U> TRẦN TRUNG KIÊN - PHAN THỊ PHƯƠNG UYÊN"
   ]
  },
  {
   "cell_type": "markdown",
   "metadata": {},
   "source": [
    "### <U>SINH VIÊN</U>: NGUYỄN NGỌC BÌNH\n",
    "### <U>MSSV</U>: 1712293"
   ]
  },
  {
   "cell_type": "markdown",
   "metadata": {},
   "source": [
    "### TỔNG QUAN VỀ ĐỀ TÀI"
   ]
  },
  {
   "cell_type": "markdown",
   "metadata": {},
   "source": [
    "<b><u>Đề tài:</u> Phân tích điểm thi THPT quốc gia năm 2019</b><br>\n",
    "<b><u>Lí do chọn đề tài:</u></b>\n",
    "<ol>Điểm thi THPT quốc gia tuy không nói lên nhiều về năng lực của đa số học sinh hay nói về trình độ chuyên môn giảng dạy của một hệ thống tỉnh thành nào đó, tuy nhiên qua đó chúng ta có thể nhìn nhận nhiều khía cạnh để nâng cao chất lượng giảng dạy của hệ thống giáo dục Việt Nam. Và hơn hết, cũng là người từng đi thi nên muốn khám phá xem mình đã trải nghiệm một kì thi như thế nào</ol>\n",
    "<b><u>Dữ liệu:</u></b> Điểm thi THPT Quốc Gia hai năm 2017 và 2019"
   ]
  },
  {
   "cell_type": "markdown",
   "metadata": {},
   "source": [
    "### A. THU THẬP DỮ LIỆU"
   ]
  },
  {
   "cell_type": "markdown",
   "metadata": {},
   "source": [
    "### I. Lí do chọn dữ liệu:\n",
    "<ol> Chọn 2 năm thi để có cái nhìn đánh giá tổng quan hơn về điểm số và không chọn năm 2018 vì có vấn đề gian lận mà mình đang muốn tìm hiểu về mặt tích cực để cải thiện nên sẽ chọn năm 2017 và 2019, là những năm gần đây nhất</ol>\n",
    "<ol>Dữ liệu này chọn sẽ không ảnh hướng tới bất kì một ai vì đã được công bố công khai nên mình nghĩ là thế và mình sẽ che những thông tin cá nhân một cách ổn thỏa nhất và không ảnh hưởng tới một ai</ol>"
   ]
  },
  {
   "cell_type": "markdown",
   "metadata": {},
   "source": [
    "### II. Thu thập dữ liệu\n",
    "<ol> Dữ liệu có hai bộ chính là 2017 và 2019 </ol>"
   ]
  },
  {
   "cell_type": "markdown",
   "metadata": {},
   "source": [
    "## B.CHUẨN BỊ DỮ LIỆU"
   ]
  },
  {
   "cell_type": "markdown",
   "metadata": {},
   "source": [
    "## C. ĐẶT CÂU HỎI"
   ]
  },
  {
   "cell_type": "markdown",
   "metadata": {},
   "source": [
    "### D.PHÂN TÍCH DỮ LIỆU VÀ TÌM RA LỜI GIẢI"
   ]
  },
  {
   "cell_type": "markdown",
   "metadata": {},
   "source": [
    "## E. KẾT LUẬN"
   ]
  },
  {
   "cell_type": "code",
   "execution_count": null,
   "metadata": {},
   "outputs": [],
   "source": []
  }
 ],
 "metadata": {
  "kernelspec": {
   "display_name": "Python 3",
   "language": "python",
   "name": "python3"
  },
  "language_info": {
   "codemirror_mode": {
    "name": "ipython",
    "version": 3
   },
   "file_extension": ".py",
   "mimetype": "text/x-python",
   "name": "python",
   "nbconvert_exporter": "python",
   "pygments_lexer": "ipython3",
   "version": "3.7.1"
  },
  "varInspector": {
   "cols": {
    "lenName": 16,
    "lenType": 16,
    "lenVar": 40
   },
   "kernels_config": {
    "python": {
     "delete_cmd_postfix": "",
     "delete_cmd_prefix": "del ",
     "library": "var_list.py",
     "varRefreshCmd": "print(var_dic_list())"
    },
    "r": {
     "delete_cmd_postfix": ") ",
     "delete_cmd_prefix": "rm(",
     "library": "var_list.r",
     "varRefreshCmd": "cat(var_dic_list()) "
    }
   },
   "types_to_exclude": [
    "module",
    "function",
    "builtin_function_or_method",
    "instance",
    "_Feature"
   ],
   "window_display": false
  }
 },
 "nbformat": 4,
 "nbformat_minor": 2
}
