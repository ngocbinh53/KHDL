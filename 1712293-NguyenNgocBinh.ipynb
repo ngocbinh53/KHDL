{
 "cells": [
  {
   "cell_type": "markdown",
   "metadata": {},
   "source": [
    "<h1> <u>ĐỒ ÁN CUỐI KÌ:</u> MÔN LẬP TRÌNH KHOA HỌC DỮ LIỆU </h1>\n",
    "<h1> <u>ĐỀ TÀI:</u>  PHÂN TÍCH ĐIỂM THI THPT QUỐC GIA NĂM 2017, 2019 </h1>"
   ]
  },
  {
   "cell_type": "markdown",
   "metadata": {},
   "source": [
    "<h2> <u> GVHD:</u> TRẦN TRUNG KIÊN - PHAN THỊ PHƯƠNG UYÊN </h2>"
   ]
  },
  {
   "cell_type": "markdown",
   "metadata": {},
   "source": [
    "<h3> <u>SINH VIÊN</u>: NGUYỄN NGỌC BÌNH </h3>\n",
    "<h3><u>MSSV</u>: 1712293</h3>"
   ]
  },
  {
   "cell_type": "markdown",
   "metadata": {},
   "source": [
    "### TỔNG QUAN VỀ ĐỀ TÀI"
   ]
  },
  {
   "cell_type": "markdown",
   "metadata": {},
   "source": [
    "<b><u>Đề tài:</u> Phân tích điểm thi THPT quốc gia năm 2019</b><br>\n",
    "<b><u>Lí do chọn đề tài:</u></b>\n",
    "<ol>Điểm thi THPT quốc gia tuy không nói lên nhiều về năng lực của đa số học sinh hay nói về trình độ chuyên môn giảng dạy của một hệ thống tỉnh thành nào đó, tuy nhiên qua đó chúng ta có thể nhìn nhận nhiều khía cạnh để nâng cao chất lượng giảng dạy của hệ thống giáo dục Việt Nam. Và hơn hết, cũng là người từng đi thi nên muốn khám phá xem mình đã trải nghiệm một kì thi như thế nào</ol>\n",
    "<b><u>Dữ liệu:</u></b> Điểm thi THPT Quốc Gia hai năm 2017 và 2019"
   ]
  },
  {
   "cell_type": "markdown",
   "metadata": {},
   "source": [
    "## THƯ VIỆN SỬ DỤNG TRONG ĐỒ ÁN"
   ]
  },
  {
   "cell_type": "code",
   "execution_count": 2,
   "metadata": {},
   "outputs": [],
   "source": [
    "import pandas as pd\n",
    "import numpy as np\n",
    "import matplotlib.pyplot as plt"
   ]
  },
  {
   "cell_type": "markdown",
   "metadata": {},
   "source": [
    "### A. THU THẬP DỮ LIỆU"
   ]
  },
  {
   "cell_type": "markdown",
   "metadata": {},
   "source": [
    "### I. Lí do chọn dữ liệu:\n",
    "<ol> Chọn 2 năm thi để có cái nhìn đánh giá tổng quan hơn về điểm số và không chọn năm 2018 vì có vấn đề gian lận mà mình đang muốn tìm hiểu về mặt tích cực để cải thiện nên sẽ chọn năm 2017 và 2019, là những năm gần đây nhất</ol>\n",
    "<ol>Dữ liệu này chọn sẽ không ảnh hướng tới bất kì một ai vì đã được công bố công khai nên mình nghĩ là thế và mình sẽ che những thông tin cá nhân một cách ổn thỏa nhất và không ảnh hưởng tới một ai</ol>"
   ]
  },
  {
   "cell_type": "markdown",
   "metadata": {},
   "source": [
    "### II. Thu thập dữ liệu\n",
    "<ol> Dữ liệu có hai bộ chính là 2017 và 2019 </ol>\n"
   ]
  },
  {
   "cell_type": "markdown",
   "metadata": {},
   "source": [
    "### 1. Thu thập dữ liệu năm 2017\n",
    "<ul><u>Nguồn tải dữ liệu: </u>\n",
    "    <a href= \" https://vov.vn/xa-hoi/giao-duc/cap-nhat-diem-thi-thpt-quoc-gia-nam-2017-o-cac-dia-phuong-643262.vov \" >https://vov.vn/xa-hoi/giao-duc/cap-nhat-diem-thi-thpt-quoc-gia-nam-2017-o-cac-dia-phuong-643262.vov</a> </ul>\n",
    "<ul>\n",
    "    <u>Quy trình tải dữ liệu:</u> \n",
    "    <ol> Đầu tiên tải hết dữ liệu điểm thi THPT năm 2017 ở các tỉnh thành về</ol>\n",
    "    <ol> Dùng thư viện <b>glob</b> để đọc tên file rồi dùng read_Excel để đọc file exel</ol>\n",
    "    <ol>Sau đó tiến hành xóa thông tin cá nhân và xây dựng có cột điểm từ dữ liêu đã có</ol>\n",
    "    <ol>Dùng thư viện <b>pandas </b> để lưu file và chuẩn bị cho bài toán </ol>\n",
    "    Code và báo cáo chi tiết quy trình tải bộ dữ liệu ở file GetDataTHPT2017\n",
    "</ul>\n",
    "    </ul>"
   ]
  },
  {
   "cell_type": "markdown",
   "metadata": {},
   "source": [
    "### 2. Thu thập dữ liệu năm 2019"
   ]
  },
  {
   "cell_type": "markdown",
   "metadata": {},
   "source": [
    "<ul><u>Nguồn tải dữ liệu: </u> https://github.com/beecost/bee-university <br>\n",
    "<u>Quy trình tải dữ liệu:</u>\n",
    "<ul>\n",
    "    <ol>Do đã tìm được 1 file csv chứa toàn bộ điểm năm 2019 nên không cần phải chạy như dữ liệu 2017 nữa mà sẽ xử lí cho nó phù hợp lại</ol>\n",
    "    <ol>Viết lại cho đồng bộ các cột và xóa vài cột không cần thiết như cột <u>index</u> và cột <u>Ma_mon_ngoai_ngu</u></ol>\n",
    "</ul>\n",
    "    <ul>"
   ]
  },
  {
   "cell_type": "markdown",
   "metadata": {},
   "source": [
    "## B. CHUẨN BỊ DỮ LIỆU"
   ]
  },
  {
   "cell_type": "markdown",
   "metadata": {},
   "source": [
    "### <ul>I. Xử lí bộ dữ liệu năm 2017 </ul>\n",
    "<ul><ul>Dữ liệu 2017 gồm 847348 dòng và 13 cột, mỗi dòng là thông tin của một thí sinh thi, mỗi cột thì thể hiện như sau:\n",
    "<ul>SOBAODANH là số báo danh thi trong kì thi năm 2017 của thí sinh</ul>\n",
    "<ul>Tỉnh Thành là tỉnh thành mà thí sinh đến dự thi</ul>\n",
    "<ul>Toán, Ngữ văn, Hóa học, Sinh học, Lịch sử, Địa lí, GDCD,Tiếng Anh là tên các cột chứa thông tin điểm số tương ứng</ul>\n",
    "<ul>KHTN,KHXH là điểm tổ hợp của thí sinh và nó được tính như sau:\n",
    "    <ul>\n",
    "        KHTN sẽ là điểm trung bình có làm tròn của ba môn Sinh học, Vật lí và Hóa học</ul>\n",
    "    <ul>\n",
    "        KHXH là điểm trung bình có làm tròn của ba môn Lịch sử, Địa lí và GDCD\n",
    "    </ul></ul></ul></ul>"
   ]
  },
  {
   "cell_type": "code",
   "execution_count": 3,
   "metadata": {},
   "outputs": [
    {
     "data": {
      "text/html": [
       "<div>\n",
       "<style scoped>\n",
       "    .dataframe tbody tr th:only-of-type {\n",
       "        vertical-align: middle;\n",
       "    }\n",
       "\n",
       "    .dataframe tbody tr th {\n",
       "        vertical-align: top;\n",
       "    }\n",
       "\n",
       "    .dataframe thead th {\n",
       "        text-align: right;\n",
       "    }\n",
       "</style>\n",
       "<table border=\"1\" class=\"dataframe\">\n",
       "  <thead>\n",
       "    <tr style=\"text-align: right;\">\n",
       "      <th></th>\n",
       "      <th>SOBAODANH</th>\n",
       "      <th>Tỉnh Thành</th>\n",
       "      <th>Toán</th>\n",
       "      <th>Ngữ văn</th>\n",
       "      <th>Vật lí</th>\n",
       "      <th>Hóa học</th>\n",
       "      <th>Sinh học</th>\n",
       "      <th>KHTN</th>\n",
       "      <th>Lịch sử</th>\n",
       "      <th>Địa lí</th>\n",
       "      <th>GDCD</th>\n",
       "      <th>KHXH</th>\n",
       "      <th>Tiếng Anh</th>\n",
       "    </tr>\n",
       "  </thead>\n",
       "  <tbody>\n",
       "    <tr>\n",
       "      <td>0</td>\n",
       "      <td>47006585</td>\n",
       "      <td>Bình Thuận</td>\n",
       "      <td>6.8</td>\n",
       "      <td>5.25</td>\n",
       "      <td>5.25</td>\n",
       "      <td>5.50</td>\n",
       "      <td>5.00</td>\n",
       "      <td>5.25</td>\n",
       "      <td>4.00</td>\n",
       "      <td>7.50</td>\n",
       "      <td>8.50</td>\n",
       "      <td>6.67</td>\n",
       "      <td>5.8</td>\n",
       "    </tr>\n",
       "    <tr>\n",
       "      <td>1</td>\n",
       "      <td>47003701</td>\n",
       "      <td>Bình Thuận</td>\n",
       "      <td>3.4</td>\n",
       "      <td>6.25</td>\n",
       "      <td>NaN</td>\n",
       "      <td>NaN</td>\n",
       "      <td>NaN</td>\n",
       "      <td>NaN</td>\n",
       "      <td>2.25</td>\n",
       "      <td>3.50</td>\n",
       "      <td>5.25</td>\n",
       "      <td>3.67</td>\n",
       "      <td>3.6</td>\n",
       "    </tr>\n",
       "    <tr>\n",
       "      <td>2</td>\n",
       "      <td>47007840</td>\n",
       "      <td>Bình Thuận</td>\n",
       "      <td>5.4</td>\n",
       "      <td>5.50</td>\n",
       "      <td>NaN</td>\n",
       "      <td>NaN</td>\n",
       "      <td>NaN</td>\n",
       "      <td>NaN</td>\n",
       "      <td>7.25</td>\n",
       "      <td>8.25</td>\n",
       "      <td>8.50</td>\n",
       "      <td>8.00</td>\n",
       "      <td>2.8</td>\n",
       "    </tr>\n",
       "    <tr>\n",
       "      <td>3</td>\n",
       "      <td>47006513</td>\n",
       "      <td>Bình Thuận</td>\n",
       "      <td>4.4</td>\n",
       "      <td>5.50</td>\n",
       "      <td>NaN</td>\n",
       "      <td>NaN</td>\n",
       "      <td>NaN</td>\n",
       "      <td>NaN</td>\n",
       "      <td>4.50</td>\n",
       "      <td>5.25</td>\n",
       "      <td>8.00</td>\n",
       "      <td>5.92</td>\n",
       "      <td>5.0</td>\n",
       "    </tr>\n",
       "    <tr>\n",
       "      <td>4</td>\n",
       "      <td>47000048</td>\n",
       "      <td>Bình Thuận</td>\n",
       "      <td>5.6</td>\n",
       "      <td>5.50</td>\n",
       "      <td>5.00</td>\n",
       "      <td>6.50</td>\n",
       "      <td>6.50</td>\n",
       "      <td>6.00</td>\n",
       "      <td>5.75</td>\n",
       "      <td>9.00</td>\n",
       "      <td>7.75</td>\n",
       "      <td>7.50</td>\n",
       "      <td>5.6</td>\n",
       "    </tr>\n",
       "    <tr>\n",
       "      <td>...</td>\n",
       "      <td>...</td>\n",
       "      <td>...</td>\n",
       "      <td>...</td>\n",
       "      <td>...</td>\n",
       "      <td>...</td>\n",
       "      <td>...</td>\n",
       "      <td>...</td>\n",
       "      <td>...</td>\n",
       "      <td>...</td>\n",
       "      <td>...</td>\n",
       "      <td>...</td>\n",
       "      <td>...</td>\n",
       "      <td>...</td>\n",
       "    </tr>\n",
       "    <tr>\n",
       "      <td>847343</td>\n",
       "      <td>2039206</td>\n",
       "      <td>TP. Hồ Chí Minh</td>\n",
       "      <td>5.4</td>\n",
       "      <td>5.00</td>\n",
       "      <td>4.75</td>\n",
       "      <td>5.25</td>\n",
       "      <td>4.50</td>\n",
       "      <td>4.83</td>\n",
       "      <td>NaN</td>\n",
       "      <td>NaN</td>\n",
       "      <td>NaN</td>\n",
       "      <td>NaN</td>\n",
       "      <td>7.2</td>\n",
       "    </tr>\n",
       "    <tr>\n",
       "      <td>847344</td>\n",
       "      <td>2017585</td>\n",
       "      <td>TP. Hồ Chí Minh</td>\n",
       "      <td>7.4</td>\n",
       "      <td>6.75</td>\n",
       "      <td>5.25</td>\n",
       "      <td>4.50</td>\n",
       "      <td>5.25</td>\n",
       "      <td>5.00</td>\n",
       "      <td>NaN</td>\n",
       "      <td>NaN</td>\n",
       "      <td>NaN</td>\n",
       "      <td>NaN</td>\n",
       "      <td>7.0</td>\n",
       "    </tr>\n",
       "    <tr>\n",
       "      <td>847345</td>\n",
       "      <td>2003325</td>\n",
       "      <td>TP. Hồ Chí Minh</td>\n",
       "      <td>6.6</td>\n",
       "      <td>4.75</td>\n",
       "      <td>4.75</td>\n",
       "      <td>6.75</td>\n",
       "      <td>3.75</td>\n",
       "      <td>5.08</td>\n",
       "      <td>NaN</td>\n",
       "      <td>NaN</td>\n",
       "      <td>NaN</td>\n",
       "      <td>NaN</td>\n",
       "      <td>3.4</td>\n",
       "    </tr>\n",
       "    <tr>\n",
       "      <td>847346</td>\n",
       "      <td>2043335</td>\n",
       "      <td>TP. Hồ Chí Minh</td>\n",
       "      <td>5.4</td>\n",
       "      <td>5.00</td>\n",
       "      <td>2.25</td>\n",
       "      <td>5.75</td>\n",
       "      <td>4.50</td>\n",
       "      <td>4.17</td>\n",
       "      <td>NaN</td>\n",
       "      <td>NaN</td>\n",
       "      <td>NaN</td>\n",
       "      <td>NaN</td>\n",
       "      <td>4.8</td>\n",
       "    </tr>\n",
       "    <tr>\n",
       "      <td>847347</td>\n",
       "      <td>2036615</td>\n",
       "      <td>TP. Hồ Chí Minh</td>\n",
       "      <td>5.8</td>\n",
       "      <td>5.75</td>\n",
       "      <td>6.50</td>\n",
       "      <td>4.50</td>\n",
       "      <td>4.75</td>\n",
       "      <td>5.25</td>\n",
       "      <td>NaN</td>\n",
       "      <td>NaN</td>\n",
       "      <td>NaN</td>\n",
       "      <td>NaN</td>\n",
       "      <td>7.2</td>\n",
       "    </tr>\n",
       "  </tbody>\n",
       "</table>\n",
       "<p>847348 rows × 13 columns</p>\n",
       "</div>"
      ],
      "text/plain": [
       "        SOBAODANH       Tỉnh Thành  Toán  Ngữ văn  Vật lí  Hóa học  Sinh học  \\\n",
       "0        47006585       Bình Thuận   6.8     5.25    5.25     5.50      5.00   \n",
       "1        47003701       Bình Thuận   3.4     6.25     NaN      NaN       NaN   \n",
       "2        47007840       Bình Thuận   5.4     5.50     NaN      NaN       NaN   \n",
       "3        47006513       Bình Thuận   4.4     5.50     NaN      NaN       NaN   \n",
       "4        47000048       Bình Thuận   5.6     5.50    5.00     6.50      6.50   \n",
       "...           ...              ...   ...      ...     ...      ...       ...   \n",
       "847343    2039206  TP. Hồ Chí Minh   5.4     5.00    4.75     5.25      4.50   \n",
       "847344    2017585  TP. Hồ Chí Minh   7.4     6.75    5.25     4.50      5.25   \n",
       "847345    2003325  TP. Hồ Chí Minh   6.6     4.75    4.75     6.75      3.75   \n",
       "847346    2043335  TP. Hồ Chí Minh   5.4     5.00    2.25     5.75      4.50   \n",
       "847347    2036615  TP. Hồ Chí Minh   5.8     5.75    6.50     4.50      4.75   \n",
       "\n",
       "        KHTN  Lịch sử  Địa lí  GDCD  KHXH  Tiếng Anh  \n",
       "0       5.25     4.00    7.50  8.50  6.67        5.8  \n",
       "1        NaN     2.25    3.50  5.25  3.67        3.6  \n",
       "2        NaN     7.25    8.25  8.50  8.00        2.8  \n",
       "3        NaN     4.50    5.25  8.00  5.92        5.0  \n",
       "4       6.00     5.75    9.00  7.75  7.50        5.6  \n",
       "...      ...      ...     ...   ...   ...        ...  \n",
       "847343  4.83      NaN     NaN   NaN   NaN        7.2  \n",
       "847344  5.00      NaN     NaN   NaN   NaN        7.0  \n",
       "847345  5.08      NaN     NaN   NaN   NaN        3.4  \n",
       "847346  4.17      NaN     NaN   NaN   NaN        4.8  \n",
       "847347  5.25      NaN     NaN   NaN   NaN        7.2  \n",
       "\n",
       "[847348 rows x 13 columns]"
      ]
     },
     "execution_count": 3,
     "metadata": {},
     "output_type": "execute_result"
    }
   ],
   "source": [
    "diem2017_df = pd.read_csv('diemTHPT2017.csv')\n",
    "diem2017_df"
   ]
  },
  {
   "cell_type": "markdown",
   "metadata": {},
   "source": [
    "#### <ul>Thay đổi tên cột SOBAODANH</ul>\n"
   ]
  },
  {
   "cell_type": "code",
   "execution_count": 4,
   "metadata": {
    "scrolled": true
   },
   "outputs": [
    {
     "data": {
      "text/html": [
       "<div>\n",
       "<style scoped>\n",
       "    .dataframe tbody tr th:only-of-type {\n",
       "        vertical-align: middle;\n",
       "    }\n",
       "\n",
       "    .dataframe tbody tr th {\n",
       "        vertical-align: top;\n",
       "    }\n",
       "\n",
       "    .dataframe thead th {\n",
       "        text-align: right;\n",
       "    }\n",
       "</style>\n",
       "<table border=\"1\" class=\"dataframe\">\n",
       "  <thead>\n",
       "    <tr style=\"text-align: right;\">\n",
       "      <th></th>\n",
       "      <th>SBD</th>\n",
       "      <th>Tỉnh Thành</th>\n",
       "      <th>Toán</th>\n",
       "      <th>Ngữ văn</th>\n",
       "      <th>Vật lí</th>\n",
       "      <th>Hóa học</th>\n",
       "      <th>Sinh học</th>\n",
       "      <th>KHTN</th>\n",
       "      <th>Lịch sử</th>\n",
       "      <th>Địa lí</th>\n",
       "      <th>GDCD</th>\n",
       "      <th>KHXH</th>\n",
       "      <th>Ngoại ngữ</th>\n",
       "    </tr>\n",
       "  </thead>\n",
       "  <tbody>\n",
       "    <tr>\n",
       "      <td>0</td>\n",
       "      <td>47006585</td>\n",
       "      <td>Bình Thuận</td>\n",
       "      <td>6.8</td>\n",
       "      <td>5.25</td>\n",
       "      <td>5.25</td>\n",
       "      <td>5.50</td>\n",
       "      <td>5.00</td>\n",
       "      <td>5.25</td>\n",
       "      <td>4.00</td>\n",
       "      <td>7.50</td>\n",
       "      <td>8.50</td>\n",
       "      <td>6.67</td>\n",
       "      <td>5.8</td>\n",
       "    </tr>\n",
       "    <tr>\n",
       "      <td>1</td>\n",
       "      <td>47003701</td>\n",
       "      <td>Bình Thuận</td>\n",
       "      <td>3.4</td>\n",
       "      <td>6.25</td>\n",
       "      <td>NaN</td>\n",
       "      <td>NaN</td>\n",
       "      <td>NaN</td>\n",
       "      <td>NaN</td>\n",
       "      <td>2.25</td>\n",
       "      <td>3.50</td>\n",
       "      <td>5.25</td>\n",
       "      <td>3.67</td>\n",
       "      <td>3.6</td>\n",
       "    </tr>\n",
       "    <tr>\n",
       "      <td>2</td>\n",
       "      <td>47007840</td>\n",
       "      <td>Bình Thuận</td>\n",
       "      <td>5.4</td>\n",
       "      <td>5.50</td>\n",
       "      <td>NaN</td>\n",
       "      <td>NaN</td>\n",
       "      <td>NaN</td>\n",
       "      <td>NaN</td>\n",
       "      <td>7.25</td>\n",
       "      <td>8.25</td>\n",
       "      <td>8.50</td>\n",
       "      <td>8.00</td>\n",
       "      <td>2.8</td>\n",
       "    </tr>\n",
       "    <tr>\n",
       "      <td>3</td>\n",
       "      <td>47006513</td>\n",
       "      <td>Bình Thuận</td>\n",
       "      <td>4.4</td>\n",
       "      <td>5.50</td>\n",
       "      <td>NaN</td>\n",
       "      <td>NaN</td>\n",
       "      <td>NaN</td>\n",
       "      <td>NaN</td>\n",
       "      <td>4.50</td>\n",
       "      <td>5.25</td>\n",
       "      <td>8.00</td>\n",
       "      <td>5.92</td>\n",
       "      <td>5.0</td>\n",
       "    </tr>\n",
       "    <tr>\n",
       "      <td>4</td>\n",
       "      <td>47000048</td>\n",
       "      <td>Bình Thuận</td>\n",
       "      <td>5.6</td>\n",
       "      <td>5.50</td>\n",
       "      <td>5.00</td>\n",
       "      <td>6.50</td>\n",
       "      <td>6.50</td>\n",
       "      <td>6.00</td>\n",
       "      <td>5.75</td>\n",
       "      <td>9.00</td>\n",
       "      <td>7.75</td>\n",
       "      <td>7.50</td>\n",
       "      <td>5.6</td>\n",
       "    </tr>\n",
       "    <tr>\n",
       "      <td>...</td>\n",
       "      <td>...</td>\n",
       "      <td>...</td>\n",
       "      <td>...</td>\n",
       "      <td>...</td>\n",
       "      <td>...</td>\n",
       "      <td>...</td>\n",
       "      <td>...</td>\n",
       "      <td>...</td>\n",
       "      <td>...</td>\n",
       "      <td>...</td>\n",
       "      <td>...</td>\n",
       "      <td>...</td>\n",
       "      <td>...</td>\n",
       "    </tr>\n",
       "    <tr>\n",
       "      <td>847343</td>\n",
       "      <td>2039206</td>\n",
       "      <td>TP. Hồ Chí Minh</td>\n",
       "      <td>5.4</td>\n",
       "      <td>5.00</td>\n",
       "      <td>4.75</td>\n",
       "      <td>5.25</td>\n",
       "      <td>4.50</td>\n",
       "      <td>4.83</td>\n",
       "      <td>NaN</td>\n",
       "      <td>NaN</td>\n",
       "      <td>NaN</td>\n",
       "      <td>NaN</td>\n",
       "      <td>7.2</td>\n",
       "    </tr>\n",
       "    <tr>\n",
       "      <td>847344</td>\n",
       "      <td>2017585</td>\n",
       "      <td>TP. Hồ Chí Minh</td>\n",
       "      <td>7.4</td>\n",
       "      <td>6.75</td>\n",
       "      <td>5.25</td>\n",
       "      <td>4.50</td>\n",
       "      <td>5.25</td>\n",
       "      <td>5.00</td>\n",
       "      <td>NaN</td>\n",
       "      <td>NaN</td>\n",
       "      <td>NaN</td>\n",
       "      <td>NaN</td>\n",
       "      <td>7.0</td>\n",
       "    </tr>\n",
       "    <tr>\n",
       "      <td>847345</td>\n",
       "      <td>2003325</td>\n",
       "      <td>TP. Hồ Chí Minh</td>\n",
       "      <td>6.6</td>\n",
       "      <td>4.75</td>\n",
       "      <td>4.75</td>\n",
       "      <td>6.75</td>\n",
       "      <td>3.75</td>\n",
       "      <td>5.08</td>\n",
       "      <td>NaN</td>\n",
       "      <td>NaN</td>\n",
       "      <td>NaN</td>\n",
       "      <td>NaN</td>\n",
       "      <td>3.4</td>\n",
       "    </tr>\n",
       "    <tr>\n",
       "      <td>847346</td>\n",
       "      <td>2043335</td>\n",
       "      <td>TP. Hồ Chí Minh</td>\n",
       "      <td>5.4</td>\n",
       "      <td>5.00</td>\n",
       "      <td>2.25</td>\n",
       "      <td>5.75</td>\n",
       "      <td>4.50</td>\n",
       "      <td>4.17</td>\n",
       "      <td>NaN</td>\n",
       "      <td>NaN</td>\n",
       "      <td>NaN</td>\n",
       "      <td>NaN</td>\n",
       "      <td>4.8</td>\n",
       "    </tr>\n",
       "    <tr>\n",
       "      <td>847347</td>\n",
       "      <td>2036615</td>\n",
       "      <td>TP. Hồ Chí Minh</td>\n",
       "      <td>5.8</td>\n",
       "      <td>5.75</td>\n",
       "      <td>6.50</td>\n",
       "      <td>4.50</td>\n",
       "      <td>4.75</td>\n",
       "      <td>5.25</td>\n",
       "      <td>NaN</td>\n",
       "      <td>NaN</td>\n",
       "      <td>NaN</td>\n",
       "      <td>NaN</td>\n",
       "      <td>7.2</td>\n",
       "    </tr>\n",
       "  </tbody>\n",
       "</table>\n",
       "<p>847348 rows × 13 columns</p>\n",
       "</div>"
      ],
      "text/plain": [
       "             SBD       Tỉnh Thành  Toán  Ngữ văn  Vật lí  Hóa học  Sinh học  \\\n",
       "0       47006585       Bình Thuận   6.8     5.25    5.25     5.50      5.00   \n",
       "1       47003701       Bình Thuận   3.4     6.25     NaN      NaN       NaN   \n",
       "2       47007840       Bình Thuận   5.4     5.50     NaN      NaN       NaN   \n",
       "3       47006513       Bình Thuận   4.4     5.50     NaN      NaN       NaN   \n",
       "4       47000048       Bình Thuận   5.6     5.50    5.00     6.50      6.50   \n",
       "...          ...              ...   ...      ...     ...      ...       ...   \n",
       "847343   2039206  TP. Hồ Chí Minh   5.4     5.00    4.75     5.25      4.50   \n",
       "847344   2017585  TP. Hồ Chí Minh   7.4     6.75    5.25     4.50      5.25   \n",
       "847345   2003325  TP. Hồ Chí Minh   6.6     4.75    4.75     6.75      3.75   \n",
       "847346   2043335  TP. Hồ Chí Minh   5.4     5.00    2.25     5.75      4.50   \n",
       "847347   2036615  TP. Hồ Chí Minh   5.8     5.75    6.50     4.50      4.75   \n",
       "\n",
       "        KHTN  Lịch sử  Địa lí  GDCD  KHXH  Ngoại ngữ  \n",
       "0       5.25     4.00    7.50  8.50  6.67        5.8  \n",
       "1        NaN     2.25    3.50  5.25  3.67        3.6  \n",
       "2        NaN     7.25    8.25  8.50  8.00        2.8  \n",
       "3        NaN     4.50    5.25  8.00  5.92        5.0  \n",
       "4       6.00     5.75    9.00  7.75  7.50        5.6  \n",
       "...      ...      ...     ...   ...   ...        ...  \n",
       "847343  4.83      NaN     NaN   NaN   NaN        7.2  \n",
       "847344  5.00      NaN     NaN   NaN   NaN        7.0  \n",
       "847345  5.08      NaN     NaN   NaN   NaN        3.4  \n",
       "847346  4.17      NaN     NaN   NaN   NaN        4.8  \n",
       "847347  5.25      NaN     NaN   NaN   NaN        7.2  \n",
       "\n",
       "[847348 rows x 13 columns]"
      ]
     },
     "execution_count": 4,
     "metadata": {},
     "output_type": "execute_result"
    }
   ],
   "source": [
    "diem2017_df=diem2017_df.rename(columns={'SOBAODANH':'SBD','Tiếng Anh':'Ngoại ngữ'})\n",
    "diem2017_df"
   ]
  },
  {
   "cell_type": "markdown",
   "metadata": {},
   "source": [
    "### II. Xử lí bộ dữ liệu năm 2019\n",
    "<ul> Dữ liệu gồm 811 851 dòng và 12 cột, mỗi dòng sẽ là thông tin điểm số của thí sinh trong kì thi năm 2019, còn dòng được quy ước như sau:\n",
    "    <ul>Unnamed:0 là cột thứ tự</ul>\n",
    "    <ul>Dia,GDCD, Hoa, Li, Ngoai_ngu, Sinh, Su, Toan, Van lần lượt là cột chứa điểm môn Địa lí,GDCD, Hóa học, Vật lí, Ngoại ngữ, Sinh học, Lịch sử, Ngữ văn của thí sinh</ul>\n",
    "    <ul>Ma_mon_ngoai_ngu là cột thể hiện việc thí sinh đó thi môn ngoại ngữ là gì: tiếng Anh, tiếng Trung,...</ul>\n",
    "    <ul>sbd là cột số báo danh của thí sinh</ul>\n",
    "</ul>"
   ]
  },
  {
   "cell_type": "code",
   "execution_count": 5,
   "metadata": {},
   "outputs": [
    {
     "data": {
      "text/html": [
       "<div>\n",
       "<style scoped>\n",
       "    .dataframe tbody tr th:only-of-type {\n",
       "        vertical-align: middle;\n",
       "    }\n",
       "\n",
       "    .dataframe tbody tr th {\n",
       "        vertical-align: top;\n",
       "    }\n",
       "\n",
       "    .dataframe thead th {\n",
       "        text-align: right;\n",
       "    }\n",
       "</style>\n",
       "<table border=\"1\" class=\"dataframe\">\n",
       "  <thead>\n",
       "    <tr style=\"text-align: right;\">\n",
       "      <th></th>\n",
       "      <th>Unnamed: 0</th>\n",
       "      <th>Dia</th>\n",
       "      <th>GDCD</th>\n",
       "      <th>Hoa</th>\n",
       "      <th>Li</th>\n",
       "      <th>Ma_mon_ngoai_ngu</th>\n",
       "      <th>Ngoai_ngu</th>\n",
       "      <th>Sinh</th>\n",
       "      <th>Su</th>\n",
       "      <th>Toan</th>\n",
       "      <th>Van</th>\n",
       "      <th>sbd</th>\n",
       "    </tr>\n",
       "  </thead>\n",
       "  <tbody>\n",
       "    <tr>\n",
       "      <td>0</td>\n",
       "      <td>0</td>\n",
       "      <td>7.75</td>\n",
       "      <td>8.75</td>\n",
       "      <td>NaN</td>\n",
       "      <td>NaN</td>\n",
       "      <td>N1</td>\n",
       "      <td>7.6</td>\n",
       "      <td>NaN</td>\n",
       "      <td>8.25</td>\n",
       "      <td>8.2</td>\n",
       "      <td>8.00</td>\n",
       "      <td>24008611</td>\n",
       "    </tr>\n",
       "    <tr>\n",
       "      <td>1</td>\n",
       "      <td>1</td>\n",
       "      <td>NaN</td>\n",
       "      <td>NaN</td>\n",
       "      <td>4.5</td>\n",
       "      <td>8.25</td>\n",
       "      <td>N1</td>\n",
       "      <td>8.0</td>\n",
       "      <td>6.00</td>\n",
       "      <td>NaN</td>\n",
       "      <td>8.6</td>\n",
       "      <td>6.17</td>\n",
       "      <td>51000032</td>\n",
       "    </tr>\n",
       "    <tr>\n",
       "      <td>2</td>\n",
       "      <td>2</td>\n",
       "      <td>4.25</td>\n",
       "      <td>5.75</td>\n",
       "      <td>NaN</td>\n",
       "      <td>NaN</td>\n",
       "      <td>NaN</td>\n",
       "      <td>NaN</td>\n",
       "      <td>NaN</td>\n",
       "      <td>4.00</td>\n",
       "      <td>5.2</td>\n",
       "      <td>4.75</td>\n",
       "      <td>51000005</td>\n",
       "    </tr>\n",
       "    <tr>\n",
       "      <td>3</td>\n",
       "      <td>3</td>\n",
       "      <td>4.75</td>\n",
       "      <td>5.00</td>\n",
       "      <td>NaN</td>\n",
       "      <td>NaN</td>\n",
       "      <td>NaN</td>\n",
       "      <td>NaN</td>\n",
       "      <td>NaN</td>\n",
       "      <td>2.25</td>\n",
       "      <td>4.4</td>\n",
       "      <td>4.50</td>\n",
       "      <td>51000021</td>\n",
       "    </tr>\n",
       "    <tr>\n",
       "      <td>4</td>\n",
       "      <td>4</td>\n",
       "      <td>8.25</td>\n",
       "      <td>7.50</td>\n",
       "      <td>NaN</td>\n",
       "      <td>NaN</td>\n",
       "      <td>N1</td>\n",
       "      <td>4.4</td>\n",
       "      <td>NaN</td>\n",
       "      <td>7.75</td>\n",
       "      <td>5.8</td>\n",
       "      <td>6.00</td>\n",
       "      <td>51000013</td>\n",
       "    </tr>\n",
       "    <tr>\n",
       "      <td>...</td>\n",
       "      <td>...</td>\n",
       "      <td>...</td>\n",
       "      <td>...</td>\n",
       "      <td>...</td>\n",
       "      <td>...</td>\n",
       "      <td>...</td>\n",
       "      <td>...</td>\n",
       "      <td>...</td>\n",
       "      <td>...</td>\n",
       "      <td>...</td>\n",
       "      <td>...</td>\n",
       "      <td>...</td>\n",
       "    </tr>\n",
       "    <tr>\n",
       "      <td>811846</td>\n",
       "      <td>811846</td>\n",
       "      <td>5.75</td>\n",
       "      <td>8.50</td>\n",
       "      <td>NaN</td>\n",
       "      <td>NaN</td>\n",
       "      <td>N1</td>\n",
       "      <td>3.4</td>\n",
       "      <td>NaN</td>\n",
       "      <td>4.50</td>\n",
       "      <td>4.4</td>\n",
       "      <td>4.75</td>\n",
       "      <td>26019104</td>\n",
       "    </tr>\n",
       "    <tr>\n",
       "      <td>811847</td>\n",
       "      <td>811847</td>\n",
       "      <td>NaN</td>\n",
       "      <td>NaN</td>\n",
       "      <td>4.5</td>\n",
       "      <td>3.75</td>\n",
       "      <td>N1</td>\n",
       "      <td>4.4</td>\n",
       "      <td>4.00</td>\n",
       "      <td>NaN</td>\n",
       "      <td>5.2</td>\n",
       "      <td>6.25</td>\n",
       "      <td>26019102</td>\n",
       "    </tr>\n",
       "    <tr>\n",
       "      <td>811848</td>\n",
       "      <td>811848</td>\n",
       "      <td>5.50</td>\n",
       "      <td>8.00</td>\n",
       "      <td>NaN</td>\n",
       "      <td>NaN</td>\n",
       "      <td>N1</td>\n",
       "      <td>2.8</td>\n",
       "      <td>NaN</td>\n",
       "      <td>5.50</td>\n",
       "      <td>2.8</td>\n",
       "      <td>5.00</td>\n",
       "      <td>26019099</td>\n",
       "    </tr>\n",
       "    <tr>\n",
       "      <td>811849</td>\n",
       "      <td>811849</td>\n",
       "      <td>6.75</td>\n",
       "      <td>8.50</td>\n",
       "      <td>NaN</td>\n",
       "      <td>NaN</td>\n",
       "      <td>N1</td>\n",
       "      <td>4.0</td>\n",
       "      <td>NaN</td>\n",
       "      <td>3.50</td>\n",
       "      <td>6.2</td>\n",
       "      <td>7.25</td>\n",
       "      <td>26019101</td>\n",
       "    </tr>\n",
       "    <tr>\n",
       "      <td>811850</td>\n",
       "      <td>811850</td>\n",
       "      <td>NaN</td>\n",
       "      <td>NaN</td>\n",
       "      <td>4.5</td>\n",
       "      <td>5.25</td>\n",
       "      <td>N1</td>\n",
       "      <td>2.2</td>\n",
       "      <td>3.75</td>\n",
       "      <td>NaN</td>\n",
       "      <td>6.4</td>\n",
       "      <td>5.75</td>\n",
       "      <td>26019097</td>\n",
       "    </tr>\n",
       "  </tbody>\n",
       "</table>\n",
       "<p>811851 rows × 12 columns</p>\n",
       "</div>"
      ],
      "text/plain": [
       "        Unnamed: 0   Dia  GDCD  Hoa    Li Ma_mon_ngoai_ngu  Ngoai_ngu  Sinh  \\\n",
       "0                0  7.75  8.75  NaN   NaN               N1        7.6   NaN   \n",
       "1                1   NaN   NaN  4.5  8.25               N1        8.0  6.00   \n",
       "2                2  4.25  5.75  NaN   NaN              NaN        NaN   NaN   \n",
       "3                3  4.75  5.00  NaN   NaN              NaN        NaN   NaN   \n",
       "4                4  8.25  7.50  NaN   NaN               N1        4.4   NaN   \n",
       "...            ...   ...   ...  ...   ...              ...        ...   ...   \n",
       "811846      811846  5.75  8.50  NaN   NaN               N1        3.4   NaN   \n",
       "811847      811847   NaN   NaN  4.5  3.75               N1        4.4  4.00   \n",
       "811848      811848  5.50  8.00  NaN   NaN               N1        2.8   NaN   \n",
       "811849      811849  6.75  8.50  NaN   NaN               N1        4.0   NaN   \n",
       "811850      811850   NaN   NaN  4.5  5.25               N1        2.2  3.75   \n",
       "\n",
       "          Su  Toan   Van       sbd  \n",
       "0       8.25   8.2  8.00  24008611  \n",
       "1        NaN   8.6  6.17  51000032  \n",
       "2       4.00   5.2  4.75  51000005  \n",
       "3       2.25   4.4  4.50  51000021  \n",
       "4       7.75   5.8  6.00  51000013  \n",
       "...      ...   ...   ...       ...  \n",
       "811846  4.50   4.4  4.75  26019104  \n",
       "811847   NaN   5.2  6.25  26019102  \n",
       "811848  5.50   2.8  5.00  26019099  \n",
       "811849  3.50   6.2  7.25  26019101  \n",
       "811850   NaN   6.4  5.75  26019097  \n",
       "\n",
       "[811851 rows x 12 columns]"
      ]
     },
     "execution_count": 5,
     "metadata": {},
     "output_type": "execute_result"
    }
   ],
   "source": [
    "diem2019_df =pd.read_csv('diemthi2019.csv')\n",
    "diem2019_df"
   ]
  },
  {
   "cell_type": "markdown",
   "metadata": {},
   "source": [
    "#### <ul> Xóa 2 Unnamed: 0 và Ma_mon_ngoai_ngu:\n",
    "<ul><ul>  Có lẽ sẽ có nhiều môn được xem là ngoại ngữ như tiếng Anh, Pháp,... nhưng ở đây mình xem xét chung là 1 môn và gọi là ngoại ngữ  </ul></ul></ul>\n",
    "\n",
    "\n"
   ]
  },
  {
   "cell_type": "code",
   "execution_count": 6,
   "metadata": {},
   "outputs": [
    {
     "data": {
      "text/html": [
       "<div>\n",
       "<style scoped>\n",
       "    .dataframe tbody tr th:only-of-type {\n",
       "        vertical-align: middle;\n",
       "    }\n",
       "\n",
       "    .dataframe tbody tr th {\n",
       "        vertical-align: top;\n",
       "    }\n",
       "\n",
       "    .dataframe thead th {\n",
       "        text-align: right;\n",
       "    }\n",
       "</style>\n",
       "<table border=\"1\" class=\"dataframe\">\n",
       "  <thead>\n",
       "    <tr style=\"text-align: right;\">\n",
       "      <th></th>\n",
       "      <th>Dia</th>\n",
       "      <th>GDCD</th>\n",
       "      <th>Hoa</th>\n",
       "      <th>Li</th>\n",
       "      <th>Ngoai_ngu</th>\n",
       "      <th>Sinh</th>\n",
       "      <th>Su</th>\n",
       "      <th>Toan</th>\n",
       "      <th>Van</th>\n",
       "      <th>sbd</th>\n",
       "    </tr>\n",
       "  </thead>\n",
       "  <tbody>\n",
       "    <tr>\n",
       "      <td>0</td>\n",
       "      <td>7.75</td>\n",
       "      <td>8.75</td>\n",
       "      <td>NaN</td>\n",
       "      <td>NaN</td>\n",
       "      <td>7.6</td>\n",
       "      <td>NaN</td>\n",
       "      <td>8.25</td>\n",
       "      <td>8.2</td>\n",
       "      <td>8.00</td>\n",
       "      <td>24008611</td>\n",
       "    </tr>\n",
       "    <tr>\n",
       "      <td>1</td>\n",
       "      <td>NaN</td>\n",
       "      <td>NaN</td>\n",
       "      <td>4.5</td>\n",
       "      <td>8.25</td>\n",
       "      <td>8.0</td>\n",
       "      <td>6.00</td>\n",
       "      <td>NaN</td>\n",
       "      <td>8.6</td>\n",
       "      <td>6.17</td>\n",
       "      <td>51000032</td>\n",
       "    </tr>\n",
       "    <tr>\n",
       "      <td>2</td>\n",
       "      <td>4.25</td>\n",
       "      <td>5.75</td>\n",
       "      <td>NaN</td>\n",
       "      <td>NaN</td>\n",
       "      <td>NaN</td>\n",
       "      <td>NaN</td>\n",
       "      <td>4.00</td>\n",
       "      <td>5.2</td>\n",
       "      <td>4.75</td>\n",
       "      <td>51000005</td>\n",
       "    </tr>\n",
       "    <tr>\n",
       "      <td>3</td>\n",
       "      <td>4.75</td>\n",
       "      <td>5.00</td>\n",
       "      <td>NaN</td>\n",
       "      <td>NaN</td>\n",
       "      <td>NaN</td>\n",
       "      <td>NaN</td>\n",
       "      <td>2.25</td>\n",
       "      <td>4.4</td>\n",
       "      <td>4.50</td>\n",
       "      <td>51000021</td>\n",
       "    </tr>\n",
       "    <tr>\n",
       "      <td>4</td>\n",
       "      <td>8.25</td>\n",
       "      <td>7.50</td>\n",
       "      <td>NaN</td>\n",
       "      <td>NaN</td>\n",
       "      <td>4.4</td>\n",
       "      <td>NaN</td>\n",
       "      <td>7.75</td>\n",
       "      <td>5.8</td>\n",
       "      <td>6.00</td>\n",
       "      <td>51000013</td>\n",
       "    </tr>\n",
       "    <tr>\n",
       "      <td>...</td>\n",
       "      <td>...</td>\n",
       "      <td>...</td>\n",
       "      <td>...</td>\n",
       "      <td>...</td>\n",
       "      <td>...</td>\n",
       "      <td>...</td>\n",
       "      <td>...</td>\n",
       "      <td>...</td>\n",
       "      <td>...</td>\n",
       "      <td>...</td>\n",
       "    </tr>\n",
       "    <tr>\n",
       "      <td>811846</td>\n",
       "      <td>5.75</td>\n",
       "      <td>8.50</td>\n",
       "      <td>NaN</td>\n",
       "      <td>NaN</td>\n",
       "      <td>3.4</td>\n",
       "      <td>NaN</td>\n",
       "      <td>4.50</td>\n",
       "      <td>4.4</td>\n",
       "      <td>4.75</td>\n",
       "      <td>26019104</td>\n",
       "    </tr>\n",
       "    <tr>\n",
       "      <td>811847</td>\n",
       "      <td>NaN</td>\n",
       "      <td>NaN</td>\n",
       "      <td>4.5</td>\n",
       "      <td>3.75</td>\n",
       "      <td>4.4</td>\n",
       "      <td>4.00</td>\n",
       "      <td>NaN</td>\n",
       "      <td>5.2</td>\n",
       "      <td>6.25</td>\n",
       "      <td>26019102</td>\n",
       "    </tr>\n",
       "    <tr>\n",
       "      <td>811848</td>\n",
       "      <td>5.50</td>\n",
       "      <td>8.00</td>\n",
       "      <td>NaN</td>\n",
       "      <td>NaN</td>\n",
       "      <td>2.8</td>\n",
       "      <td>NaN</td>\n",
       "      <td>5.50</td>\n",
       "      <td>2.8</td>\n",
       "      <td>5.00</td>\n",
       "      <td>26019099</td>\n",
       "    </tr>\n",
       "    <tr>\n",
       "      <td>811849</td>\n",
       "      <td>6.75</td>\n",
       "      <td>8.50</td>\n",
       "      <td>NaN</td>\n",
       "      <td>NaN</td>\n",
       "      <td>4.0</td>\n",
       "      <td>NaN</td>\n",
       "      <td>3.50</td>\n",
       "      <td>6.2</td>\n",
       "      <td>7.25</td>\n",
       "      <td>26019101</td>\n",
       "    </tr>\n",
       "    <tr>\n",
       "      <td>811850</td>\n",
       "      <td>NaN</td>\n",
       "      <td>NaN</td>\n",
       "      <td>4.5</td>\n",
       "      <td>5.25</td>\n",
       "      <td>2.2</td>\n",
       "      <td>3.75</td>\n",
       "      <td>NaN</td>\n",
       "      <td>6.4</td>\n",
       "      <td>5.75</td>\n",
       "      <td>26019097</td>\n",
       "    </tr>\n",
       "  </tbody>\n",
       "</table>\n",
       "<p>811851 rows × 10 columns</p>\n",
       "</div>"
      ],
      "text/plain": [
       "         Dia  GDCD  Hoa    Li  Ngoai_ngu  Sinh    Su  Toan   Van       sbd\n",
       "0       7.75  8.75  NaN   NaN        7.6   NaN  8.25   8.2  8.00  24008611\n",
       "1        NaN   NaN  4.5  8.25        8.0  6.00   NaN   8.6  6.17  51000032\n",
       "2       4.25  5.75  NaN   NaN        NaN   NaN  4.00   5.2  4.75  51000005\n",
       "3       4.75  5.00  NaN   NaN        NaN   NaN  2.25   4.4  4.50  51000021\n",
       "4       8.25  7.50  NaN   NaN        4.4   NaN  7.75   5.8  6.00  51000013\n",
       "...      ...   ...  ...   ...        ...   ...   ...   ...   ...       ...\n",
       "811846  5.75  8.50  NaN   NaN        3.4   NaN  4.50   4.4  4.75  26019104\n",
       "811847   NaN   NaN  4.5  3.75        4.4  4.00   NaN   5.2  6.25  26019102\n",
       "811848  5.50  8.00  NaN   NaN        2.8   NaN  5.50   2.8  5.00  26019099\n",
       "811849  6.75  8.50  NaN   NaN        4.0   NaN  3.50   6.2  7.25  26019101\n",
       "811850   NaN   NaN  4.5  5.25        2.2  3.75   NaN   6.4  5.75  26019097\n",
       "\n",
       "[811851 rows x 10 columns]"
      ]
     },
     "execution_count": 6,
     "metadata": {},
     "output_type": "execute_result"
    }
   ],
   "source": [
    "diem2019_df= diem2019_df.drop(diem2019_df.columns[[0,5]], axis=1)\n",
    "diem2019_df"
   ]
  },
  {
   "cell_type": "markdown",
   "metadata": {},
   "source": [
    "#### <ul>Đổi tên các cột cho giống với 2017_df </ul>"
   ]
  },
  {
   "cell_type": "code",
   "execution_count": 7,
   "metadata": {},
   "outputs": [],
   "source": [
    "diem2019_df=diem2019_df.rename(columns={'Dia': 'Địa lí', 'Hoa': 'Hóa học','Li':'Vật lí','Ngoai_ngu':'Ngoại ngữ','Sinh':\n",
    "                       'Sinh học','Su':'Lịch sử','Toan':'Toán','Van':'Ngữ văn','sbd':'SBD'})"
   ]
  },
  {
   "cell_type": "markdown",
   "metadata": {},
   "source": [
    "#### <ul>Thêm hai cột tính điểm KHXH và KHTN của thí sinh</ul>\n",
    "   "
   ]
  },
  {
   "cell_type": "markdown",
   "metadata": {},
   "source": [
    " <ul> KHTN là điểm trung bình của ba môn Hóa học, Vật lí, Sinh học </ul>\n",
    " <ul> KHXH là điểm trung bình của ba môn Địa lí, Lịch sử và GDCD </ul>\n"
   ]
  },
  {
   "cell_type": "code",
   "execution_count": 8,
   "metadata": {},
   "outputs": [],
   "source": [
    "diem2019_df['KHTN']=round((diem2019_df['Hóa học'] + diem2019_df['Vật lí'] + diem2019_df['Sinh học'])/3,2)\n",
    "diem2019_df['KHXH']=round((diem2019_df['Địa lí'] + diem2019_df['Lịch sử'] + diem2019_df['GDCD'])/3,2)"
   ]
  },
  {
   "cell_type": "markdown",
   "metadata": {},
   "source": [
    "#### <ul>Thêm cột Tỉnh Thành</ul>"
   ]
  },
  {
   "cell_type": "markdown",
   "metadata": {},
   "source": [
    "<ul>Tỉnh thành là nơi mà thí sinh đăng kí dự thị, ở Việt Nam với 63 tỉnh thành sẽ có 63 mã tỉnh thành khác nhau tuy nhiên qua các năm mã tỉnh thành sẽ không đổi, nên thay vì tạo một tên mới trong các tỉnh thành thì code của mình sẽ sử dụng chính dữ liệu của năm 2017 để trợ giúp.\n",
    "    <ul>-Đầu tiên mình tạo một biến temp để lưu dataFrame <b>SBD</b> và <b> Tỉnh Thành</b> của năm 2017, về cở bản hai chữu số đầu chính là giá trị đặc trưng cho tỉnh thành đó (ví dụ 47 sẽ là ở Bình Thuận), tuy nhiên SBD đang ở dạng số 8 chữ số nếu lấy hai chữ số đầu sẽ có 1 vấn đề về tỉnh 01 và tỉnh 10 nên mình nghĩ ra 1 cách khá ổn đó chính là lấy số 8 chữ số đó thực hiện chia ${10^6}$ ví dụ như 1234567 chia  ${10^6}$ sẽ được 1 và 1023456 chia ${10^6}$ ra 10 và cơ chế làm tròn chính là dùng hàm floor trong Numpy của Python để lấy phần nguyên </ul>\n",
    "    <ul>-Tiếp đến mình sẽ tạo new_dict để chứa các mã tỉnh và tỉnh thành tương ứng</ul>\n",
    "    <ul>-Sau đó mình tạo một list location chứa mã tỉnh thành theo sbd của thí sinh và tiến hành diệt mà gán giá trị mới, sau đó sẽ thêm cột Tỉnh Thành vào data 2019</ul>\n",
    "</ul>"
   ]
  },
  {
   "cell_type": "code",
   "execution_count": 9,
   "metadata": {},
   "outputs": [
    {
     "data": {
      "text/html": [
       "<div>\n",
       "<style scoped>\n",
       "    .dataframe tbody tr th:only-of-type {\n",
       "        vertical-align: middle;\n",
       "    }\n",
       "\n",
       "    .dataframe tbody tr th {\n",
       "        vertical-align: top;\n",
       "    }\n",
       "\n",
       "    .dataframe thead th {\n",
       "        text-align: right;\n",
       "    }\n",
       "</style>\n",
       "<table border=\"1\" class=\"dataframe\">\n",
       "  <thead>\n",
       "    <tr style=\"text-align: right;\">\n",
       "      <th></th>\n",
       "      <th>Địa lí</th>\n",
       "      <th>GDCD</th>\n",
       "      <th>Hóa học</th>\n",
       "      <th>Vật lí</th>\n",
       "      <th>Ngoại ngữ</th>\n",
       "      <th>Sinh học</th>\n",
       "      <th>Lịch sử</th>\n",
       "      <th>Toán</th>\n",
       "      <th>Ngữ văn</th>\n",
       "      <th>SBD</th>\n",
       "      <th>KHTN</th>\n",
       "      <th>KHXH</th>\n",
       "      <th>Tỉnh Thành</th>\n",
       "    </tr>\n",
       "  </thead>\n",
       "  <tbody>\n",
       "    <tr>\n",
       "      <td>0</td>\n",
       "      <td>7.75</td>\n",
       "      <td>8.75</td>\n",
       "      <td>NaN</td>\n",
       "      <td>NaN</td>\n",
       "      <td>7.6</td>\n",
       "      <td>NaN</td>\n",
       "      <td>8.25</td>\n",
       "      <td>8.2</td>\n",
       "      <td>8.00</td>\n",
       "      <td>24008611</td>\n",
       "      <td>NaN</td>\n",
       "      <td>8.25</td>\n",
       "      <td>Hà Nam</td>\n",
       "    </tr>\n",
       "    <tr>\n",
       "      <td>1</td>\n",
       "      <td>NaN</td>\n",
       "      <td>NaN</td>\n",
       "      <td>4.5</td>\n",
       "      <td>8.25</td>\n",
       "      <td>8.0</td>\n",
       "      <td>6.00</td>\n",
       "      <td>NaN</td>\n",
       "      <td>8.6</td>\n",
       "      <td>6.17</td>\n",
       "      <td>51000032</td>\n",
       "      <td>6.25</td>\n",
       "      <td>NaN</td>\n",
       "      <td>An Giang</td>\n",
       "    </tr>\n",
       "    <tr>\n",
       "      <td>2</td>\n",
       "      <td>4.25</td>\n",
       "      <td>5.75</td>\n",
       "      <td>NaN</td>\n",
       "      <td>NaN</td>\n",
       "      <td>NaN</td>\n",
       "      <td>NaN</td>\n",
       "      <td>4.00</td>\n",
       "      <td>5.2</td>\n",
       "      <td>4.75</td>\n",
       "      <td>51000005</td>\n",
       "      <td>NaN</td>\n",
       "      <td>4.67</td>\n",
       "      <td>An Giang</td>\n",
       "    </tr>\n",
       "    <tr>\n",
       "      <td>3</td>\n",
       "      <td>4.75</td>\n",
       "      <td>5.00</td>\n",
       "      <td>NaN</td>\n",
       "      <td>NaN</td>\n",
       "      <td>NaN</td>\n",
       "      <td>NaN</td>\n",
       "      <td>2.25</td>\n",
       "      <td>4.4</td>\n",
       "      <td>4.50</td>\n",
       "      <td>51000021</td>\n",
       "      <td>NaN</td>\n",
       "      <td>4.00</td>\n",
       "      <td>An Giang</td>\n",
       "    </tr>\n",
       "    <tr>\n",
       "      <td>4</td>\n",
       "      <td>8.25</td>\n",
       "      <td>7.50</td>\n",
       "      <td>NaN</td>\n",
       "      <td>NaN</td>\n",
       "      <td>4.4</td>\n",
       "      <td>NaN</td>\n",
       "      <td>7.75</td>\n",
       "      <td>5.8</td>\n",
       "      <td>6.00</td>\n",
       "      <td>51000013</td>\n",
       "      <td>NaN</td>\n",
       "      <td>7.83</td>\n",
       "      <td>An Giang</td>\n",
       "    </tr>\n",
       "    <tr>\n",
       "      <td>...</td>\n",
       "      <td>...</td>\n",
       "      <td>...</td>\n",
       "      <td>...</td>\n",
       "      <td>...</td>\n",
       "      <td>...</td>\n",
       "      <td>...</td>\n",
       "      <td>...</td>\n",
       "      <td>...</td>\n",
       "      <td>...</td>\n",
       "      <td>...</td>\n",
       "      <td>...</td>\n",
       "      <td>...</td>\n",
       "      <td>...</td>\n",
       "    </tr>\n",
       "    <tr>\n",
       "      <td>811846</td>\n",
       "      <td>5.75</td>\n",
       "      <td>8.50</td>\n",
       "      <td>NaN</td>\n",
       "      <td>NaN</td>\n",
       "      <td>3.4</td>\n",
       "      <td>NaN</td>\n",
       "      <td>4.50</td>\n",
       "      <td>4.4</td>\n",
       "      <td>4.75</td>\n",
       "      <td>26019104</td>\n",
       "      <td>NaN</td>\n",
       "      <td>6.25</td>\n",
       "      <td>Thái Bình</td>\n",
       "    </tr>\n",
       "    <tr>\n",
       "      <td>811847</td>\n",
       "      <td>NaN</td>\n",
       "      <td>NaN</td>\n",
       "      <td>4.5</td>\n",
       "      <td>3.75</td>\n",
       "      <td>4.4</td>\n",
       "      <td>4.00</td>\n",
       "      <td>NaN</td>\n",
       "      <td>5.2</td>\n",
       "      <td>6.25</td>\n",
       "      <td>26019102</td>\n",
       "      <td>4.08</td>\n",
       "      <td>NaN</td>\n",
       "      <td>Thái Bình</td>\n",
       "    </tr>\n",
       "    <tr>\n",
       "      <td>811848</td>\n",
       "      <td>5.50</td>\n",
       "      <td>8.00</td>\n",
       "      <td>NaN</td>\n",
       "      <td>NaN</td>\n",
       "      <td>2.8</td>\n",
       "      <td>NaN</td>\n",
       "      <td>5.50</td>\n",
       "      <td>2.8</td>\n",
       "      <td>5.00</td>\n",
       "      <td>26019099</td>\n",
       "      <td>NaN</td>\n",
       "      <td>6.33</td>\n",
       "      <td>Thái Bình</td>\n",
       "    </tr>\n",
       "    <tr>\n",
       "      <td>811849</td>\n",
       "      <td>6.75</td>\n",
       "      <td>8.50</td>\n",
       "      <td>NaN</td>\n",
       "      <td>NaN</td>\n",
       "      <td>4.0</td>\n",
       "      <td>NaN</td>\n",
       "      <td>3.50</td>\n",
       "      <td>6.2</td>\n",
       "      <td>7.25</td>\n",
       "      <td>26019101</td>\n",
       "      <td>NaN</td>\n",
       "      <td>6.25</td>\n",
       "      <td>Thái Bình</td>\n",
       "    </tr>\n",
       "    <tr>\n",
       "      <td>811850</td>\n",
       "      <td>NaN</td>\n",
       "      <td>NaN</td>\n",
       "      <td>4.5</td>\n",
       "      <td>5.25</td>\n",
       "      <td>2.2</td>\n",
       "      <td>3.75</td>\n",
       "      <td>NaN</td>\n",
       "      <td>6.4</td>\n",
       "      <td>5.75</td>\n",
       "      <td>26019097</td>\n",
       "      <td>4.50</td>\n",
       "      <td>NaN</td>\n",
       "      <td>Thái Bình</td>\n",
       "    </tr>\n",
       "  </tbody>\n",
       "</table>\n",
       "<p>811851 rows × 13 columns</p>\n",
       "</div>"
      ],
      "text/plain": [
       "        Địa lí  GDCD  Hóa học  Vật lí  Ngoại ngữ  Sinh học  Lịch sử  Toán  \\\n",
       "0         7.75  8.75      NaN     NaN        7.6       NaN     8.25   8.2   \n",
       "1          NaN   NaN      4.5    8.25        8.0      6.00      NaN   8.6   \n",
       "2         4.25  5.75      NaN     NaN        NaN       NaN     4.00   5.2   \n",
       "3         4.75  5.00      NaN     NaN        NaN       NaN     2.25   4.4   \n",
       "4         8.25  7.50      NaN     NaN        4.4       NaN     7.75   5.8   \n",
       "...        ...   ...      ...     ...        ...       ...      ...   ...   \n",
       "811846    5.75  8.50      NaN     NaN        3.4       NaN     4.50   4.4   \n",
       "811847     NaN   NaN      4.5    3.75        4.4      4.00      NaN   5.2   \n",
       "811848    5.50  8.00      NaN     NaN        2.8       NaN     5.50   2.8   \n",
       "811849    6.75  8.50      NaN     NaN        4.0       NaN     3.50   6.2   \n",
       "811850     NaN   NaN      4.5    5.25        2.2      3.75      NaN   6.4   \n",
       "\n",
       "        Ngữ văn       SBD  KHTN  KHXH Tỉnh Thành  \n",
       "0          8.00  24008611   NaN  8.25     Hà Nam  \n",
       "1          6.17  51000032  6.25   NaN   An Giang  \n",
       "2          4.75  51000005   NaN  4.67   An Giang  \n",
       "3          4.50  51000021   NaN  4.00   An Giang  \n",
       "4          6.00  51000013   NaN  7.83   An Giang  \n",
       "...         ...       ...   ...   ...        ...  \n",
       "811846     4.75  26019104   NaN  6.25  Thái Bình  \n",
       "811847     6.25  26019102  4.08   NaN  Thái Bình  \n",
       "811848     5.00  26019099   NaN  6.33  Thái Bình  \n",
       "811849     7.25  26019101   NaN  6.25  Thái Bình  \n",
       "811850     5.75  26019097  4.50   NaN  Thái Bình  \n",
       "\n",
       "[811851 rows x 13 columns]"
      ]
     },
     "execution_count": 9,
     "metadata": {},
     "output_type": "execute_result"
    }
   ],
   "source": [
    "#Tạo dict các tỉnh thoe mã tỉnh\n",
    "temp=diem2017_df[['SBD','Tỉnh Thành']].copy()\n",
    "temp['SBD']=np.floor((temp['SBD']/10**6))\n",
    "new_dict = dict(zip(temp['SBD'].unique(), temp['Tỉnh Thành'].unique()))\n",
    "location= []\n",
    "location = np.floor(diem2019_df['SBD']/10**6)\n",
    "locaion=location.astype(int)\n",
    "for i in range(len(location)):\n",
    "    location[i]=new_dict[location[i]]\n",
    "diem2019_df['Tỉnh Thành']=location\n",
    "diem2019_df"
   ]
  },
  {
   "cell_type": "markdown",
   "metadata": {},
   "source": [
    "#### Làm thứ tự cột theo trình tự như năm 2017 cho dễ nhìn"
   ]
  },
  {
   "cell_type": "code",
   "execution_count": 10,
   "metadata": {},
   "outputs": [
    {
     "data": {
      "text/html": [
       "<div>\n",
       "<style scoped>\n",
       "    .dataframe tbody tr th:only-of-type {\n",
       "        vertical-align: middle;\n",
       "    }\n",
       "\n",
       "    .dataframe tbody tr th {\n",
       "        vertical-align: top;\n",
       "    }\n",
       "\n",
       "    .dataframe thead th {\n",
       "        text-align: right;\n",
       "    }\n",
       "</style>\n",
       "<table border=\"1\" class=\"dataframe\">\n",
       "  <thead>\n",
       "    <tr style=\"text-align: right;\">\n",
       "      <th></th>\n",
       "      <th>SBD</th>\n",
       "      <th>Tỉnh Thành</th>\n",
       "      <th>Toán</th>\n",
       "      <th>Ngữ văn</th>\n",
       "      <th>Vật lí</th>\n",
       "      <th>Hóa học</th>\n",
       "      <th>Sinh học</th>\n",
       "      <th>KHTN</th>\n",
       "      <th>Lịch sử</th>\n",
       "      <th>Địa lí</th>\n",
       "      <th>GDCD</th>\n",
       "      <th>KHXH</th>\n",
       "      <th>Ngoại ngữ</th>\n",
       "    </tr>\n",
       "  </thead>\n",
       "  <tbody>\n",
       "    <tr>\n",
       "      <td>0</td>\n",
       "      <td>24008611</td>\n",
       "      <td>Hà Nam</td>\n",
       "      <td>8.2</td>\n",
       "      <td>8.00</td>\n",
       "      <td>NaN</td>\n",
       "      <td>NaN</td>\n",
       "      <td>NaN</td>\n",
       "      <td>NaN</td>\n",
       "      <td>8.25</td>\n",
       "      <td>7.75</td>\n",
       "      <td>8.75</td>\n",
       "      <td>8.25</td>\n",
       "      <td>7.6</td>\n",
       "    </tr>\n",
       "    <tr>\n",
       "      <td>1</td>\n",
       "      <td>51000032</td>\n",
       "      <td>An Giang</td>\n",
       "      <td>8.6</td>\n",
       "      <td>6.17</td>\n",
       "      <td>8.25</td>\n",
       "      <td>4.5</td>\n",
       "      <td>6.00</td>\n",
       "      <td>6.25</td>\n",
       "      <td>NaN</td>\n",
       "      <td>NaN</td>\n",
       "      <td>NaN</td>\n",
       "      <td>NaN</td>\n",
       "      <td>8.0</td>\n",
       "    </tr>\n",
       "    <tr>\n",
       "      <td>2</td>\n",
       "      <td>51000005</td>\n",
       "      <td>An Giang</td>\n",
       "      <td>5.2</td>\n",
       "      <td>4.75</td>\n",
       "      <td>NaN</td>\n",
       "      <td>NaN</td>\n",
       "      <td>NaN</td>\n",
       "      <td>NaN</td>\n",
       "      <td>4.00</td>\n",
       "      <td>4.25</td>\n",
       "      <td>5.75</td>\n",
       "      <td>4.67</td>\n",
       "      <td>NaN</td>\n",
       "    </tr>\n",
       "    <tr>\n",
       "      <td>3</td>\n",
       "      <td>51000021</td>\n",
       "      <td>An Giang</td>\n",
       "      <td>4.4</td>\n",
       "      <td>4.50</td>\n",
       "      <td>NaN</td>\n",
       "      <td>NaN</td>\n",
       "      <td>NaN</td>\n",
       "      <td>NaN</td>\n",
       "      <td>2.25</td>\n",
       "      <td>4.75</td>\n",
       "      <td>5.00</td>\n",
       "      <td>4.00</td>\n",
       "      <td>NaN</td>\n",
       "    </tr>\n",
       "    <tr>\n",
       "      <td>4</td>\n",
       "      <td>51000013</td>\n",
       "      <td>An Giang</td>\n",
       "      <td>5.8</td>\n",
       "      <td>6.00</td>\n",
       "      <td>NaN</td>\n",
       "      <td>NaN</td>\n",
       "      <td>NaN</td>\n",
       "      <td>NaN</td>\n",
       "      <td>7.75</td>\n",
       "      <td>8.25</td>\n",
       "      <td>7.50</td>\n",
       "      <td>7.83</td>\n",
       "      <td>4.4</td>\n",
       "    </tr>\n",
       "    <tr>\n",
       "      <td>...</td>\n",
       "      <td>...</td>\n",
       "      <td>...</td>\n",
       "      <td>...</td>\n",
       "      <td>...</td>\n",
       "      <td>...</td>\n",
       "      <td>...</td>\n",
       "      <td>...</td>\n",
       "      <td>...</td>\n",
       "      <td>...</td>\n",
       "      <td>...</td>\n",
       "      <td>...</td>\n",
       "      <td>...</td>\n",
       "      <td>...</td>\n",
       "    </tr>\n",
       "    <tr>\n",
       "      <td>811846</td>\n",
       "      <td>26019104</td>\n",
       "      <td>Thái Bình</td>\n",
       "      <td>4.4</td>\n",
       "      <td>4.75</td>\n",
       "      <td>NaN</td>\n",
       "      <td>NaN</td>\n",
       "      <td>NaN</td>\n",
       "      <td>NaN</td>\n",
       "      <td>4.50</td>\n",
       "      <td>5.75</td>\n",
       "      <td>8.50</td>\n",
       "      <td>6.25</td>\n",
       "      <td>3.4</td>\n",
       "    </tr>\n",
       "    <tr>\n",
       "      <td>811847</td>\n",
       "      <td>26019102</td>\n",
       "      <td>Thái Bình</td>\n",
       "      <td>5.2</td>\n",
       "      <td>6.25</td>\n",
       "      <td>3.75</td>\n",
       "      <td>4.5</td>\n",
       "      <td>4.00</td>\n",
       "      <td>4.08</td>\n",
       "      <td>NaN</td>\n",
       "      <td>NaN</td>\n",
       "      <td>NaN</td>\n",
       "      <td>NaN</td>\n",
       "      <td>4.4</td>\n",
       "    </tr>\n",
       "    <tr>\n",
       "      <td>811848</td>\n",
       "      <td>26019099</td>\n",
       "      <td>Thái Bình</td>\n",
       "      <td>2.8</td>\n",
       "      <td>5.00</td>\n",
       "      <td>NaN</td>\n",
       "      <td>NaN</td>\n",
       "      <td>NaN</td>\n",
       "      <td>NaN</td>\n",
       "      <td>5.50</td>\n",
       "      <td>5.50</td>\n",
       "      <td>8.00</td>\n",
       "      <td>6.33</td>\n",
       "      <td>2.8</td>\n",
       "    </tr>\n",
       "    <tr>\n",
       "      <td>811849</td>\n",
       "      <td>26019101</td>\n",
       "      <td>Thái Bình</td>\n",
       "      <td>6.2</td>\n",
       "      <td>7.25</td>\n",
       "      <td>NaN</td>\n",
       "      <td>NaN</td>\n",
       "      <td>NaN</td>\n",
       "      <td>NaN</td>\n",
       "      <td>3.50</td>\n",
       "      <td>6.75</td>\n",
       "      <td>8.50</td>\n",
       "      <td>6.25</td>\n",
       "      <td>4.0</td>\n",
       "    </tr>\n",
       "    <tr>\n",
       "      <td>811850</td>\n",
       "      <td>26019097</td>\n",
       "      <td>Thái Bình</td>\n",
       "      <td>6.4</td>\n",
       "      <td>5.75</td>\n",
       "      <td>5.25</td>\n",
       "      <td>4.5</td>\n",
       "      <td>3.75</td>\n",
       "      <td>4.50</td>\n",
       "      <td>NaN</td>\n",
       "      <td>NaN</td>\n",
       "      <td>NaN</td>\n",
       "      <td>NaN</td>\n",
       "      <td>2.2</td>\n",
       "    </tr>\n",
       "  </tbody>\n",
       "</table>\n",
       "<p>811851 rows × 13 columns</p>\n",
       "</div>"
      ],
      "text/plain": [
       "             SBD Tỉnh Thành  Toán  Ngữ văn  Vật lí  Hóa học  Sinh học  KHTN  \\\n",
       "0       24008611     Hà Nam   8.2     8.00     NaN      NaN       NaN   NaN   \n",
       "1       51000032   An Giang   8.6     6.17    8.25      4.5      6.00  6.25   \n",
       "2       51000005   An Giang   5.2     4.75     NaN      NaN       NaN   NaN   \n",
       "3       51000021   An Giang   4.4     4.50     NaN      NaN       NaN   NaN   \n",
       "4       51000013   An Giang   5.8     6.00     NaN      NaN       NaN   NaN   \n",
       "...          ...        ...   ...      ...     ...      ...       ...   ...   \n",
       "811846  26019104  Thái Bình   4.4     4.75     NaN      NaN       NaN   NaN   \n",
       "811847  26019102  Thái Bình   5.2     6.25    3.75      4.5      4.00  4.08   \n",
       "811848  26019099  Thái Bình   2.8     5.00     NaN      NaN       NaN   NaN   \n",
       "811849  26019101  Thái Bình   6.2     7.25     NaN      NaN       NaN   NaN   \n",
       "811850  26019097  Thái Bình   6.4     5.75    5.25      4.5      3.75  4.50   \n",
       "\n",
       "        Lịch sử  Địa lí  GDCD  KHXH  Ngoại ngữ  \n",
       "0          8.25    7.75  8.75  8.25        7.6  \n",
       "1           NaN     NaN   NaN   NaN        8.0  \n",
       "2          4.00    4.25  5.75  4.67        NaN  \n",
       "3          2.25    4.75  5.00  4.00        NaN  \n",
       "4          7.75    8.25  7.50  7.83        4.4  \n",
       "...         ...     ...   ...   ...        ...  \n",
       "811846     4.50    5.75  8.50  6.25        3.4  \n",
       "811847      NaN     NaN   NaN   NaN        4.4  \n",
       "811848     5.50    5.50  8.00  6.33        2.8  \n",
       "811849     3.50    6.75  8.50  6.25        4.0  \n",
       "811850      NaN     NaN   NaN   NaN        2.2  \n",
       "\n",
       "[811851 rows x 13 columns]"
      ]
     },
     "execution_count": 10,
     "metadata": {},
     "output_type": "execute_result"
    }
   ],
   "source": [
    "diem2019_df = pd.DataFrame({'SBD':diem2019_df['SBD'],'Tỉnh Thành':diem2019_df['Tỉnh Thành'],'Toán':diem2019_df['Toán'],\n",
    "                           'Ngữ văn':diem2019_df['Ngữ văn'],'Vật lí':diem2019_df['Vật lí'],'Hóa học':diem2019_df['Hóa học'],\n",
    "                           'Sinh học':diem2019_df['Sinh học'],'KHTN':diem2019_df['KHTN'],'Lịch sử':diem2019_df['Lịch sử'],\n",
    "                           'Địa lí': diem2019_df['Địa lí'],'GDCD':diem2019_df['GDCD'],'KHXH':diem2019_df['KHXH'],\n",
    "                           'Ngoại ngữ':diem2019_df['Ngoại ngữ']})\n",
    "diem2019_df"
   ]
  },
  {
   "cell_type": "code",
   "execution_count": 24,
   "metadata": {},
   "outputs": [
    {
     "data": {
      "text/plain": [
       "[1.0,\n",
       " 2.0,\n",
       " 3.0,\n",
       " 4.0,\n",
       " 5.0,\n",
       " 6.0,\n",
       " 7.0,\n",
       " 8.0,\n",
       " 9.0,\n",
       " 10.0,\n",
       " 11.0,\n",
       " 12.0,\n",
       " 13.0,\n",
       " 14.0,\n",
       " 15.0,\n",
       " 16.0,\n",
       " 17.0,\n",
       " 18.0,\n",
       " 19.0,\n",
       " 21.0,\n",
       " 22.0,\n",
       " 23.0,\n",
       " 24.0,\n",
       " 25.0,\n",
       " 26.0,\n",
       " 27.0,\n",
       " 28.0,\n",
       " 29.0,\n",
       " 30.0,\n",
       " 31.0,\n",
       " 32.0,\n",
       " 33.0,\n",
       " 34.0,\n",
       " 35.0,\n",
       " 36.0,\n",
       " 37.0,\n",
       " 38.0,\n",
       " 39.0,\n",
       " 40.0,\n",
       " 41.0,\n",
       " 42.0,\n",
       " 43.0,\n",
       " 44.0,\n",
       " 45.0,\n",
       " 46.0,\n",
       " 47.0,\n",
       " 48.0,\n",
       " 49.0,\n",
       " 50.0,\n",
       " 51.0,\n",
       " 52.0,\n",
       " 53.0,\n",
       " 54.0,\n",
       " 55.0,\n",
       " 56.0,\n",
       " 57.0,\n",
       " 58.0,\n",
       " 59.0,\n",
       " 60.0,\n",
       " 61.0,\n",
       " 62.0,\n",
       " 63.0,\n",
       " 64.0]"
      ]
     },
     "execution_count": 24,
     "metadata": {},
     "output_type": "execute_result"
    }
   ],
   "source": [
    "sorted(new_dict)"
   ]
  },
  {
   "cell_type": "markdown",
   "metadata": {},
   "source": [
    "<h4> <u>Nhận xét: </u> Tạo sao không có mã tỉnh là 20 nhỉ ??? </h4>"
   ]
  },
  {
   "cell_type": "markdown",
   "metadata": {},
   "source": [
    "## C. ĐẶT CÂU HỎI"
   ]
  },
  {
   "cell_type": "markdown",
   "metadata": {},
   "source": [
    "<ul>Xung quanh điểm thi THPT mỗi năm luôn có vô vàn câu hỏi được đặt ra và bộ dữ liệu trên là một điều thật hay ho để khám phá, vậy chúng ta thử đặt vài câu hỏi để trả lời thông qua việc phân tích dữ liệu thử xem </ul>"
   ]
  },
  {
   "cell_type": "markdown",
   "metadata": {},
   "source": [
    "### <ul><u>Câu hỏi 1:</u> Một việc hết sức được cộng đồng quan tâm đó là chất lượng giáo dục trong những năm gần đây, vậy mình cũng trả lời tỉnh thành nào mạnh hay yếu về môn nào thôi </ul>"
   ]
  },
  {
   "cell_type": "markdown",
   "metadata": {},
   "source": [
    "### <ul> <u>Câu hỏi 2:</u> Năm 2017 được xem là năm mà đề dễ hơn nhiều so với năm 2019, vậy thử tìm hiểu xem đề năm nào dễ hơn và dễ để tốt nghiệp hay dễ để đậu đại học </ul>"
   ]
  },
  {
   "cell_type": "markdown",
   "metadata": {},
   "source": [
    "### <ul><u>Câu hỏi 3:</u> Mình có thể dự đoán được điểm chuẩn năm 2019 tăng hay giảm và những cơ hội từ phổ điểm theo khối?</ul>"
   ]
  },
  {
   "cell_type": "markdown",
   "metadata": {},
   "source": [
    "### D.PHÂN TÍCH DỮ LIỆU VÀ TÌM RA LỜI GIẢI"
   ]
  },
  {
   "cell_type": "markdown",
   "metadata": {},
   "source": [
    "### <ul> <u>Câu hỏi 1:</u> Một việc hết sức được cộng đồng quan tâm đó là chất lượng giáo dục trong những năm gần đây, vậy mình cũng trả lời tỉnh thành nào mạnh hay yếu về môn nào thôi </ul>"
   ]
  },
  {
   "cell_type": "markdown",
   "metadata": {},
   "source": [
    "<ul>\n",
    "    <b>Trước khi trả lời câu hỏi này thì chúng ta thử xem câu này có ý nghĩa như thế nào? </b>\n",
    "    <ul>\n",
    "        Theo nhiều đánh giá thì điểm số không thể nói ra hết những gì mà chúng ta đã có, tuy nhiên cũng gần đúng nếu nó được khách quan, nên sẽ đánh giá được tỉnh nào mạnh về môn nào và yếu về môn nào rồi chúng ta sẽ tìm hiểu dần nguyên nhân vì sao lại như thế để có cách khác phục như là chuyển công tác của các giáo viện ở đó hay giúp giáo viên nâng cao chuyên môn hoặc có thể nâng cao cơ sở vật chất\n",
    "    </ul>\n",
    "</ul>\n",
    "<ul>\n",
    "    <b>Vậy chúng ta đánh giá bằng cách nào đây?</b>\n",
    "    <ul>\n",
    "        Có bộ hai dữ liệu là năm 2017 và 2019, việc chúng ta phân tích một năm quá khứ quá xa thì không mang lại ý nghĩa gì lờn lao nên trong phạm vi cho phép thì đồ án này sẽ phân tích dữ liệu năm 2019 ở các tỉnh thành để cãi thiện chất lượng tốt hơn\n",
    "        <ul>\n",
    "        <li> điểm thi tốt nghiệp trung bình cao nhất, thấp nhất </li>\n",
    "        <li> 5 tỉnh thành có số thí sinh liệt cao nhất theo từng môn thi </li>\n",
    "        <li> 5 tỉnh thành có số thí sinh đạt trên 8 điểm </li>\n",
    "        </ul>\n",
    "    </ul>\n",
    "</ul>"
   ]
  },
  {
   "cell_type": "markdown",
   "metadata": {},
   "source": [
    "<ul> Vì mình không có điểm cộng, điểm ưu tiên, điểm học bạ năm 12 nên việc tính điểm tốt nghiệp sẽ tính bằng tổng trung bình  4 bài thi của thí sinh: Toán, Ngữ văn, Ngoại ngữ và 1 trong 2 bài KHTN và KHXH, sẽ có những thí sinh tự do, tuy nhiên việc tính điểm trung bình của họ sẽ không có ý nghĩa vì họ đã tốt nghiệp rồi nên mình sẽ bỏ qua những người thiếu 1 trong 4 cột điểm trên</ul>"
   ]
  },
  {
   "cell_type": "markdown",
   "metadata": {},
   "source": [
    "<ull><ul><b>Tính điểm tốt nghiệp</b></ul></ul>"
   ]
  },
  {
   "cell_type": "markdown",
   "metadata": {},
   "source": [
    "<ul>Tính điểm tốt nghiệp theo công thức trung bình 4 môn (Toán, Ngữ văn, Ngoại ngữ) và lấy điểm cao nhất trong 2 tổ hợp KHTN và KHXH</ul>"
   ]
  },
  {
   "cell_type": "code",
   "execution_count": 25,
   "metadata": {},
   "outputs": [
    {
     "data": {
      "text/html": [
       "<div>\n",
       "<style scoped>\n",
       "    .dataframe tbody tr th:only-of-type {\n",
       "        vertical-align: middle;\n",
       "    }\n",
       "\n",
       "    .dataframe tbody tr th {\n",
       "        vertical-align: top;\n",
       "    }\n",
       "\n",
       "    .dataframe thead th {\n",
       "        text-align: right;\n",
       "    }\n",
       "</style>\n",
       "<table border=\"1\" class=\"dataframe\">\n",
       "  <thead>\n",
       "    <tr style=\"text-align: right;\">\n",
       "      <th></th>\n",
       "      <th>SBD</th>\n",
       "      <th>Tỉnh Thành</th>\n",
       "      <th>Toán</th>\n",
       "      <th>Ngữ văn</th>\n",
       "      <th>Vật lí</th>\n",
       "      <th>Hóa học</th>\n",
       "      <th>Sinh học</th>\n",
       "      <th>KHTN</th>\n",
       "      <th>Lịch sử</th>\n",
       "      <th>Địa lí</th>\n",
       "      <th>GDCD</th>\n",
       "      <th>KHXH</th>\n",
       "      <th>Ngoại ngữ</th>\n",
       "      <th>Điểm tốt nghiệp</th>\n",
       "    </tr>\n",
       "  </thead>\n",
       "  <tbody>\n",
       "    <tr>\n",
       "      <td>0</td>\n",
       "      <td>24008611</td>\n",
       "      <td>Hà Nam</td>\n",
       "      <td>8.2</td>\n",
       "      <td>8.00</td>\n",
       "      <td>NaN</td>\n",
       "      <td>NaN</td>\n",
       "      <td>NaN</td>\n",
       "      <td>NaN</td>\n",
       "      <td>8.25</td>\n",
       "      <td>7.75</td>\n",
       "      <td>8.75</td>\n",
       "      <td>8.25</td>\n",
       "      <td>7.6</td>\n",
       "      <td>8.0125</td>\n",
       "    </tr>\n",
       "    <tr>\n",
       "      <td>1</td>\n",
       "      <td>51000032</td>\n",
       "      <td>An Giang</td>\n",
       "      <td>8.6</td>\n",
       "      <td>6.17</td>\n",
       "      <td>8.25</td>\n",
       "      <td>4.5</td>\n",
       "      <td>6.00</td>\n",
       "      <td>6.25</td>\n",
       "      <td>NaN</td>\n",
       "      <td>NaN</td>\n",
       "      <td>NaN</td>\n",
       "      <td>NaN</td>\n",
       "      <td>8.0</td>\n",
       "      <td>7.2550</td>\n",
       "    </tr>\n",
       "    <tr>\n",
       "      <td>2</td>\n",
       "      <td>51000005</td>\n",
       "      <td>An Giang</td>\n",
       "      <td>5.2</td>\n",
       "      <td>4.75</td>\n",
       "      <td>NaN</td>\n",
       "      <td>NaN</td>\n",
       "      <td>NaN</td>\n",
       "      <td>NaN</td>\n",
       "      <td>4.00</td>\n",
       "      <td>4.25</td>\n",
       "      <td>5.75</td>\n",
       "      <td>4.67</td>\n",
       "      <td>NaN</td>\n",
       "      <td>NaN</td>\n",
       "    </tr>\n",
       "    <tr>\n",
       "      <td>3</td>\n",
       "      <td>51000021</td>\n",
       "      <td>An Giang</td>\n",
       "      <td>4.4</td>\n",
       "      <td>4.50</td>\n",
       "      <td>NaN</td>\n",
       "      <td>NaN</td>\n",
       "      <td>NaN</td>\n",
       "      <td>NaN</td>\n",
       "      <td>2.25</td>\n",
       "      <td>4.75</td>\n",
       "      <td>5.00</td>\n",
       "      <td>4.00</td>\n",
       "      <td>NaN</td>\n",
       "      <td>NaN</td>\n",
       "    </tr>\n",
       "    <tr>\n",
       "      <td>4</td>\n",
       "      <td>51000013</td>\n",
       "      <td>An Giang</td>\n",
       "      <td>5.8</td>\n",
       "      <td>6.00</td>\n",
       "      <td>NaN</td>\n",
       "      <td>NaN</td>\n",
       "      <td>NaN</td>\n",
       "      <td>NaN</td>\n",
       "      <td>7.75</td>\n",
       "      <td>8.25</td>\n",
       "      <td>7.50</td>\n",
       "      <td>7.83</td>\n",
       "      <td>4.4</td>\n",
       "      <td>6.0075</td>\n",
       "    </tr>\n",
       "    <tr>\n",
       "      <td>...</td>\n",
       "      <td>...</td>\n",
       "      <td>...</td>\n",
       "      <td>...</td>\n",
       "      <td>...</td>\n",
       "      <td>...</td>\n",
       "      <td>...</td>\n",
       "      <td>...</td>\n",
       "      <td>...</td>\n",
       "      <td>...</td>\n",
       "      <td>...</td>\n",
       "      <td>...</td>\n",
       "      <td>...</td>\n",
       "      <td>...</td>\n",
       "      <td>...</td>\n",
       "    </tr>\n",
       "    <tr>\n",
       "      <td>811846</td>\n",
       "      <td>26019104</td>\n",
       "      <td>Thái Bình</td>\n",
       "      <td>4.4</td>\n",
       "      <td>4.75</td>\n",
       "      <td>NaN</td>\n",
       "      <td>NaN</td>\n",
       "      <td>NaN</td>\n",
       "      <td>NaN</td>\n",
       "      <td>4.50</td>\n",
       "      <td>5.75</td>\n",
       "      <td>8.50</td>\n",
       "      <td>6.25</td>\n",
       "      <td>3.4</td>\n",
       "      <td>4.7000</td>\n",
       "    </tr>\n",
       "    <tr>\n",
       "      <td>811847</td>\n",
       "      <td>26019102</td>\n",
       "      <td>Thái Bình</td>\n",
       "      <td>5.2</td>\n",
       "      <td>6.25</td>\n",
       "      <td>3.75</td>\n",
       "      <td>4.5</td>\n",
       "      <td>4.00</td>\n",
       "      <td>4.08</td>\n",
       "      <td>NaN</td>\n",
       "      <td>NaN</td>\n",
       "      <td>NaN</td>\n",
       "      <td>NaN</td>\n",
       "      <td>4.4</td>\n",
       "      <td>4.9825</td>\n",
       "    </tr>\n",
       "    <tr>\n",
       "      <td>811848</td>\n",
       "      <td>26019099</td>\n",
       "      <td>Thái Bình</td>\n",
       "      <td>2.8</td>\n",
       "      <td>5.00</td>\n",
       "      <td>NaN</td>\n",
       "      <td>NaN</td>\n",
       "      <td>NaN</td>\n",
       "      <td>NaN</td>\n",
       "      <td>5.50</td>\n",
       "      <td>5.50</td>\n",
       "      <td>8.00</td>\n",
       "      <td>6.33</td>\n",
       "      <td>2.8</td>\n",
       "      <td>4.2325</td>\n",
       "    </tr>\n",
       "    <tr>\n",
       "      <td>811849</td>\n",
       "      <td>26019101</td>\n",
       "      <td>Thái Bình</td>\n",
       "      <td>6.2</td>\n",
       "      <td>7.25</td>\n",
       "      <td>NaN</td>\n",
       "      <td>NaN</td>\n",
       "      <td>NaN</td>\n",
       "      <td>NaN</td>\n",
       "      <td>3.50</td>\n",
       "      <td>6.75</td>\n",
       "      <td>8.50</td>\n",
       "      <td>6.25</td>\n",
       "      <td>4.0</td>\n",
       "      <td>5.9250</td>\n",
       "    </tr>\n",
       "    <tr>\n",
       "      <td>811850</td>\n",
       "      <td>26019097</td>\n",
       "      <td>Thái Bình</td>\n",
       "      <td>6.4</td>\n",
       "      <td>5.75</td>\n",
       "      <td>5.25</td>\n",
       "      <td>4.5</td>\n",
       "      <td>3.75</td>\n",
       "      <td>4.50</td>\n",
       "      <td>NaN</td>\n",
       "      <td>NaN</td>\n",
       "      <td>NaN</td>\n",
       "      <td>NaN</td>\n",
       "      <td>2.2</td>\n",
       "      <td>4.7125</td>\n",
       "    </tr>\n",
       "  </tbody>\n",
       "</table>\n",
       "<p>811851 rows × 14 columns</p>\n",
       "</div>"
      ],
      "text/plain": [
       "             SBD Tỉnh Thành  Toán  Ngữ văn  Vật lí  Hóa học  Sinh học  KHTN  \\\n",
       "0       24008611     Hà Nam   8.2     8.00     NaN      NaN       NaN   NaN   \n",
       "1       51000032   An Giang   8.6     6.17    8.25      4.5      6.00  6.25   \n",
       "2       51000005   An Giang   5.2     4.75     NaN      NaN       NaN   NaN   \n",
       "3       51000021   An Giang   4.4     4.50     NaN      NaN       NaN   NaN   \n",
       "4       51000013   An Giang   5.8     6.00     NaN      NaN       NaN   NaN   \n",
       "...          ...        ...   ...      ...     ...      ...       ...   ...   \n",
       "811846  26019104  Thái Bình   4.4     4.75     NaN      NaN       NaN   NaN   \n",
       "811847  26019102  Thái Bình   5.2     6.25    3.75      4.5      4.00  4.08   \n",
       "811848  26019099  Thái Bình   2.8     5.00     NaN      NaN       NaN   NaN   \n",
       "811849  26019101  Thái Bình   6.2     7.25     NaN      NaN       NaN   NaN   \n",
       "811850  26019097  Thái Bình   6.4     5.75    5.25      4.5      3.75  4.50   \n",
       "\n",
       "        Lịch sử  Địa lí  GDCD  KHXH  Ngoại ngữ  Điểm tốt nghiệp  \n",
       "0          8.25    7.75  8.75  8.25        7.6           8.0125  \n",
       "1           NaN     NaN   NaN   NaN        8.0           7.2550  \n",
       "2          4.00    4.25  5.75  4.67        NaN              NaN  \n",
       "3          2.25    4.75  5.00  4.00        NaN              NaN  \n",
       "4          7.75    8.25  7.50  7.83        4.4           6.0075  \n",
       "...         ...     ...   ...   ...        ...              ...  \n",
       "811846     4.50    5.75  8.50  6.25        3.4           4.7000  \n",
       "811847      NaN     NaN   NaN   NaN        4.4           4.9825  \n",
       "811848     5.50    5.50  8.00  6.33        2.8           4.2325  \n",
       "811849     3.50    6.75  8.50  6.25        4.0           5.9250  \n",
       "811850      NaN     NaN   NaN   NaN        2.2           4.7125  \n",
       "\n",
       "[811851 rows x 14 columns]"
      ]
     },
     "execution_count": 25,
     "metadata": {},
     "output_type": "execute_result"
    }
   ],
   "source": [
    "diem_theo_khtn=(diem2019_df['Toán']+diem2019_df['Ngữ văn'] + diem2019_df['Ngoại ngữ'] + diem2019_df['KHTN'])/4\n",
    "diem_theo_khxh=(diem2019_df['Toán']+diem2019_df['Ngữ văn'] + diem2019_df['Ngoại ngữ'] + diem2019_df['KHXH'])/4\n",
    "diem2019_df['Điểm tốt nghiệp']=pd.DataFrame({'KHTN':diem_theo_khtn,'KHXH':diem_theo_khxh}).max(axis=1)\n",
    "diem2019_df"
   ]
  },
  {
   "cell_type": "markdown",
   "metadata": {},
   "source": [
    "<ul>\n",
    "    <b><u>Nhận xét:</u></b>\n",
    "        Đồ án này chỉ xét điểm trung bình của các thí sinh thi vào năm đó không tính đến thí sinh tự do, dù thì sinh tự do cũng ảnh hưởng không ít thì nhiều đến chất lượng nhưng nó đã là ảnh hưởng của năm thí sinh đó thi rồi, nên sẽ xóa những dòng có điểm tốt nghiệp là NaN\n",
    "</ul>"
   ]
  },
  {
   "cell_type": "code",
   "execution_count": 26,
   "metadata": {},
   "outputs": [
    {
     "data": {
      "text/html": [
       "<div>\n",
       "<style scoped>\n",
       "    .dataframe tbody tr th:only-of-type {\n",
       "        vertical-align: middle;\n",
       "    }\n",
       "\n",
       "    .dataframe tbody tr th {\n",
       "        vertical-align: top;\n",
       "    }\n",
       "\n",
       "    .dataframe thead th {\n",
       "        text-align: right;\n",
       "    }\n",
       "</style>\n",
       "<table border=\"1\" class=\"dataframe\">\n",
       "  <thead>\n",
       "    <tr style=\"text-align: right;\">\n",
       "      <th></th>\n",
       "      <th>SBD</th>\n",
       "      <th>Tỉnh Thành</th>\n",
       "      <th>Toán</th>\n",
       "      <th>Ngữ văn</th>\n",
       "      <th>Vật lí</th>\n",
       "      <th>Hóa học</th>\n",
       "      <th>Sinh học</th>\n",
       "      <th>KHTN</th>\n",
       "      <th>Lịch sử</th>\n",
       "      <th>Địa lí</th>\n",
       "      <th>GDCD</th>\n",
       "      <th>KHXH</th>\n",
       "      <th>Ngoại ngữ</th>\n",
       "      <th>Điểm tốt nghiệp</th>\n",
       "    </tr>\n",
       "  </thead>\n",
       "  <tbody>\n",
       "    <tr>\n",
       "      <td>0</td>\n",
       "      <td>24008611</td>\n",
       "      <td>Hà Nam</td>\n",
       "      <td>8.2</td>\n",
       "      <td>8.00</td>\n",
       "      <td>NaN</td>\n",
       "      <td>NaN</td>\n",
       "      <td>NaN</td>\n",
       "      <td>NaN</td>\n",
       "      <td>8.25</td>\n",
       "      <td>7.75</td>\n",
       "      <td>8.75</td>\n",
       "      <td>8.25</td>\n",
       "      <td>7.6</td>\n",
       "      <td>8.0125</td>\n",
       "    </tr>\n",
       "    <tr>\n",
       "      <td>1</td>\n",
       "      <td>51000032</td>\n",
       "      <td>An Giang</td>\n",
       "      <td>8.6</td>\n",
       "      <td>6.17</td>\n",
       "      <td>8.25</td>\n",
       "      <td>4.50</td>\n",
       "      <td>6.00</td>\n",
       "      <td>6.25</td>\n",
       "      <td>NaN</td>\n",
       "      <td>NaN</td>\n",
       "      <td>NaN</td>\n",
       "      <td>NaN</td>\n",
       "      <td>8.0</td>\n",
       "      <td>7.2550</td>\n",
       "    </tr>\n",
       "    <tr>\n",
       "      <td>4</td>\n",
       "      <td>51000013</td>\n",
       "      <td>An Giang</td>\n",
       "      <td>5.8</td>\n",
       "      <td>6.00</td>\n",
       "      <td>NaN</td>\n",
       "      <td>NaN</td>\n",
       "      <td>NaN</td>\n",
       "      <td>NaN</td>\n",
       "      <td>7.75</td>\n",
       "      <td>8.25</td>\n",
       "      <td>7.50</td>\n",
       "      <td>7.83</td>\n",
       "      <td>4.4</td>\n",
       "      <td>6.0075</td>\n",
       "    </tr>\n",
       "    <tr>\n",
       "      <td>5</td>\n",
       "      <td>51000003</td>\n",
       "      <td>An Giang</td>\n",
       "      <td>7.2</td>\n",
       "      <td>6.75</td>\n",
       "      <td>7.50</td>\n",
       "      <td>5.75</td>\n",
       "      <td>3.00</td>\n",
       "      <td>5.42</td>\n",
       "      <td>NaN</td>\n",
       "      <td>NaN</td>\n",
       "      <td>NaN</td>\n",
       "      <td>NaN</td>\n",
       "      <td>4.4</td>\n",
       "      <td>5.9425</td>\n",
       "    </tr>\n",
       "    <tr>\n",
       "      <td>7</td>\n",
       "      <td>51000011</td>\n",
       "      <td>An Giang</td>\n",
       "      <td>5.0</td>\n",
       "      <td>6.50</td>\n",
       "      <td>NaN</td>\n",
       "      <td>NaN</td>\n",
       "      <td>NaN</td>\n",
       "      <td>NaN</td>\n",
       "      <td>5.25</td>\n",
       "      <td>6.25</td>\n",
       "      <td>8.75</td>\n",
       "      <td>6.75</td>\n",
       "      <td>8.8</td>\n",
       "      <td>6.7625</td>\n",
       "    </tr>\n",
       "    <tr>\n",
       "      <td>...</td>\n",
       "      <td>...</td>\n",
       "      <td>...</td>\n",
       "      <td>...</td>\n",
       "      <td>...</td>\n",
       "      <td>...</td>\n",
       "      <td>...</td>\n",
       "      <td>...</td>\n",
       "      <td>...</td>\n",
       "      <td>...</td>\n",
       "      <td>...</td>\n",
       "      <td>...</td>\n",
       "      <td>...</td>\n",
       "      <td>...</td>\n",
       "      <td>...</td>\n",
       "    </tr>\n",
       "    <tr>\n",
       "      <td>811846</td>\n",
       "      <td>26019104</td>\n",
       "      <td>Thái Bình</td>\n",
       "      <td>4.4</td>\n",
       "      <td>4.75</td>\n",
       "      <td>NaN</td>\n",
       "      <td>NaN</td>\n",
       "      <td>NaN</td>\n",
       "      <td>NaN</td>\n",
       "      <td>4.50</td>\n",
       "      <td>5.75</td>\n",
       "      <td>8.50</td>\n",
       "      <td>6.25</td>\n",
       "      <td>3.4</td>\n",
       "      <td>4.7000</td>\n",
       "    </tr>\n",
       "    <tr>\n",
       "      <td>811847</td>\n",
       "      <td>26019102</td>\n",
       "      <td>Thái Bình</td>\n",
       "      <td>5.2</td>\n",
       "      <td>6.25</td>\n",
       "      <td>3.75</td>\n",
       "      <td>4.50</td>\n",
       "      <td>4.00</td>\n",
       "      <td>4.08</td>\n",
       "      <td>NaN</td>\n",
       "      <td>NaN</td>\n",
       "      <td>NaN</td>\n",
       "      <td>NaN</td>\n",
       "      <td>4.4</td>\n",
       "      <td>4.9825</td>\n",
       "    </tr>\n",
       "    <tr>\n",
       "      <td>811848</td>\n",
       "      <td>26019099</td>\n",
       "      <td>Thái Bình</td>\n",
       "      <td>2.8</td>\n",
       "      <td>5.00</td>\n",
       "      <td>NaN</td>\n",
       "      <td>NaN</td>\n",
       "      <td>NaN</td>\n",
       "      <td>NaN</td>\n",
       "      <td>5.50</td>\n",
       "      <td>5.50</td>\n",
       "      <td>8.00</td>\n",
       "      <td>6.33</td>\n",
       "      <td>2.8</td>\n",
       "      <td>4.2325</td>\n",
       "    </tr>\n",
       "    <tr>\n",
       "      <td>811849</td>\n",
       "      <td>26019101</td>\n",
       "      <td>Thái Bình</td>\n",
       "      <td>6.2</td>\n",
       "      <td>7.25</td>\n",
       "      <td>NaN</td>\n",
       "      <td>NaN</td>\n",
       "      <td>NaN</td>\n",
       "      <td>NaN</td>\n",
       "      <td>3.50</td>\n",
       "      <td>6.75</td>\n",
       "      <td>8.50</td>\n",
       "      <td>6.25</td>\n",
       "      <td>4.0</td>\n",
       "      <td>5.9250</td>\n",
       "    </tr>\n",
       "    <tr>\n",
       "      <td>811850</td>\n",
       "      <td>26019097</td>\n",
       "      <td>Thái Bình</td>\n",
       "      <td>6.4</td>\n",
       "      <td>5.75</td>\n",
       "      <td>5.25</td>\n",
       "      <td>4.50</td>\n",
       "      <td>3.75</td>\n",
       "      <td>4.50</td>\n",
       "      <td>NaN</td>\n",
       "      <td>NaN</td>\n",
       "      <td>NaN</td>\n",
       "      <td>NaN</td>\n",
       "      <td>2.2</td>\n",
       "      <td>4.7125</td>\n",
       "    </tr>\n",
       "  </tbody>\n",
       "</table>\n",
       "<p>722380 rows × 14 columns</p>\n",
       "</div>"
      ],
      "text/plain": [
       "             SBD Tỉnh Thành  Toán  Ngữ văn  Vật lí  Hóa học  Sinh học  KHTN  \\\n",
       "0       24008611     Hà Nam   8.2     8.00     NaN      NaN       NaN   NaN   \n",
       "1       51000032   An Giang   8.6     6.17    8.25     4.50      6.00  6.25   \n",
       "4       51000013   An Giang   5.8     6.00     NaN      NaN       NaN   NaN   \n",
       "5       51000003   An Giang   7.2     6.75    7.50     5.75      3.00  5.42   \n",
       "7       51000011   An Giang   5.0     6.50     NaN      NaN       NaN   NaN   \n",
       "...          ...        ...   ...      ...     ...      ...       ...   ...   \n",
       "811846  26019104  Thái Bình   4.4     4.75     NaN      NaN       NaN   NaN   \n",
       "811847  26019102  Thái Bình   5.2     6.25    3.75     4.50      4.00  4.08   \n",
       "811848  26019099  Thái Bình   2.8     5.00     NaN      NaN       NaN   NaN   \n",
       "811849  26019101  Thái Bình   6.2     7.25     NaN      NaN       NaN   NaN   \n",
       "811850  26019097  Thái Bình   6.4     5.75    5.25     4.50      3.75  4.50   \n",
       "\n",
       "        Lịch sử  Địa lí  GDCD  KHXH  Ngoại ngữ  Điểm tốt nghiệp  \n",
       "0          8.25    7.75  8.75  8.25        7.6           8.0125  \n",
       "1           NaN     NaN   NaN   NaN        8.0           7.2550  \n",
       "4          7.75    8.25  7.50  7.83        4.4           6.0075  \n",
       "5           NaN     NaN   NaN   NaN        4.4           5.9425  \n",
       "7          5.25    6.25  8.75  6.75        8.8           6.7625  \n",
       "...         ...     ...   ...   ...        ...              ...  \n",
       "811846     4.50    5.75  8.50  6.25        3.4           4.7000  \n",
       "811847      NaN     NaN   NaN   NaN        4.4           4.9825  \n",
       "811848     5.50    5.50  8.00  6.33        2.8           4.2325  \n",
       "811849     3.50    6.75  8.50  6.25        4.0           5.9250  \n",
       "811850      NaN     NaN   NaN   NaN        2.2           4.7125  \n",
       "\n",
       "[722380 rows x 14 columns]"
      ]
     },
     "execution_count": 26,
     "metadata": {},
     "output_type": "execute_result"
    }
   ],
   "source": [
    "diem2019_df.dropna(subset=['Điểm tốt nghiệp'],inplace=True)\n",
    "diem2019_df"
   ]
  },
  {
   "cell_type": "markdown",
   "metadata": {},
   "source": [
    "<ul><b>Tính điểm tốt nghiệp trung bình, cao nhất và thấp nhất ở các tỉnh thành </b></ul>"
   ]
  },
  {
   "cell_type": "markdown",
   "metadata": {},
   "source": [
    "Tính điểm trung bình, cao nhất hay thấp nhất bằng cách gom nhóm các tỉnh thành lại rồi sao đó mỗi tỉnh thành sẽ tính điểm cao nhất, trung bình hay thấp nhất của tỉnh thành đó,"
   ]
  },
  {
   "cell_type": "code",
   "execution_count": 27,
   "metadata": {},
   "outputs": [
    {
     "data": {
      "text/html": [
       "<div>\n",
       "<style scoped>\n",
       "    .dataframe tbody tr th:only-of-type {\n",
       "        vertical-align: middle;\n",
       "    }\n",
       "\n",
       "    .dataframe tbody tr th {\n",
       "        vertical-align: top;\n",
       "    }\n",
       "\n",
       "    .dataframe thead th {\n",
       "        text-align: right;\n",
       "    }\n",
       "</style>\n",
       "<table border=\"1\" class=\"dataframe\">\n",
       "  <thead>\n",
       "    <tr style=\"text-align: right;\">\n",
       "      <th></th>\n",
       "      <th>Điểm tốt nghiệp trung bình</th>\n",
       "      <th>Điểm tốt nghiệp cao nhất</th>\n",
       "      <th>Điểm tốt nghiệp thấp nhất</th>\n",
       "    </tr>\n",
       "    <tr>\n",
       "      <th>Tỉnh Thành</th>\n",
       "      <th></th>\n",
       "      <th></th>\n",
       "      <th></th>\n",
       "    </tr>\n",
       "  </thead>\n",
       "  <tbody>\n",
       "    <tr>\n",
       "      <td>An Giang</td>\n",
       "      <td>5.666858</td>\n",
       "      <td>8.7750</td>\n",
       "      <td>1.8125</td>\n",
       "    </tr>\n",
       "    <tr>\n",
       "      <td>Bà Rịa Vũng Tàu</td>\n",
       "      <td>5.614386</td>\n",
       "      <td>9.0325</td>\n",
       "      <td>2.0450</td>\n",
       "    </tr>\n",
       "    <tr>\n",
       "      <td>Bình Dương</td>\n",
       "      <td>5.914655</td>\n",
       "      <td>8.7425</td>\n",
       "      <td>2.7125</td>\n",
       "    </tr>\n",
       "    <tr>\n",
       "      <td>Bình Phước</td>\n",
       "      <td>5.315162</td>\n",
       "      <td>8.4875</td>\n",
       "      <td>2.0800</td>\n",
       "    </tr>\n",
       "    <tr>\n",
       "      <td>Bình Thuận</td>\n",
       "      <td>5.537424</td>\n",
       "      <td>8.6575</td>\n",
       "      <td>2.1700</td>\n",
       "    </tr>\n",
       "    <tr>\n",
       "      <td>...</td>\n",
       "      <td>...</td>\n",
       "      <td>...</td>\n",
       "      <td>...</td>\n",
       "    </tr>\n",
       "    <tr>\n",
       "      <td>Đà Nẵng</td>\n",
       "      <td>5.401703</td>\n",
       "      <td>8.5925</td>\n",
       "      <td>1.9300</td>\n",
       "    </tr>\n",
       "    <tr>\n",
       "      <td>Đắk Lắk</td>\n",
       "      <td>4.895431</td>\n",
       "      <td>8.5500</td>\n",
       "      <td>1.6675</td>\n",
       "    </tr>\n",
       "    <tr>\n",
       "      <td>Đắk Nông</td>\n",
       "      <td>4.891612</td>\n",
       "      <td>8.2200</td>\n",
       "      <td>1.8500</td>\n",
       "    </tr>\n",
       "    <tr>\n",
       "      <td>Đồng Nai</td>\n",
       "      <td>5.418956</td>\n",
       "      <td>8.4625</td>\n",
       "      <td>1.5800</td>\n",
       "    </tr>\n",
       "    <tr>\n",
       "      <td>Đồng Tháp</td>\n",
       "      <td>5.431976</td>\n",
       "      <td>8.4175</td>\n",
       "      <td>2.5500</td>\n",
       "    </tr>\n",
       "  </tbody>\n",
       "</table>\n",
       "<p>62 rows × 3 columns</p>\n",
       "</div>"
      ],
      "text/plain": [
       "                 Điểm tốt nghiệp trung bình  Điểm tốt nghiệp cao nhất  \\\n",
       "Tỉnh Thành                                                              \n",
       "An Giang                           5.666858                    8.7750   \n",
       "Bà Rịa Vũng Tàu                    5.614386                    9.0325   \n",
       "Bình Dương                         5.914655                    8.7425   \n",
       "Bình Phước                         5.315162                    8.4875   \n",
       "Bình Thuận                         5.537424                    8.6575   \n",
       "...                                     ...                       ...   \n",
       "Đà Nẵng                            5.401703                    8.5925   \n",
       "Đắk Lắk                            4.895431                    8.5500   \n",
       "Đắk Nông                           4.891612                    8.2200   \n",
       "Đồng Nai                           5.418956                    8.4625   \n",
       "Đồng Tháp                          5.431976                    8.4175   \n",
       "\n",
       "                 Điểm tốt nghiệp thấp nhất  \n",
       "Tỉnh Thành                                  \n",
       "An Giang                            1.8125  \n",
       "Bà Rịa Vũng Tàu                     2.0450  \n",
       "Bình Dương                          2.7125  \n",
       "Bình Phước                          2.0800  \n",
       "Bình Thuận                          2.1700  \n",
       "...                                    ...  \n",
       "Đà Nẵng                             1.9300  \n",
       "Đắk Lắk                             1.6675  \n",
       "Đắk Nông                            1.8500  \n",
       "Đồng Nai                            1.5800  \n",
       "Đồng Tháp                           2.5500  \n",
       "\n",
       "[62 rows x 3 columns]"
      ]
     },
     "execution_count": 27,
     "metadata": {},
     "output_type": "execute_result"
    }
   ],
   "source": [
    "diem2019_mean=diem2019_df.groupby('Tỉnh Thành')['Điểm tốt nghiệp'].mean()\n",
    "diem2019_max=diem2019_df.groupby('Tỉnh Thành')['Điểm tốt nghiệp'].max()\n",
    "diem2019_min=diem2019_df.groupby('Tỉnh Thành')['Điểm tốt nghiệp'].min()\n",
    "infor_2019 = pd.DataFrame({'Điểm tốt nghiệp trung bình':diem2019_mean,'Điểm tốt nghiệp cao nhất':diem2019_max,\n",
    "                           \"Điểm tốt nghiệp thấp nhất\": diem2019_min})\n",
    "infor_2019"
   ]
  },
  {
   "cell_type": "markdown",
   "metadata": {},
   "source": [
    "<ul><b>Liệt kê 5 tỉnh có điểm trung bình cao nhất, điểm tốt nghiệp cao nhất, và điểm thấp thấp nhất </b></ul>"
   ]
  },
  {
   "cell_type": "markdown",
   "metadata": {},
   "source": [
    "khi đã có dữ liệu điểm trung bình theo tỉnh trong bảng <b>infor_2019</b> thì để biết 5 tỉnh nào có điểm cao nhất và thấp nhất thì chúng ta sort dữ liệu theo yêu cầu mong muốn và lấy 5 cái đầu hoặc 5 cái cuối và trả về index: là tên các tỉnh.\n",
    "Lưu ý khi mà sort thì những giá trị ở cuối là những giá trị max nên để lấy các vị trí đó mình sẽ truy cập qua 1 mảng <b>index_maxx = [-5,-4,-3,-2,-1]</b> để lấy."
   ]
  },
  {
   "cell_type": "code",
   "execution_count": 74,
   "metadata": {},
   "outputs": [
    {
     "data": {
      "text/html": [
       "<div>\n",
       "<style scoped>\n",
       "    .dataframe tbody tr th:only-of-type {\n",
       "        vertical-align: middle;\n",
       "    }\n",
       "\n",
       "    .dataframe tbody tr th {\n",
       "        vertical-align: top;\n",
       "    }\n",
       "\n",
       "    .dataframe thead th {\n",
       "        text-align: right;\n",
       "    }\n",
       "</style>\n",
       "<table border=\"1\" class=\"dataframe\">\n",
       "  <thead>\n",
       "    <tr style=\"text-align: right;\">\n",
       "      <th></th>\n",
       "      <th>Điểm tốt nghiệp trung bình cao nhất</th>\n",
       "      <th>Điểm tốt nghiệp trung bình thấp nhất</th>\n",
       "    </tr>\n",
       "  </thead>\n",
       "  <tbody>\n",
       "    <tr>\n",
       "      <td>0</td>\n",
       "      <td>Ninh Bình</td>\n",
       "      <td>Sơn La</td>\n",
       "    </tr>\n",
       "    <tr>\n",
       "      <td>1</td>\n",
       "      <td>Hà Nam</td>\n",
       "      <td>Hà Giang</td>\n",
       "    </tr>\n",
       "    <tr>\n",
       "      <td>2</td>\n",
       "      <td>Vĩnh Phúc</td>\n",
       "      <td>Hòa Bình</td>\n",
       "    </tr>\n",
       "    <tr>\n",
       "      <td>3</td>\n",
       "      <td>Bình Dương</td>\n",
       "      <td>Cao Bằng</td>\n",
       "    </tr>\n",
       "    <tr>\n",
       "      <td>4</td>\n",
       "      <td>Nam Định</td>\n",
       "      <td>Tuyên Quang</td>\n",
       "    </tr>\n",
       "  </tbody>\n",
       "</table>\n",
       "</div>"
      ],
      "text/plain": [
       "  Điểm tốt nghiệp trung bình cao nhất Điểm tốt nghiệp trung bình thấp nhất\n",
       "0                           Ninh Bình                               Sơn La\n",
       "1                              Hà Nam                             Hà Giang\n",
       "2                           Vĩnh Phúc                             Hòa Bình\n",
       "3                          Bình Dương                             Cao Bằng\n",
       "4                            Nam Định                          Tuyên Quang"
      ]
     },
     "execution_count": 74,
     "metadata": {},
     "output_type": "execute_result"
    }
   ],
   "source": [
    "index_max = [-5,-4,-3,-2,-1] # mảng index để lấy các index max\n",
    "top5_tb_max=infor_2019['Điểm tốt nghiệp trung bình'].sort_values()[index_max].index\n",
    "top5_tb_min=infor_2019['Điểm tốt nghiệp trung bình'].sort_values()[0:5].index\n",
    "top5_infor2019_df= pd.DataFrame({'Điểm tốt nghiệp trung bình cao nhất':top5_tb_max,\n",
    "                                 'Điểm tốt nghiệp trung bình thấp nhất':top5_tb_min})\n",
    "top5_infor2019_df"
   ]
  },
  {
   "cell_type": "markdown",
   "metadata": {},
   "source": [
    "<ul><u><b>Nhận xét:</u></b> điểm trung bình là sự phản ảnh từ tổ hợp nhiều môn, tuy không đánh giá được hết do có thí sinh học lệch để ôn đại học tuy nhiên cũng đánh giá sự toàn vẹn của thí sinh ở tỉnh đó, cho thấy thí sinh đó chất lượng ổn định hơn, còn điểm trung bình tốt nghiệp mà quá thấp thì cũng đánh giá là tỉnh có có vài bộ phận thí sinh có chất lượng không ổn cần xem xét lại.</ul>"
   ]
  },
  {
   "cell_type": "markdown",
   "metadata": {},
   "source": [
    "<ul><b>Tính điểm liệt mỗi tính, quy định điểm liệt là điểm từ 1 trở xuống</b></ul>"
   ]
  },
  {
   "cell_type": "markdown",
   "metadata": {},
   "source": [
    "Điểm liệt là điểm từ 1.0 trở xuống nên để xét môn X trong mỗi tỉnh thành thì chúng ta chỉ cần chọn những thí sinh có điểm bé hơn hoặc bằng 1.0 trong mỗi tính rồi chúng ta đếm số lượng theo tỉnh rồi thêm cột tương ứng vào dataframe. DataFrame này hiển thị toàn bộ các tỉnh với số điểm liệt theo từng môn và có ý nghĩa rất lớn trong hai việc:\n",
    "<ul>Trong một tỉnh chúng ta sẽ xem xét coi điểm liệt môn nào là cao nhất để có biện pháp khắc phục và nên có một đề xuất cho khái niệm thế nào là số lượng đáng báo động của điểm liệt, ở đây không phải là dân chuyên về đánh giá hay công tác xã hội nên sẽ không có đề xuất gì cả.\n",
    "</ul>\n",
    "<ul>\n",
    "    Trong cùng một môn chúng ta sẽ xem xét coi Tỉnh nào là tệ nhất ( tệ là tỉnh đó có số lượng thí sinh có điểm liệt cao so với các tỉnh khác), trong đồ án này thì mình xin liệt kê 5 tỉnh có điểm thấp nhất cho mỗi môn từ đó chúng ta sẽ có những cái nhìn về tổng quan hơn về một phương pháp nào đó nhầm nâng cao chất lượng giáo dục của từng tỉnh.\n",
    "</ul>"
   ]
  },
  {
   "cell_type": "code",
   "execution_count": 29,
   "metadata": {},
   "outputs": [
    {
     "data": {
      "text/html": [
       "<div>\n",
       "<style scoped>\n",
       "    .dataframe tbody tr th:only-of-type {\n",
       "        vertical-align: middle;\n",
       "    }\n",
       "\n",
       "    .dataframe tbody tr th {\n",
       "        vertical-align: top;\n",
       "    }\n",
       "\n",
       "    .dataframe thead th {\n",
       "        text-align: right;\n",
       "    }\n",
       "</style>\n",
       "<table border=\"1\" class=\"dataframe\">\n",
       "  <thead>\n",
       "    <tr style=\"text-align: right;\">\n",
       "      <th></th>\n",
       "      <th>Toán học</th>\n",
       "      <th>Ngữ văn</th>\n",
       "      <th>Ngoại ngữ</th>\n",
       "      <th>Hóa học</th>\n",
       "      <th>Vật lí</th>\n",
       "      <th>Sinh học</th>\n",
       "      <th>Địa lí</th>\n",
       "      <th>Lịch sử</th>\n",
       "      <th>GDCD</th>\n",
       "    </tr>\n",
       "  </thead>\n",
       "  <tbody>\n",
       "    <tr>\n",
       "      <td>An Giang</td>\n",
       "      <td>0.0</td>\n",
       "      <td>1.0</td>\n",
       "      <td>2.0</td>\n",
       "      <td>0.0</td>\n",
       "      <td>1.0</td>\n",
       "      <td>0.0</td>\n",
       "      <td>1.0</td>\n",
       "      <td>2.0</td>\n",
       "      <td>1.0</td>\n",
       "    </tr>\n",
       "    <tr>\n",
       "      <td>Bà Rịa Vũng Tàu</td>\n",
       "      <td>0.0</td>\n",
       "      <td>1.0</td>\n",
       "      <td>1.0</td>\n",
       "      <td>2.0</td>\n",
       "      <td>0.0</td>\n",
       "      <td>1.0</td>\n",
       "      <td>0.0</td>\n",
       "      <td>1.0</td>\n",
       "      <td>0.0</td>\n",
       "    </tr>\n",
       "    <tr>\n",
       "      <td>Bình Dương</td>\n",
       "      <td>0.0</td>\n",
       "      <td>1.0</td>\n",
       "      <td>0.0</td>\n",
       "      <td>0.0</td>\n",
       "      <td>0.0</td>\n",
       "      <td>1.0</td>\n",
       "      <td>0.0</td>\n",
       "      <td>0.0</td>\n",
       "      <td>0.0</td>\n",
       "    </tr>\n",
       "    <tr>\n",
       "      <td>Bình Phước</td>\n",
       "      <td>2.0</td>\n",
       "      <td>2.0</td>\n",
       "      <td>2.0</td>\n",
       "      <td>0.0</td>\n",
       "      <td>1.0</td>\n",
       "      <td>0.0</td>\n",
       "      <td>0.0</td>\n",
       "      <td>0.0</td>\n",
       "      <td>0.0</td>\n",
       "    </tr>\n",
       "    <tr>\n",
       "      <td>Bình Thuận</td>\n",
       "      <td>0.0</td>\n",
       "      <td>1.0</td>\n",
       "      <td>1.0</td>\n",
       "      <td>0.0</td>\n",
       "      <td>1.0</td>\n",
       "      <td>1.0</td>\n",
       "      <td>0.0</td>\n",
       "      <td>1.0</td>\n",
       "      <td>0.0</td>\n",
       "    </tr>\n",
       "    <tr>\n",
       "      <td>...</td>\n",
       "      <td>...</td>\n",
       "      <td>...</td>\n",
       "      <td>...</td>\n",
       "      <td>...</td>\n",
       "      <td>...</td>\n",
       "      <td>...</td>\n",
       "      <td>...</td>\n",
       "      <td>...</td>\n",
       "      <td>...</td>\n",
       "    </tr>\n",
       "    <tr>\n",
       "      <td>Đà Nẵng</td>\n",
       "      <td>2.0</td>\n",
       "      <td>9.0</td>\n",
       "      <td>5.0</td>\n",
       "      <td>5.0</td>\n",
       "      <td>0.0</td>\n",
       "      <td>0.0</td>\n",
       "      <td>0.0</td>\n",
       "      <td>8.0</td>\n",
       "      <td>0.0</td>\n",
       "    </tr>\n",
       "    <tr>\n",
       "      <td>Đắk Lắk</td>\n",
       "      <td>9.0</td>\n",
       "      <td>35.0</td>\n",
       "      <td>16.0</td>\n",
       "      <td>5.0</td>\n",
       "      <td>3.0</td>\n",
       "      <td>3.0</td>\n",
       "      <td>2.0</td>\n",
       "      <td>12.0</td>\n",
       "      <td>2.0</td>\n",
       "    </tr>\n",
       "    <tr>\n",
       "      <td>Đắk Nông</td>\n",
       "      <td>0.0</td>\n",
       "      <td>2.0</td>\n",
       "      <td>4.0</td>\n",
       "      <td>4.0</td>\n",
       "      <td>0.0</td>\n",
       "      <td>0.0</td>\n",
       "      <td>5.0</td>\n",
       "      <td>7.0</td>\n",
       "      <td>4.0</td>\n",
       "    </tr>\n",
       "    <tr>\n",
       "      <td>Đồng Nai</td>\n",
       "      <td>1.0</td>\n",
       "      <td>7.0</td>\n",
       "      <td>14.0</td>\n",
       "      <td>1.0</td>\n",
       "      <td>5.0</td>\n",
       "      <td>4.0</td>\n",
       "      <td>1.0</td>\n",
       "      <td>8.0</td>\n",
       "      <td>1.0</td>\n",
       "    </tr>\n",
       "    <tr>\n",
       "      <td>Đồng Tháp</td>\n",
       "      <td>1.0</td>\n",
       "      <td>0.0</td>\n",
       "      <td>4.0</td>\n",
       "      <td>0.0</td>\n",
       "      <td>0.0</td>\n",
       "      <td>0.0</td>\n",
       "      <td>0.0</td>\n",
       "      <td>4.0</td>\n",
       "      <td>0.0</td>\n",
       "    </tr>\n",
       "  </tbody>\n",
       "</table>\n",
       "<p>62 rows × 9 columns</p>\n",
       "</div>"
      ],
      "text/plain": [
       "                 Toán học  Ngữ văn  Ngoại ngữ  Hóa học  Vật lí  Sinh học  \\\n",
       "An Giang              0.0      1.0        2.0      0.0     1.0       0.0   \n",
       "Bà Rịa Vũng Tàu       0.0      1.0        1.0      2.0     0.0       1.0   \n",
       "Bình Dương            0.0      1.0        0.0      0.0     0.0       1.0   \n",
       "Bình Phước            2.0      2.0        2.0      0.0     1.0       0.0   \n",
       "Bình Thuận            0.0      1.0        1.0      0.0     1.0       1.0   \n",
       "...                   ...      ...        ...      ...     ...       ...   \n",
       "Đà Nẵng               2.0      9.0        5.0      5.0     0.0       0.0   \n",
       "Đắk Lắk               9.0     35.0       16.0      5.0     3.0       3.0   \n",
       "Đắk Nông              0.0      2.0        4.0      4.0     0.0       0.0   \n",
       "Đồng Nai              1.0      7.0       14.0      1.0     5.0       4.0   \n",
       "Đồng Tháp             1.0      0.0        4.0      0.0     0.0       0.0   \n",
       "\n",
       "                 Địa lí  Lịch sử  GDCD  \n",
       "An Giang            1.0      2.0   1.0  \n",
       "Bà Rịa Vũng Tàu     0.0      1.0   0.0  \n",
       "Bình Dương          0.0      0.0   0.0  \n",
       "Bình Phước          0.0      0.0   0.0  \n",
       "Bình Thuận          0.0      1.0   0.0  \n",
       "...                 ...      ...   ...  \n",
       "Đà Nẵng             0.0      8.0   0.0  \n",
       "Đắk Lắk             2.0     12.0   2.0  \n",
       "Đắk Nông            5.0      7.0   4.0  \n",
       "Đồng Nai            1.0      8.0   1.0  \n",
       "Đồng Tháp           0.0      4.0   0.0  \n",
       "\n",
       "[62 rows x 9 columns]"
      ]
     },
     "execution_count": 29,
     "metadata": {},
     "output_type": "execute_result"
    }
   ],
   "source": [
    "diem_liet_toan=diem2019_df[diem2019_df['Toán'] <=1 ]['Tỉnh Thành'].value_counts()\n",
    "diem_liet_van=diem2019_df[diem2019_df['Ngữ văn'] <=1 ]['Tỉnh Thành'].value_counts()\n",
    "diem_liet_ngoaingu=diem2019_df[diem2019_df['Ngoại ngữ'] <=1 ]['Tỉnh Thành'].value_counts()\n",
    "diem_liet_hoa=diem2019_df[diem2019_df['Hóa học'] <=1 ]['Tỉnh Thành'].value_counts()\n",
    "diem_liet_sinh=diem2019_df[diem2019_df['Sinh học'] <=1 ]['Tỉnh Thành'].value_counts()\n",
    "diem_liet_li=diem2019_df[diem2019_df['Vật lí'] <=1 ]['Tỉnh Thành'].value_counts()\n",
    "diem_liet_dia=diem2019_df[diem2019_df['Địa lí'] <=1 ]['Tỉnh Thành'].value_counts()\n",
    "diem_liet_su=diem2019_df[diem2019_df['Lịch sử'] <=1 ]['Tỉnh Thành'].value_counts()\n",
    "diem_liet_cd=diem2019_df[diem2019_df['GDCD'] <=1 ]['Tỉnh Thành'].value_counts()\n",
    "diem_liet_df = pd.DataFrame({\"Toán học\":diem_liet_toan,\"Ngữ văn\":diem_liet_van,\"Ngoại ngữ\":diem_liet_ngoaingu,\n",
    "                            \"Hóa học\":diem_liet_hoa,\"Vật lí\":diem_liet_li,\"Sinh học\":diem_liet_sinh,\n",
    "                            \"Địa lí\":diem_liet_dia,'Lịch sử':diem_liet_su,\"GDCD\":diem_liet_cd})\n",
    "diem_liet_df=diem_liet_df.replace(np.nan,0)\n",
    "diem_liet_df"
   ]
  },
  {
   "cell_type": "markdown",
   "metadata": {},
   "source": [
    "<ul><b>Liệt kê 5 tỉnh mà số lượng điểm liệt cao</b></ul>"
   ]
  },
  {
   "cell_type": "markdown",
   "metadata": {},
   "source": [
    "<b>diemliet_df</b> là bảng số lượng điểm liệt theo môn và theo năm, giá trị là số lượng, mình không chuyển hóa về phần trăm để chúng ta dễ nhìn nhận hơn vì số lượng điểm liệt so với tổng thể quá ít và hơn hết mình nghĩ số lượng giữa các môn và giữa các tỉnh thành cũng dễ nói lên ý nghĩa của chúng. Tiếp theo để liệt kê thì với mỗi một cột trong bảng dữ liệu thì mình sort theo giá trị rồi lấy index, nghĩa là lấy cái tỉnh thành."
   ]
  },
  {
   "cell_type": "code",
   "execution_count": 76,
   "metadata": {},
   "outputs": [
    {
     "data": {
      "text/html": [
       "<div>\n",
       "<style scoped>\n",
       "    .dataframe tbody tr th:only-of-type {\n",
       "        vertical-align: middle;\n",
       "    }\n",
       "\n",
       "    .dataframe tbody tr th {\n",
       "        vertical-align: top;\n",
       "    }\n",
       "\n",
       "    .dataframe thead th {\n",
       "        text-align: right;\n",
       "    }\n",
       "</style>\n",
       "<table border=\"1\" class=\"dataframe\">\n",
       "  <thead>\n",
       "    <tr style=\"text-align: right;\">\n",
       "      <th></th>\n",
       "      <th>Toán</th>\n",
       "      <th>Ngữ văn</th>\n",
       "      <th>Ngoại ngữ</th>\n",
       "      <th>Hóa học</th>\n",
       "      <th>Vật lí</th>\n",
       "      <th>Sinh học</th>\n",
       "      <th>Địa lí</th>\n",
       "      <th>Lịch sử</th>\n",
       "      <th>GDCD</th>\n",
       "    </tr>\n",
       "  </thead>\n",
       "  <tbody>\n",
       "    <tr>\n",
       "      <td>0</td>\n",
       "      <td>Tây Ninh</td>\n",
       "      <td>Hòa Bình</td>\n",
       "      <td>Hòa Bình</td>\n",
       "      <td>Phú Yên</td>\n",
       "      <td>Quảng Nam</td>\n",
       "      <td>Tây Ninh</td>\n",
       "      <td>Hà Nội</td>\n",
       "      <td>Đắk Lắk</td>\n",
       "      <td>Lạng Sơn</td>\n",
       "    </tr>\n",
       "    <tr>\n",
       "      <td>1</td>\n",
       "      <td>Hà Giang</td>\n",
       "      <td>Hà Giang</td>\n",
       "      <td>Sơn La</td>\n",
       "      <td>Bình Định</td>\n",
       "      <td>Thanh Hóa</td>\n",
       "      <td>Nghệ An</td>\n",
       "      <td>Hưng Yên</td>\n",
       "      <td>Sơn La</td>\n",
       "      <td>Thanh Hóa</td>\n",
       "    </tr>\n",
       "    <tr>\n",
       "      <td>2</td>\n",
       "      <td>Nghệ An</td>\n",
       "      <td>Đắk Lắk</td>\n",
       "      <td>Nghệ An</td>\n",
       "      <td>Thanh Hóa</td>\n",
       "      <td>Thái Bình</td>\n",
       "      <td>Thanh Hóa</td>\n",
       "      <td>Sơn La</td>\n",
       "      <td>Nghệ An</td>\n",
       "      <td>Hà Nội</td>\n",
       "    </tr>\n",
       "    <tr>\n",
       "      <td>3</td>\n",
       "      <td>Thanh Hóa</td>\n",
       "      <td>Sơn La</td>\n",
       "      <td>Thanh Hóa</td>\n",
       "      <td>Quảng Nam</td>\n",
       "      <td>Bình Định</td>\n",
       "      <td>Bình Định</td>\n",
       "      <td>Đắk Nông</td>\n",
       "      <td>Hà Nội</td>\n",
       "      <td>Đắk Nông</td>\n",
       "    </tr>\n",
       "    <tr>\n",
       "      <td>4</td>\n",
       "      <td>Sơn La</td>\n",
       "      <td>Quảng Ngãi</td>\n",
       "      <td>Hà Nội</td>\n",
       "      <td>Hà Nội</td>\n",
       "      <td>Hà Nội</td>\n",
       "      <td>Hà Nội</td>\n",
       "      <td>Tây Ninh</td>\n",
       "      <td>Thanh Hóa</td>\n",
       "      <td>Tây Ninh</td>\n",
       "    </tr>\n",
       "  </tbody>\n",
       "</table>\n",
       "</div>"
      ],
      "text/plain": [
       "        Toán     Ngữ văn  Ngoại ngữ    Hóa học     Vật lí   Sinh học  \\\n",
       "0   Tây Ninh    Hòa Bình   Hòa Bình    Phú Yên  Quảng Nam   Tây Ninh   \n",
       "1   Hà Giang    Hà Giang     Sơn La  Bình Định  Thanh Hóa    Nghệ An   \n",
       "2    Nghệ An     Đắk Lắk    Nghệ An  Thanh Hóa  Thái Bình  Thanh Hóa   \n",
       "3  Thanh Hóa      Sơn La  Thanh Hóa  Quảng Nam  Bình Định  Bình Định   \n",
       "4     Sơn La  Quảng Ngãi     Hà Nội     Hà Nội     Hà Nội     Hà Nội   \n",
       "\n",
       "     Địa lí    Lịch sử       GDCD  \n",
       "0    Hà Nội    Đắk Lắk   Lạng Sơn  \n",
       "1  Hưng Yên     Sơn La  Thanh Hóa  \n",
       "2    Sơn La    Nghệ An     Hà Nội  \n",
       "3  Đắk Nông     Hà Nội   Đắk Nông  \n",
       "4  Tây Ninh  Thanh Hóa   Tây Ninh  "
      ]
     },
     "execution_count": 76,
     "metadata": {},
     "output_type": "execute_result"
    }
   ],
   "source": [
    "\n",
    "top5_liet_toan=diem_liet_df['Toán học'].sort_values()[index_max].index\n",
    "top5_liet_van=diem_liet_df['Ngữ văn'].sort_values()[index_max].index\n",
    "top5_liet_nn=diem_liet_df['Ngoại ngữ'].sort_values()[index_max].index\n",
    "top5_liet_hoa=diem_liet_df['Hóa học'].sort_values()[index_max].index\n",
    "top5_liet_li=diem_liet_df['Vật lí'].sort_values()[index_max].index\n",
    "top5_liet_sinh=diem_liet_df['Sinh học'].sort_values()[index_max].index\n",
    "top5_liet_dia=diem_liet_df['Địa lí'].sort_values()[index_max].index\n",
    "top5_liet_su=diem_liet_df['Lịch sử'].sort_values()[index_max].index\n",
    "top5_liet_cd=diem_liet_df['GDCD'].sort_values()[index_max].index\n",
    "top5_diemliet_df=pd.DataFrame({'Toán':top5_liet_toan,'Ngữ văn':top5_liet_van,'Ngoại ngữ':top5_liet_nn,'Hóa học':top5_liet_hoa,\n",
    "                              'Vật lí':top5_liet_li,'Sinh học':top5_liet_sinh,'Địa lí':top5_liet_dia,'Lịch sử':top5_liet_su,\n",
    "                              'GDCD':top5_liet_cd})\n",
    "top5_diemliet_df"
   ]
  },
  {
   "cell_type": "markdown",
   "metadata": {},
   "source": [
    "<ul>\n",
    "    <u><b>Nhận xét:</b></u>\n",
    "    <ol>Điểm liệt cơ bản không nhiều trong tỉ số thí sinh thi, tuy nhiên có một câu hỏi là liệu vì sao thí sinh đó liệt là một câu hỏi khó trả lời: có thể vì chất lượng giáo dục hay do bản thân của chính thí sinh đó, dù lí do gì chúng ta cũng nên xem xét lại về nhiều phương diện hơn</ol>\n",
    "    <ol>\n",
    "        Bảng trên đã thống kê 5 tỉnh có điểm liệt nhiều nhất ở mỗi môn, từ bảng đó chúng ta sẽ đưa phương pháp cụ thể ở mỗi tỉnh\n",
    "    </ol>\n",
    "</ul>"
   ]
  },
  {
   "cell_type": "markdown",
   "metadata": {},
   "source": [
    "<ul><b>Đã nêu hạn chế rồi, giờ thử tìm tỉnh thành có thí sinh điểm cao, với đồ án này điểm cao là trên 8</b></ul>"
   ]
  },
  {
   "cell_type": "markdown",
   "metadata": {},
   "source": [
    "#### Tính điểm cao theo từng môn cũng từng tỉnh\n",
    "<ul>tính điểm theo tỉ lệ từng tỉnh: lấy số lượng thí sinh đạt trên 8.0 chia cho tổng thí sinh thi</ul>\n",
    "<ul>Ở đây có hai công đoạn chính là đếm số lượng thí sinh trên 8 và đếm theo nhóm các tỉnh thành, tuy nhiên cái mình muốn hiển thị rõ chính là tỉ lệ phần trăm coi tỉnh nào cao hơn nên mình chuyển sang dạng tỉ lệ thông qua việc đếm số lượng thí sinh thi môn đó bằng dòng lệnh <b>groupby()[].count()</b></ul>"
   ]
  },
  {
   "cell_type": "code",
   "execution_count": 31,
   "metadata": {},
   "outputs": [
    {
     "data": {
      "text/html": [
       "<div>\n",
       "<style scoped>\n",
       "    .dataframe tbody tr th:only-of-type {\n",
       "        vertical-align: middle;\n",
       "    }\n",
       "\n",
       "    .dataframe tbody tr th {\n",
       "        vertical-align: top;\n",
       "    }\n",
       "\n",
       "    .dataframe thead th {\n",
       "        text-align: right;\n",
       "    }\n",
       "</style>\n",
       "<table border=\"1\" class=\"dataframe\">\n",
       "  <thead>\n",
       "    <tr style=\"text-align: right;\">\n",
       "      <th></th>\n",
       "      <th>Toán học</th>\n",
       "      <th>Ngữ văn</th>\n",
       "      <th>Ngoại ngữ</th>\n",
       "      <th>Hóa học</th>\n",
       "      <th>Vật lí</th>\n",
       "      <th>Sinh học</th>\n",
       "      <th>Địa lí</th>\n",
       "      <th>Lịch sử</th>\n",
       "      <th>GDCD</th>\n",
       "    </tr>\n",
       "  </thead>\n",
       "  <tbody>\n",
       "    <tr>\n",
       "      <td>An Giang</td>\n",
       "      <td>0.065066</td>\n",
       "      <td>0.042693</td>\n",
       "      <td>0.036535</td>\n",
       "      <td>0.017407</td>\n",
       "      <td>0.030312</td>\n",
       "      <td>0.019958</td>\n",
       "      <td>0.096629</td>\n",
       "      <td>0.035092</td>\n",
       "      <td>0.571876</td>\n",
       "    </tr>\n",
       "    <tr>\n",
       "      <td>Bà Rịa Vũng Tàu</td>\n",
       "      <td>0.101878</td>\n",
       "      <td>0.015549</td>\n",
       "      <td>0.092084</td>\n",
       "      <td>0.017701</td>\n",
       "      <td>0.040459</td>\n",
       "      <td>0.009272</td>\n",
       "      <td>0.045991</td>\n",
       "      <td>0.015330</td>\n",
       "      <td>0.457904</td>\n",
       "    </tr>\n",
       "    <tr>\n",
       "      <td>Bình Dương</td>\n",
       "      <td>0.105152</td>\n",
       "      <td>0.016615</td>\n",
       "      <td>0.078613</td>\n",
       "      <td>0.035140</td>\n",
       "      <td>0.052611</td>\n",
       "      <td>0.016280</td>\n",
       "      <td>0.099264</td>\n",
       "      <td>0.027418</td>\n",
       "      <td>0.590251</td>\n",
       "    </tr>\n",
       "    <tr>\n",
       "      <td>Bình Phước</td>\n",
       "      <td>0.088539</td>\n",
       "      <td>0.013820</td>\n",
       "      <td>0.037303</td>\n",
       "      <td>0.033008</td>\n",
       "      <td>0.051396</td>\n",
       "      <td>0.017280</td>\n",
       "      <td>0.057927</td>\n",
       "      <td>0.021669</td>\n",
       "      <td>0.398412</td>\n",
       "    </tr>\n",
       "    <tr>\n",
       "      <td>Bình Thuận</td>\n",
       "      <td>0.063427</td>\n",
       "      <td>0.005793</td>\n",
       "      <td>0.038193</td>\n",
       "      <td>0.025793</td>\n",
       "      <td>0.040617</td>\n",
       "      <td>0.018974</td>\n",
       "      <td>0.054215</td>\n",
       "      <td>0.014099</td>\n",
       "      <td>0.493459</td>\n",
       "    </tr>\n",
       "    <tr>\n",
       "      <td>...</td>\n",
       "      <td>...</td>\n",
       "      <td>...</td>\n",
       "      <td>...</td>\n",
       "      <td>...</td>\n",
       "      <td>...</td>\n",
       "      <td>...</td>\n",
       "      <td>...</td>\n",
       "      <td>...</td>\n",
       "      <td>...</td>\n",
       "    </tr>\n",
       "    <tr>\n",
       "      <td>Đà Nẵng</td>\n",
       "      <td>0.124502</td>\n",
       "      <td>0.008853</td>\n",
       "      <td>0.096835</td>\n",
       "      <td>0.045443</td>\n",
       "      <td>0.062147</td>\n",
       "      <td>0.027512</td>\n",
       "      <td>0.034223</td>\n",
       "      <td>0.012695</td>\n",
       "      <td>0.299153</td>\n",
       "    </tr>\n",
       "    <tr>\n",
       "      <td>Đắk Lắk</td>\n",
       "      <td>0.071471</td>\n",
       "      <td>0.005685</td>\n",
       "      <td>0.033245</td>\n",
       "      <td>0.032237</td>\n",
       "      <td>0.043714</td>\n",
       "      <td>0.017152</td>\n",
       "      <td>0.041699</td>\n",
       "      <td>0.019320</td>\n",
       "      <td>0.228274</td>\n",
       "    </tr>\n",
       "    <tr>\n",
       "      <td>Đắk Nông</td>\n",
       "      <td>0.057824</td>\n",
       "      <td>0.003775</td>\n",
       "      <td>0.017673</td>\n",
       "      <td>0.019814</td>\n",
       "      <td>0.033158</td>\n",
       "      <td>0.012535</td>\n",
       "      <td>0.049294</td>\n",
       "      <td>0.021044</td>\n",
       "      <td>0.279700</td>\n",
       "    </tr>\n",
       "    <tr>\n",
       "      <td>Đồng Nai</td>\n",
       "      <td>0.066060</td>\n",
       "      <td>0.005806</td>\n",
       "      <td>0.054273</td>\n",
       "      <td>0.016555</td>\n",
       "      <td>0.030844</td>\n",
       "      <td>0.011825</td>\n",
       "      <td>0.036520</td>\n",
       "      <td>0.013894</td>\n",
       "      <td>0.341206</td>\n",
       "    </tr>\n",
       "    <tr>\n",
       "      <td>Đồng Tháp</td>\n",
       "      <td>0.064041</td>\n",
       "      <td>0.015059</td>\n",
       "      <td>0.022836</td>\n",
       "      <td>0.018760</td>\n",
       "      <td>0.023283</td>\n",
       "      <td>0.021273</td>\n",
       "      <td>0.052133</td>\n",
       "      <td>0.018794</td>\n",
       "      <td>0.463148</td>\n",
       "    </tr>\n",
       "  </tbody>\n",
       "</table>\n",
       "<p>62 rows × 9 columns</p>\n",
       "</div>"
      ],
      "text/plain": [
       "                 Toán học   Ngữ văn  Ngoại ngữ   Hóa học    Vật lí  Sinh học  \\\n",
       "An Giang         0.065066  0.042693   0.036535  0.017407  0.030312  0.019958   \n",
       "Bà Rịa Vũng Tàu  0.101878  0.015549   0.092084  0.017701  0.040459  0.009272   \n",
       "Bình Dương       0.105152  0.016615   0.078613  0.035140  0.052611  0.016280   \n",
       "Bình Phước       0.088539  0.013820   0.037303  0.033008  0.051396  0.017280   \n",
       "Bình Thuận       0.063427  0.005793   0.038193  0.025793  0.040617  0.018974   \n",
       "...                   ...       ...        ...       ...       ...       ...   \n",
       "Đà Nẵng          0.124502  0.008853   0.096835  0.045443  0.062147  0.027512   \n",
       "Đắk Lắk          0.071471  0.005685   0.033245  0.032237  0.043714  0.017152   \n",
       "Đắk Nông         0.057824  0.003775   0.017673  0.019814  0.033158  0.012535   \n",
       "Đồng Nai         0.066060  0.005806   0.054273  0.016555  0.030844  0.011825   \n",
       "Đồng Tháp        0.064041  0.015059   0.022836  0.018760  0.023283  0.021273   \n",
       "\n",
       "                   Địa lí   Lịch sử      GDCD  \n",
       "An Giang         0.096629  0.035092  0.571876  \n",
       "Bà Rịa Vũng Tàu  0.045991  0.015330  0.457904  \n",
       "Bình Dương       0.099264  0.027418  0.590251  \n",
       "Bình Phước       0.057927  0.021669  0.398412  \n",
       "Bình Thuận       0.054215  0.014099  0.493459  \n",
       "...                   ...       ...       ...  \n",
       "Đà Nẵng          0.034223  0.012695  0.299153  \n",
       "Đắk Lắk          0.041699  0.019320  0.228274  \n",
       "Đắk Nông         0.049294  0.021044  0.279700  \n",
       "Đồng Nai         0.036520  0.013894  0.341206  \n",
       "Đồng Tháp        0.052133  0.018794  0.463148  \n",
       "\n",
       "[62 rows x 9 columns]"
      ]
     },
     "execution_count": 31,
     "metadata": {},
     "output_type": "execute_result"
    }
   ],
   "source": [
    "diemcao_toan=diem2019_df[diem2019_df['Toán'] >=8.0 ]['Tỉnh Thành'].value_counts()/diem2019_df.groupby('Tỉnh Thành')['Toán'].count()\n",
    "diemcao_van=diem2019_df[diem2019_df['Ngữ văn'] >=8.0 ]['Tỉnh Thành'].value_counts()/diem2019_df.groupby('Tỉnh Thành')['Ngữ văn'].count()\n",
    "diemcao_nn=diem2019_df[diem2019_df['Ngoại ngữ'] >=8.0 ]['Tỉnh Thành'].value_counts()/diem2019_df.groupby('Tỉnh Thành')['Ngoại ngữ'].count()\n",
    "diemcao_hoa=diem2019_df[diem2019_df['Hóa học'] >=8.0 ]['Tỉnh Thành'].value_counts()/diem2019_df.groupby('Tỉnh Thành')['Hóa học'].count()\n",
    "diemcao_sinh=diem2019_df[diem2019_df['Sinh học'] >=8.0 ]['Tỉnh Thành'].value_counts()/diem2019_df.groupby('Tỉnh Thành')['Sinh học'].count()\n",
    "diemcao_li=diem2019_df[diem2019_df['Vật lí'] >=8.0 ]['Tỉnh Thành'].value_counts()/diem2019_df.groupby('Tỉnh Thành')['Vật lí'].count()\n",
    "diemcao_dia=diem2019_df[diem2019_df['Địa lí'] >=8.0 ]['Tỉnh Thành'].value_counts()/diem2019_df.groupby('Tỉnh Thành')['Địa lí'].count()\n",
    "diemcao_su=diem2019_df[diem2019_df['Lịch sử'] >=8.0 ]['Tỉnh Thành'].value_counts()/diem2019_df.groupby('Tỉnh Thành')['Lịch sử'].count()\n",
    "diemcao_cd=diem2019_df[diem2019_df['GDCD'] >=8.0 ]['Tỉnh Thành'].value_counts()/diem2019_df.groupby('Tỉnh Thành')['GDCD'].count()\n",
    "diemcao_df = pd.DataFrame({\"Toán học\":diemcao_toan,\"Ngữ văn\":diemcao_van,\"Ngoại ngữ\":diemcao_nn,\n",
    "                            \"Hóa học\":diemcao_hoa,\"Vật lí\":diemcao_li,\"Sinh học\":diemcao_sinh,\n",
    "                            \"Địa lí\":diemcao_dia,'Lịch sử':diemcao_su,\"GDCD\":diemcao_cd})\n",
    "diemcaot_df=diemcao_df.replace(np.nan,0)\n",
    "diemcao_df"
   ]
  },
  {
   "cell_type": "markdown",
   "metadata": {},
   "source": [
    "#### Đã có bảng rồi chúng ta thử vẽ ra xem có gì thú vị theo môn không"
   ]
  },
  {
   "cell_type": "markdown",
   "metadata": {},
   "source": [
    "#### <u>Môn toán:</u>"
   ]
  },
  {
   "cell_type": "code",
   "execution_count": 36,
   "metadata": {},
   "outputs": [
    {
     "data": {
      "text/plain": [
       "<matplotlib.axes._subplots.AxesSubplot at 0x2d992ea7550>"
      ]
     },
     "execution_count": 36,
     "metadata": {},
     "output_type": "execute_result"
    },
    {
     "data": {
      "image/png": "[encoded data removed]",
      "text/plain": [
       "<Figure size 1152x288 with 1 Axes>"
      ]
     },
     "metadata": {
      "needs_background": "light"
     },
     "output_type": "display_data"
    }
   ],
   "source": [
    "diemcao_df['Toán học'].plot.bar(figsize=(16,4),title=\"điểm toán cao năm 2019\")"
   ]
  },
  {
   "cell_type": "markdown",
   "metadata": {},
   "source": [
    "Chúng ta nhìn thử xem, cơ bản điểm trên 8 ở toàn quốc chia làm 3 phân vùng chính đó là rất cao, bình thường và ít. Trong đó Nam Định với số lượng thí sinh có điểm trên 8 cao hơn nhiều so với cả nước và hơn các hạng nhị như Bắc Ninh, Hà Nội, Thái Bình và Vĩnh Phúc, các tỉnh này tuy có cao và có vẻ ngang nhau, Nam Định dẫn đầu và hơn 1 khúc cũng vừa vừa, <i>có lẽ môn Toán được đào tạo khá tốt ở Nam Định?</i>"
   ]
  },
  {
   "cell_type": "markdown",
   "metadata": {},
   "source": [
    "#### <u>Môn Ngữ văn</u>"
   ]
  },
  {
   "cell_type": "code",
   "execution_count": 37,
   "metadata": {},
   "outputs": [
    {
     "data": {
      "text/plain": [
       "<matplotlib.axes._subplots.AxesSubplot at 0x2d9932617b8>"
      ]
     },
     "execution_count": 37,
     "metadata": {},
     "output_type": "execute_result"
    },
    {
     "data": {
      "image/png": "[encoded data removed]",
      "text/plain": [
       "<Figure size 1152x288 with 1 Axes>"
      ]
     },
     "metadata": {
      "needs_background": "light"
     },
     "output_type": "display_data"
    }
   ],
   "source": [
    "diemcao_df['Ngữ văn'].plot.bar(figsize=(16,4),title=\"điểm văn cao năm 2019\")"
   ]
  },
  {
   "cell_type": "markdown",
   "metadata": {},
   "source": [
    "Điểm môn văn cao cơ bản chiếm tỉ lệ không cao ở các tỉnh, có một vài tỉnh cao, trong đó nổi bậc là 4 tỉnh: Hà Nam, Cần Thơ, Nghệ An và Vĩnh Phúc"
   ]
  },
  {
   "cell_type": "markdown",
   "metadata": {},
   "source": [
    "#### <u>Môn ngoại ngữ</u>"
   ]
  },
  {
   "cell_type": "code",
   "execution_count": 38,
   "metadata": {},
   "outputs": [
    {
     "data": {
      "text/plain": [
       "<matplotlib.axes._subplots.AxesSubplot at 0x2d99cdeb0b8>"
      ]
     },
     "execution_count": 38,
     "metadata": {},
     "output_type": "execute_result"
    },
    {
     "data": {
      "image/png": "[encoded data removed]",
      "text/plain": [
       "<Figure size 1152x288 with 1 Axes>"
      ]
     },
     "metadata": {
      "needs_background": "light"
     },
     "output_type": "display_data"
    }
   ],
   "source": [
    "diemcao_df['Ngoại ngữ'].plot.bar(figsize=(16,4),title=\"điểm ngoại ngữ cao năm 2019\")"
   ]
  },
  {
   "cell_type": "markdown",
   "metadata": {},
   "source": [
    "Điểm ngoại ngữ cao ở các tỉnh cơ bản ít và phân bố gần như đồng đều, trừ một số tỉnh có số lượng quá lớn như Bà Rịa Vũng Tàu, Hải Phòng, Nam Định, Vĩnh Phúc, Đà Nẵng và đặc biệt là Hà Nội. Thí sinh Hà Nội khá là giỏi ngoại ngữ vì chiếm tỉ trọng khá cao so với các tỉnh khác."
   ]
  },
  {
   "cell_type": "markdown",
   "metadata": {},
   "source": [
    "#### <u>Môn Vật lí</u>"
   ]
  },
  {
   "cell_type": "code",
   "execution_count": 39,
   "metadata": {},
   "outputs": [
    {
     "data": {
      "text/plain": [
       "<matplotlib.axes._subplots.AxesSubplot at 0x2d9a7866940>"
      ]
     },
     "execution_count": 39,
     "metadata": {},
     "output_type": "execute_result"
    },
    {
     "data": {
      "image/png": "[encoded data removed]",
      "text/plain": [
       "<Figure size 1152x288 with 1 Axes>"
      ]
     },
     "metadata": {
      "needs_background": "light"
     },
     "output_type": "display_data"
    }
   ],
   "source": [
    "diemcao_df['Vật lí'].plot.bar(figsize=(16,4),title=\"điểm lí cao năm 2019\")"
   ]
  },
  {
   "cell_type": "markdown",
   "metadata": {},
   "source": [
    "Điểm cao môn Vật lí thì phân bố chủ yếu ở hai mức là trung bình và quá cao, đặc biệt là Vĩnh Phúc, Hà Tĩnh, Bắc Ninh"
   ]
  },
  {
   "cell_type": "markdown",
   "metadata": {},
   "source": [
    "#### <u>Môn hóa học</u>"
   ]
  },
  {
   "cell_type": "code",
   "execution_count": 40,
   "metadata": {},
   "outputs": [
    {
     "data": {
      "text/plain": [
       "<matplotlib.axes._subplots.AxesSubplot at 0x2d9ac47a908>"
      ]
     },
     "execution_count": 40,
     "metadata": {},
     "output_type": "execute_result"
    },
    {
     "data": {
      "image/png": "[encoded data removed]",
      "text/plain": [
       "<Figure size 1152x288 with 1 Axes>"
      ]
     },
     "metadata": {
      "needs_background": "light"
     },
     "output_type": "display_data"
    }
   ],
   "source": [
    "diemcao_df['Hóa học'].plot.bar(figsize=(16,4),title=\"điểm hóa cao năm 2019\")"
   ]
  },
  {
   "cell_type": "markdown",
   "metadata": {},
   "source": [
    "Điểm hóa thì phân bố 3 mức: cao, trung bình và ít, nỗi bậc cũng ở Vĩnh Phúc Bắc Ninh và Phú Thọ, Hà Tĩnh."
   ]
  },
  {
   "cell_type": "markdown",
   "metadata": {},
   "source": [
    "#### <u>Môn sinh học</u>"
   ]
  },
  {
   "cell_type": "code",
   "execution_count": 41,
   "metadata": {},
   "outputs": [
    {
     "data": {
      "text/plain": [
       "<matplotlib.axes._subplots.AxesSubplot at 0x2d9ac917ba8>"
      ]
     },
     "execution_count": 41,
     "metadata": {},
     "output_type": "execute_result"
    },
    {
     "data": {
      "image/png": "[encoded data removed]",
      "text/plain": [
       "<Figure size 1152x288 with 1 Axes>"
      ]
     },
     "metadata": {
      "needs_background": "light"
     },
     "output_type": "display_data"
    }
   ],
   "source": [
    "diemcao_df['Sinh học'].plot.bar(figsize=(16,4),title=\"điểm sinh cao năm 2019\")"
   ]
  },
  {
   "cell_type": "markdown",
   "metadata": {},
   "source": [
    "Chúng ta cũng nhìn thấy là điẻm Sinh các tỉnh thành khá là cao so với những điểm của các môn đã so sánh trước đây, nổi bậc là Cần Thơ, Bạc Liêu, Kon Tum, Phú Thọ và Thừa Thiên Huế."
   ]
  },
  {
   "cell_type": "markdown",
   "metadata": {},
   "source": [
    "#### <u>Môn Địa lí</u>"
   ]
  },
  {
   "cell_type": "code",
   "execution_count": 42,
   "metadata": {},
   "outputs": [
    {
     "data": {
      "text/plain": [
       "<matplotlib.axes._subplots.AxesSubplot at 0x2d9ad26c550>"
      ]
     },
     "execution_count": 42,
     "metadata": {},
     "output_type": "execute_result"
    },
    {
     "data": {
      "image/png": "[encoded data removed]",
      "text/plain": [
       "<Figure size 1152x288 with 1 Axes>"
      ]
     },
     "metadata": {
      "needs_background": "light"
     },
     "output_type": "display_data"
    }
   ],
   "source": [
    "diemcao_df['Địa lí'].plot.bar(figsize=(16,4),title=\"điểm địa cao năm 2019\")"
   ]
  },
  {
   "cell_type": "markdown",
   "metadata": {},
   "source": [
    "Môn địa thì phân bố đồng đều ở tâm trung và có một số tỉnh có tỉ lệ cao như là An Giang, Bình Dương, Hà Nam, Ninh Bình, Phú Thọ và đặc biệt là Vĩnh Phúc."
   ]
  },
  {
   "cell_type": "markdown",
   "metadata": {},
   "source": [
    "#### <u>Môn Lịch sử</u>"
   ]
  },
  {
   "cell_type": "code",
   "execution_count": 43,
   "metadata": {},
   "outputs": [
    {
     "data": {
      "text/plain": [
       "<matplotlib.axes._subplots.AxesSubplot at 0x2d9af5a0320>"
      ]
     },
     "execution_count": 43,
     "metadata": {},
     "output_type": "execute_result"
    },
    {
     "data": {
      "image/png": "[encoded data removed]",
      "text/plain": [
       "<Figure size 1152x288 with 1 Axes>"
      ]
     },
     "metadata": {
      "needs_background": "light"
     },
     "output_type": "display_data"
    }
   ],
   "source": [
    "diemcao_df['Lịch sử'].plot.bar(figsize=(16,4),title=\"điểm sử cao năm 2019\")"
   ]
  },
  {
   "cell_type": "markdown",
   "metadata": {},
   "source": [
    "điểm cao phân bố cũng đồng đều ở mức trung bình của tỉ lệ, tuy nhiên cũng có những tỉnh thành có nhiều điểm cao và nổi bậc phải nói đến Hà Nam, Nam Định, Phú Thọ và đặc biệt là Vĩnh Phúc"
   ]
  },
  {
   "cell_type": "markdown",
   "metadata": {},
   "source": [
    "#### <u>Môn GDCD</u>"
   ]
  },
  {
   "cell_type": "code",
   "execution_count": 44,
   "metadata": {
    "scrolled": true
   },
   "outputs": [
    {
     "data": {
      "text/plain": [
       "<matplotlib.axes._subplots.AxesSubplot at 0x2d9af8a3ac8>"
      ]
     },
     "execution_count": 44,
     "metadata": {},
     "output_type": "execute_result"
    },
    {
     "data": {
      "image/png": "[encoded data removed]",
      "text/plain": [
       "<Figure size 1152x288 with 1 Axes>"
      ]
     },
     "metadata": {
      "needs_background": "light"
     },
     "output_type": "display_data"
    }
   ],
   "source": [
    "diemcao_df['GDCD'].plot.bar(figsize=(16,4),title=\"điểm GDCD cao năm 2019\")"
   ]
  },
  {
   "cell_type": "markdown",
   "metadata": {},
   "source": [
    "Điểm cao môn này khá nhiều và phân bố hầu như cao ở các tỉnh thành, tuy nhiên có vài tỉnh thấp như là Hà Giang và Sơn La."
   ]
  },
  {
   "cell_type": "markdown",
   "metadata": {},
   "source": [
    "<ul><b>5 tỉnh điểm cao nhất theo từng môn</b></ul>\n"
   ]
  },
  {
   "cell_type": "markdown",
   "metadata": {},
   "source": [
    "Chúng ta đã có cái nhìn sơ bộ về các tỉnh theo gốc nhìn thống kê điểm cao (>=8) của môi môn, giờ đây, chúng ta sẽ dùng những kiến thức về thể hiện dữ liệu trong pandas để thể hiện ra 5 tỉnh cao điểm nhất theo môn. Cũng như những hiển thị phía trên, chúng ta sẽ lấy trong cột điểm môn X rồi sort theo giá trị và kết quả trả về chính là index (tên tỉnh thành) theo top5"
   ]
  },
  {
   "cell_type": "code",
   "execution_count": 77,
   "metadata": {},
   "outputs": [
    {
     "data": {
      "text/html": [
       "<div>\n",
       "<style scoped>\n",
       "    .dataframe tbody tr th:only-of-type {\n",
       "        vertical-align: middle;\n",
       "    }\n",
       "\n",
       "    .dataframe tbody tr th {\n",
       "        vertical-align: top;\n",
       "    }\n",
       "\n",
       "    .dataframe thead th {\n",
       "        text-align: right;\n",
       "    }\n",
       "</style>\n",
       "<table border=\"1\" class=\"dataframe\">\n",
       "  <thead>\n",
       "    <tr style=\"text-align: right;\">\n",
       "      <th></th>\n",
       "      <th>Toán</th>\n",
       "      <th>Ngữ văn</th>\n",
       "      <th>Ngoại ngữ</th>\n",
       "      <th>Hóa học</th>\n",
       "      <th>Vật lí</th>\n",
       "      <th>Sinh học</th>\n",
       "      <th>Địa lí</th>\n",
       "      <th>Lịch sử</th>\n",
       "      <th>GDCD</th>\n",
       "    </tr>\n",
       "  </thead>\n",
       "  <tbody>\n",
       "    <tr>\n",
       "      <td>0</td>\n",
       "      <td>Vĩnh Phúc</td>\n",
       "      <td>Hải Dương</td>\n",
       "      <td>Bình Dương</td>\n",
       "      <td>Nghệ An</td>\n",
       "      <td>Hưng Yên</td>\n",
       "      <td>Bạc Liêu</td>\n",
       "      <td>Nam Định</td>\n",
       "      <td>Phú Thọ</td>\n",
       "      <td>Bình Dương</td>\n",
       "    </tr>\n",
       "    <tr>\n",
       "      <td>1</td>\n",
       "      <td>Bắc Ninh</td>\n",
       "      <td>Vĩnh Phúc</td>\n",
       "      <td>Hải Phòng</td>\n",
       "      <td>Hà Tĩnh</td>\n",
       "      <td>Hà Nội</td>\n",
       "      <td>Phú Thọ</td>\n",
       "      <td>Phú Thọ</td>\n",
       "      <td>Hà Nam</td>\n",
       "      <td>Nam Định</td>\n",
       "    </tr>\n",
       "    <tr>\n",
       "      <td>2</td>\n",
       "      <td>Thái Bình</td>\n",
       "      <td>Nghệ An</td>\n",
       "      <td>Bà Rịa Vũng Tàu</td>\n",
       "      <td>Bắc Ninh</td>\n",
       "      <td>Bắc Ninh</td>\n",
       "      <td>Hà Tĩnh</td>\n",
       "      <td>Ninh Bình</td>\n",
       "      <td>Ninh Bình</td>\n",
       "      <td>Hà Nam</td>\n",
       "    </tr>\n",
       "    <tr>\n",
       "      <td>3</td>\n",
       "      <td>Hà Nội</td>\n",
       "      <td>Cần Thơ</td>\n",
       "      <td>Đà Nẵng</td>\n",
       "      <td>Phú Thọ</td>\n",
       "      <td>Hà Tĩnh</td>\n",
       "      <td>Cần Thơ</td>\n",
       "      <td>Hà Nam</td>\n",
       "      <td>Nam Định</td>\n",
       "      <td>Vĩnh Phúc</td>\n",
       "    </tr>\n",
       "    <tr>\n",
       "      <td>4</td>\n",
       "      <td>Nam Định</td>\n",
       "      <td>Hà Nam</td>\n",
       "      <td>Hà Nội</td>\n",
       "      <td>Vĩnh Phúc</td>\n",
       "      <td>Vĩnh Phúc</td>\n",
       "      <td>Kon Tum</td>\n",
       "      <td>Vĩnh Phúc</td>\n",
       "      <td>Vĩnh Phúc</td>\n",
       "      <td>Ninh Bình</td>\n",
       "    </tr>\n",
       "  </tbody>\n",
       "</table>\n",
       "</div>"
      ],
      "text/plain": [
       "        Toán    Ngữ văn        Ngoại ngữ    Hóa học     Vật lí  Sinh học  \\\n",
       "0  Vĩnh Phúc  Hải Dương       Bình Dương    Nghệ An   Hưng Yên  Bạc Liêu   \n",
       "1   Bắc Ninh  Vĩnh Phúc        Hải Phòng    Hà Tĩnh     Hà Nội   Phú Thọ   \n",
       "2  Thái Bình    Nghệ An  Bà Rịa Vũng Tàu   Bắc Ninh   Bắc Ninh   Hà Tĩnh   \n",
       "3     Hà Nội    Cần Thơ          Đà Nẵng    Phú Thọ    Hà Tĩnh   Cần Thơ   \n",
       "4   Nam Định     Hà Nam           Hà Nội  Vĩnh Phúc  Vĩnh Phúc   Kon Tum   \n",
       "\n",
       "      Địa lí    Lịch sử        GDCD  \n",
       "0   Nam Định    Phú Thọ  Bình Dương  \n",
       "1    Phú Thọ     Hà Nam    Nam Định  \n",
       "2  Ninh Bình  Ninh Bình      Hà Nam  \n",
       "3     Hà Nam   Nam Định   Vĩnh Phúc  \n",
       "4  Vĩnh Phúc  Vĩnh Phúc   Ninh Bình  "
      ]
     },
     "execution_count": 77,
     "metadata": {},
     "output_type": "execute_result"
    }
   ],
   "source": [
    "top5_cao_toan=diemcao_df['Toán học'].sort_values()[index_max].index\n",
    "top5_cao_van=diemcao_df['Ngữ văn'].sort_values()[index_max].index\n",
    "top5_cao_nn=diemcao_df['Ngoại ngữ'].sort_values()[index_max].index\n",
    "top5_cao_hoa=diemcao_df['Hóa học'].sort_values()[index_max].index\n",
    "top5_cao_li=diemcao_df['Vật lí'].sort_values()[index_max].index\n",
    "top5_cao_sinh=diemcao_df['Sinh học'].sort_values()[index_max].index\n",
    "top5_cao_dia=diemcao_df['Địa lí'].sort_values()[index_max].index\n",
    "top5_cao_su=diemcao_df['Lịch sử'].sort_values()[index_max].index\n",
    "top5_cao_cd=diemcao_df['GDCD'].sort_values()[index_max].index\n",
    "top5_diemcao_df=pd.DataFrame({'Toán':top5_cao_toan,'Ngữ văn':top5_cao_van,'Ngoại ngữ':top5_cao_nn,'Hóa học':top5_cao_hoa,\n",
    "                              'Vật lí':top5_cao_li,'Sinh học':top5_cao_sinh,'Địa lí':top5_cao_dia,'Lịch sử':top5_cao_su,\n",
    "                              'GDCD':top5_cao_cd})\n",
    "top5_diemcao_df"
   ]
  },
  {
   "cell_type": "markdown",
   "metadata": {},
   "source": [
    "<ul><u><b>Nhận xét:</b></u> \n",
    "    <ol>Chúng ta có thể nhìn thấy đây là những tỉnh có những học sinh xuất sắc của cả nước theo từng môn vì vậy chúng ta có thể nhìn nhận phần chung thì chất lượng tỉnh này tốt.</ol>\n",
    "    <ol>\n",
    "        Giờ chúng ta đánh giá thêm tí nào:\n",
    "        <ol>Như phân tích sơ bộ thì Vĩnh Phúc có nhiều điểm cao nhất</ol>\n",
    "    </ol>\n",
    "</ul>"
   ]
  },
  {
   "cell_type": "markdown",
   "metadata": {},
   "source": [
    "<b>Tóm lại:</b> Câu 1 là chúng ta nhìn nhận được sơ lược về tình hình học tập của các thí sinh trên toàn bộ  tỉnh thành về số lượng học sinh khá giỏi cũng như những học sinh chất lượng không được tốt cho lắm, từ đó chúng ta cần ra biện pháp tăng cường củng cố phần thiếu cho những tỉnh thành có chất lượng không cao bằng mặt bằng chung và năng cao và duy trì phong độ của các tỉnh đang trong top "
   ]
  },
  {
   "cell_type": "markdown",
   "metadata": {},
   "source": [
    "### <ul> <u>Câu hỏi 2:</u> Năm 2017 được xem là năm mà đề dễ hơn nhiều so với năm 2019, vậy thử tìm hiểu xem đề năm nào dễ hơn và dễ để tốt nghiệp hay dễ để đậu đại học </ul>"
   ]
  },
  {
   "cell_type": "markdown",
   "metadata": {},
   "source": [
    "<ul><ul>\n",
    "    Câu hỏi này được đặt ra khi mà hiện tại có nhiều bạn thí sinh thi xong luôn đánh giá một kì thi mình đang thi thông qua một kì thi về trước, liệu cái đánh giá đó có giúp bạn nhìn nhận được chính xác sơ lược về điểm chuẩn đại học hay năng cao cơ hội vào ngôi trường mơ ước của mình hay không???<br>\n",
    "    Vậy chúng ta sẽ tiến hành như thế nào đây, việc đánh giá có hay không có một độ khó giữa các năm thì cần đem hai năm lên bàn cân mà phân tích, vậy chúng ta sẽ phân tích điểm theo vài chi tiêu chi sau:\n",
    "    <ul>Điểm thi một môn qua hai năm trong phạm vi cả nước thông qua thang điểm trung bình của môn đó</ul>\n",
    "    <ul>Tỉ lệ thí sinh tốt nghiệp giữa hai năm <ul>\n",
    "</ul></ul>\n"
   ]
  },
  {
   "cell_type": "markdown",
   "metadata": {},
   "source": [
    "### <ul><ul><b>Xét điểm thi qua từng môn giữa hai năm </b></ul></ul>"
   ]
  },
  {
   "cell_type": "markdown",
   "metadata": {},
   "source": [
    "<ul><ul><ul>Trước khi đi sâu vào phân tích thì có hai khái niệm cần nêu rõ đó là dễ tốt nghiệp hay dễ đậu đại học hơn :\n",
    "    <ul>Dễ đậu đại học theo mình nghĩ là chính do sự khác biệt của chính các thí sinh tạo ra, vì đại học là một cuộc cạnh tranh khốc liệt giữa họ mà</ul>\n",
    "    <ul>\n",
    "        Dễ đậu tốt nghiệp là phần lớn ở đề vì đề mà dễ đủ đạt tốt nghiệp thì đương nhiên sẽ dễ, chứ đề toàn những câu phân loại để tuyển đại học thì chắc là kì thi tốt nghiệp năm ấy khó khăn rồi \n",
    "    </ul>\n",
    "    Về cơ bản độ khó mỗi năm của mỗi đề là khác nhau, nên việc dữ đoán điểm cũng như một hình thức cũng cố niềm tin của bản thân, tuy nhiên chúng ta thử phân tích xem <b>Cách tạo niềm tin </b> này đúng không</ul></ul></ul>"
   ]
  },
  {
   "cell_type": "markdown",
   "metadata": {},
   "source": [
    "#### Thêm cột tốt nghiệp cho năm 2017"
   ]
  },
  {
   "cell_type": "code",
   "execution_count": 78,
   "metadata": {},
   "outputs": [
    {
     "data": {
      "text/html": [
       "<div>\n",
       "<style scoped>\n",
       "    .dataframe tbody tr th:only-of-type {\n",
       "        vertical-align: middle;\n",
       "    }\n",
       "\n",
       "    .dataframe tbody tr th {\n",
       "        vertical-align: top;\n",
       "    }\n",
       "\n",
       "    .dataframe thead th {\n",
       "        text-align: right;\n",
       "    }\n",
       "</style>\n",
       "<table border=\"1\" class=\"dataframe\">\n",
       "  <thead>\n",
       "    <tr style=\"text-align: right;\">\n",
       "      <th></th>\n",
       "      <th>SBD</th>\n",
       "      <th>Tỉnh Thành</th>\n",
       "      <th>Toán</th>\n",
       "      <th>Ngữ văn</th>\n",
       "      <th>Vật lí</th>\n",
       "      <th>Hóa học</th>\n",
       "      <th>Sinh học</th>\n",
       "      <th>KHTN</th>\n",
       "      <th>Lịch sử</th>\n",
       "      <th>Địa lí</th>\n",
       "      <th>GDCD</th>\n",
       "      <th>KHXH</th>\n",
       "      <th>Ngoại ngữ</th>\n",
       "      <th>Điểm tốt nghiệp</th>\n",
       "    </tr>\n",
       "  </thead>\n",
       "  <tbody>\n",
       "    <tr>\n",
       "      <td>0</td>\n",
       "      <td>47006585</td>\n",
       "      <td>Bình Thuận</td>\n",
       "      <td>6.8</td>\n",
       "      <td>5.25</td>\n",
       "      <td>5.25</td>\n",
       "      <td>5.50</td>\n",
       "      <td>5.00</td>\n",
       "      <td>5.25</td>\n",
       "      <td>4.00</td>\n",
       "      <td>7.50</td>\n",
       "      <td>8.50</td>\n",
       "      <td>6.67</td>\n",
       "      <td>5.8</td>\n",
       "      <td>6.1300</td>\n",
       "    </tr>\n",
       "    <tr>\n",
       "      <td>1</td>\n",
       "      <td>47003701</td>\n",
       "      <td>Bình Thuận</td>\n",
       "      <td>3.4</td>\n",
       "      <td>6.25</td>\n",
       "      <td>NaN</td>\n",
       "      <td>NaN</td>\n",
       "      <td>NaN</td>\n",
       "      <td>NaN</td>\n",
       "      <td>2.25</td>\n",
       "      <td>3.50</td>\n",
       "      <td>5.25</td>\n",
       "      <td>3.67</td>\n",
       "      <td>3.6</td>\n",
       "      <td>4.2300</td>\n",
       "    </tr>\n",
       "    <tr>\n",
       "      <td>2</td>\n",
       "      <td>47007840</td>\n",
       "      <td>Bình Thuận</td>\n",
       "      <td>5.4</td>\n",
       "      <td>5.50</td>\n",
       "      <td>NaN</td>\n",
       "      <td>NaN</td>\n",
       "      <td>NaN</td>\n",
       "      <td>NaN</td>\n",
       "      <td>7.25</td>\n",
       "      <td>8.25</td>\n",
       "      <td>8.50</td>\n",
       "      <td>8.00</td>\n",
       "      <td>2.8</td>\n",
       "      <td>5.4250</td>\n",
       "    </tr>\n",
       "    <tr>\n",
       "      <td>3</td>\n",
       "      <td>47006513</td>\n",
       "      <td>Bình Thuận</td>\n",
       "      <td>4.4</td>\n",
       "      <td>5.50</td>\n",
       "      <td>NaN</td>\n",
       "      <td>NaN</td>\n",
       "      <td>NaN</td>\n",
       "      <td>NaN</td>\n",
       "      <td>4.50</td>\n",
       "      <td>5.25</td>\n",
       "      <td>8.00</td>\n",
       "      <td>5.92</td>\n",
       "      <td>5.0</td>\n",
       "      <td>5.2050</td>\n",
       "    </tr>\n",
       "    <tr>\n",
       "      <td>4</td>\n",
       "      <td>47000048</td>\n",
       "      <td>Bình Thuận</td>\n",
       "      <td>5.6</td>\n",
       "      <td>5.50</td>\n",
       "      <td>5.00</td>\n",
       "      <td>6.50</td>\n",
       "      <td>6.50</td>\n",
       "      <td>6.00</td>\n",
       "      <td>5.75</td>\n",
       "      <td>9.00</td>\n",
       "      <td>7.75</td>\n",
       "      <td>7.50</td>\n",
       "      <td>5.6</td>\n",
       "      <td>6.0500</td>\n",
       "    </tr>\n",
       "    <tr>\n",
       "      <td>...</td>\n",
       "      <td>...</td>\n",
       "      <td>...</td>\n",
       "      <td>...</td>\n",
       "      <td>...</td>\n",
       "      <td>...</td>\n",
       "      <td>...</td>\n",
       "      <td>...</td>\n",
       "      <td>...</td>\n",
       "      <td>...</td>\n",
       "      <td>...</td>\n",
       "      <td>...</td>\n",
       "      <td>...</td>\n",
       "      <td>...</td>\n",
       "      <td>...</td>\n",
       "    </tr>\n",
       "    <tr>\n",
       "      <td>847343</td>\n",
       "      <td>2039206</td>\n",
       "      <td>TP. Hồ Chí Minh</td>\n",
       "      <td>5.4</td>\n",
       "      <td>5.00</td>\n",
       "      <td>4.75</td>\n",
       "      <td>5.25</td>\n",
       "      <td>4.50</td>\n",
       "      <td>4.83</td>\n",
       "      <td>NaN</td>\n",
       "      <td>NaN</td>\n",
       "      <td>NaN</td>\n",
       "      <td>NaN</td>\n",
       "      <td>7.2</td>\n",
       "      <td>5.6075</td>\n",
       "    </tr>\n",
       "    <tr>\n",
       "      <td>847344</td>\n",
       "      <td>2017585</td>\n",
       "      <td>TP. Hồ Chí Minh</td>\n",
       "      <td>7.4</td>\n",
       "      <td>6.75</td>\n",
       "      <td>5.25</td>\n",
       "      <td>4.50</td>\n",
       "      <td>5.25</td>\n",
       "      <td>5.00</td>\n",
       "      <td>NaN</td>\n",
       "      <td>NaN</td>\n",
       "      <td>NaN</td>\n",
       "      <td>NaN</td>\n",
       "      <td>7.0</td>\n",
       "      <td>6.5375</td>\n",
       "    </tr>\n",
       "    <tr>\n",
       "      <td>847345</td>\n",
       "      <td>2003325</td>\n",
       "      <td>TP. Hồ Chí Minh</td>\n",
       "      <td>6.6</td>\n",
       "      <td>4.75</td>\n",
       "      <td>4.75</td>\n",
       "      <td>6.75</td>\n",
       "      <td>3.75</td>\n",
       "      <td>5.08</td>\n",
       "      <td>NaN</td>\n",
       "      <td>NaN</td>\n",
       "      <td>NaN</td>\n",
       "      <td>NaN</td>\n",
       "      <td>3.4</td>\n",
       "      <td>4.9575</td>\n",
       "    </tr>\n",
       "    <tr>\n",
       "      <td>847346</td>\n",
       "      <td>2043335</td>\n",
       "      <td>TP. Hồ Chí Minh</td>\n",
       "      <td>5.4</td>\n",
       "      <td>5.00</td>\n",
       "      <td>2.25</td>\n",
       "      <td>5.75</td>\n",
       "      <td>4.50</td>\n",
       "      <td>4.17</td>\n",
       "      <td>NaN</td>\n",
       "      <td>NaN</td>\n",
       "      <td>NaN</td>\n",
       "      <td>NaN</td>\n",
       "      <td>4.8</td>\n",
       "      <td>4.8425</td>\n",
       "    </tr>\n",
       "    <tr>\n",
       "      <td>847347</td>\n",
       "      <td>2036615</td>\n",
       "      <td>TP. Hồ Chí Minh</td>\n",
       "      <td>5.8</td>\n",
       "      <td>5.75</td>\n",
       "      <td>6.50</td>\n",
       "      <td>4.50</td>\n",
       "      <td>4.75</td>\n",
       "      <td>5.25</td>\n",
       "      <td>NaN</td>\n",
       "      <td>NaN</td>\n",
       "      <td>NaN</td>\n",
       "      <td>NaN</td>\n",
       "      <td>7.2</td>\n",
       "      <td>6.0000</td>\n",
       "    </tr>\n",
       "  </tbody>\n",
       "</table>\n",
       "<p>847348 rows × 14 columns</p>\n",
       "</div>"
      ],
      "text/plain": [
       "             SBD       Tỉnh Thành  Toán  Ngữ văn  Vật lí  Hóa học  Sinh học  \\\n",
       "0       47006585       Bình Thuận   6.8     5.25    5.25     5.50      5.00   \n",
       "1       47003701       Bình Thuận   3.4     6.25     NaN      NaN       NaN   \n",
       "2       47007840       Bình Thuận   5.4     5.50     NaN      NaN       NaN   \n",
       "3       47006513       Bình Thuận   4.4     5.50     NaN      NaN       NaN   \n",
       "4       47000048       Bình Thuận   5.6     5.50    5.00     6.50      6.50   \n",
       "...          ...              ...   ...      ...     ...      ...       ...   \n",
       "847343   2039206  TP. Hồ Chí Minh   5.4     5.00    4.75     5.25      4.50   \n",
       "847344   2017585  TP. Hồ Chí Minh   7.4     6.75    5.25     4.50      5.25   \n",
       "847345   2003325  TP. Hồ Chí Minh   6.6     4.75    4.75     6.75      3.75   \n",
       "847346   2043335  TP. Hồ Chí Minh   5.4     5.00    2.25     5.75      4.50   \n",
       "847347   2036615  TP. Hồ Chí Minh   5.8     5.75    6.50     4.50      4.75   \n",
       "\n",
       "        KHTN  Lịch sử  Địa lí  GDCD  KHXH  Ngoại ngữ  Điểm tốt nghiệp  \n",
       "0       5.25     4.00    7.50  8.50  6.67        5.8           6.1300  \n",
       "1        NaN     2.25    3.50  5.25  3.67        3.6           4.2300  \n",
       "2        NaN     7.25    8.25  8.50  8.00        2.8           5.4250  \n",
       "3        NaN     4.50    5.25  8.00  5.92        5.0           5.2050  \n",
       "4       6.00     5.75    9.00  7.75  7.50        5.6           6.0500  \n",
       "...      ...      ...     ...   ...   ...        ...              ...  \n",
       "847343  4.83      NaN     NaN   NaN   NaN        7.2           5.6075  \n",
       "847344  5.00      NaN     NaN   NaN   NaN        7.0           6.5375  \n",
       "847345  5.08      NaN     NaN   NaN   NaN        3.4           4.9575  \n",
       "847346  4.17      NaN     NaN   NaN   NaN        4.8           4.8425  \n",
       "847347  5.25      NaN     NaN   NaN   NaN        7.2           6.0000  \n",
       "\n",
       "[847348 rows x 14 columns]"
      ]
     },
     "execution_count": 78,
     "metadata": {},
     "output_type": "execute_result"
    }
   ],
   "source": [
    "temp1=(diem2017_df['Toán']+diem2017_df['Ngữ văn'] + diem2017_df['Ngoại ngữ'] + diem2017_df['KHTN'])/4\n",
    "temp2=(diem2017_df['Toán']+diem2017_df['Ngữ văn'] + diem2017_df['Ngoại ngữ'] + diem2017_df['KHXH'])/4\n",
    "temp = pd.DataFrame({'KHTN':temp1,'KHXH':temp2 })\n",
    "diem2017_df['Điểm tốt nghiệp']=temp.max(axis=1)\n",
    "diem2017_df"
   ]
  },
  {
   "cell_type": "markdown",
   "metadata": {},
   "source": [
    "#### Xóa giá trị nan trong điểm tốt nghiệp vì chỉ xét những thí sinh thi vào năm 2017 không tính thí sinh tự do"
   ]
  },
  {
   "cell_type": "code",
   "execution_count": 79,
   "metadata": {},
   "outputs": [
    {
     "data": {
      "text/html": [
       "<div>\n",
       "<style scoped>\n",
       "    .dataframe tbody tr th:only-of-type {\n",
       "        vertical-align: middle;\n",
       "    }\n",
       "\n",
       "    .dataframe tbody tr th {\n",
       "        vertical-align: top;\n",
       "    }\n",
       "\n",
       "    .dataframe thead th {\n",
       "        text-align: right;\n",
       "    }\n",
       "</style>\n",
       "<table border=\"1\" class=\"dataframe\">\n",
       "  <thead>\n",
       "    <tr style=\"text-align: right;\">\n",
       "      <th></th>\n",
       "      <th>SBD</th>\n",
       "      <th>Tỉnh Thành</th>\n",
       "      <th>Toán</th>\n",
       "      <th>Ngữ văn</th>\n",
       "      <th>Vật lí</th>\n",
       "      <th>Hóa học</th>\n",
       "      <th>Sinh học</th>\n",
       "      <th>KHTN</th>\n",
       "      <th>Lịch sử</th>\n",
       "      <th>Địa lí</th>\n",
       "      <th>GDCD</th>\n",
       "      <th>KHXH</th>\n",
       "      <th>Ngoại ngữ</th>\n",
       "      <th>Điểm tốt nghiệp</th>\n",
       "    </tr>\n",
       "  </thead>\n",
       "  <tbody>\n",
       "    <tr>\n",
       "      <td>0</td>\n",
       "      <td>47006585</td>\n",
       "      <td>Bình Thuận</td>\n",
       "      <td>6.8</td>\n",
       "      <td>5.25</td>\n",
       "      <td>5.25</td>\n",
       "      <td>5.50</td>\n",
       "      <td>5.00</td>\n",
       "      <td>5.25</td>\n",
       "      <td>4.00</td>\n",
       "      <td>7.50</td>\n",
       "      <td>8.50</td>\n",
       "      <td>6.67</td>\n",
       "      <td>5.8</td>\n",
       "      <td>6.1300</td>\n",
       "    </tr>\n",
       "    <tr>\n",
       "      <td>1</td>\n",
       "      <td>47003701</td>\n",
       "      <td>Bình Thuận</td>\n",
       "      <td>3.4</td>\n",
       "      <td>6.25</td>\n",
       "      <td>NaN</td>\n",
       "      <td>NaN</td>\n",
       "      <td>NaN</td>\n",
       "      <td>NaN</td>\n",
       "      <td>2.25</td>\n",
       "      <td>3.50</td>\n",
       "      <td>5.25</td>\n",
       "      <td>3.67</td>\n",
       "      <td>3.6</td>\n",
       "      <td>4.2300</td>\n",
       "    </tr>\n",
       "    <tr>\n",
       "      <td>2</td>\n",
       "      <td>47007840</td>\n",
       "      <td>Bình Thuận</td>\n",
       "      <td>5.4</td>\n",
       "      <td>5.50</td>\n",
       "      <td>NaN</td>\n",
       "      <td>NaN</td>\n",
       "      <td>NaN</td>\n",
       "      <td>NaN</td>\n",
       "      <td>7.25</td>\n",
       "      <td>8.25</td>\n",
       "      <td>8.50</td>\n",
       "      <td>8.00</td>\n",
       "      <td>2.8</td>\n",
       "      <td>5.4250</td>\n",
       "    </tr>\n",
       "    <tr>\n",
       "      <td>3</td>\n",
       "      <td>47006513</td>\n",
       "      <td>Bình Thuận</td>\n",
       "      <td>4.4</td>\n",
       "      <td>5.50</td>\n",
       "      <td>NaN</td>\n",
       "      <td>NaN</td>\n",
       "      <td>NaN</td>\n",
       "      <td>NaN</td>\n",
       "      <td>4.50</td>\n",
       "      <td>5.25</td>\n",
       "      <td>8.00</td>\n",
       "      <td>5.92</td>\n",
       "      <td>5.0</td>\n",
       "      <td>5.2050</td>\n",
       "    </tr>\n",
       "    <tr>\n",
       "      <td>4</td>\n",
       "      <td>47000048</td>\n",
       "      <td>Bình Thuận</td>\n",
       "      <td>5.6</td>\n",
       "      <td>5.50</td>\n",
       "      <td>5.00</td>\n",
       "      <td>6.50</td>\n",
       "      <td>6.50</td>\n",
       "      <td>6.00</td>\n",
       "      <td>5.75</td>\n",
       "      <td>9.00</td>\n",
       "      <td>7.75</td>\n",
       "      <td>7.50</td>\n",
       "      <td>5.6</td>\n",
       "      <td>6.0500</td>\n",
       "    </tr>\n",
       "    <tr>\n",
       "      <td>...</td>\n",
       "      <td>...</td>\n",
       "      <td>...</td>\n",
       "      <td>...</td>\n",
       "      <td>...</td>\n",
       "      <td>...</td>\n",
       "      <td>...</td>\n",
       "      <td>...</td>\n",
       "      <td>...</td>\n",
       "      <td>...</td>\n",
       "      <td>...</td>\n",
       "      <td>...</td>\n",
       "      <td>...</td>\n",
       "      <td>...</td>\n",
       "      <td>...</td>\n",
       "    </tr>\n",
       "    <tr>\n",
       "      <td>847343</td>\n",
       "      <td>2039206</td>\n",
       "      <td>TP. Hồ Chí Minh</td>\n",
       "      <td>5.4</td>\n",
       "      <td>5.00</td>\n",
       "      <td>4.75</td>\n",
       "      <td>5.25</td>\n",
       "      <td>4.50</td>\n",
       "      <td>4.83</td>\n",
       "      <td>NaN</td>\n",
       "      <td>NaN</td>\n",
       "      <td>NaN</td>\n",
       "      <td>NaN</td>\n",
       "      <td>7.2</td>\n",
       "      <td>5.6075</td>\n",
       "    </tr>\n",
       "    <tr>\n",
       "      <td>847344</td>\n",
       "      <td>2017585</td>\n",
       "      <td>TP. Hồ Chí Minh</td>\n",
       "      <td>7.4</td>\n",
       "      <td>6.75</td>\n",
       "      <td>5.25</td>\n",
       "      <td>4.50</td>\n",
       "      <td>5.25</td>\n",
       "      <td>5.00</td>\n",
       "      <td>NaN</td>\n",
       "      <td>NaN</td>\n",
       "      <td>NaN</td>\n",
       "      <td>NaN</td>\n",
       "      <td>7.0</td>\n",
       "      <td>6.5375</td>\n",
       "    </tr>\n",
       "    <tr>\n",
       "      <td>847345</td>\n",
       "      <td>2003325</td>\n",
       "      <td>TP. Hồ Chí Minh</td>\n",
       "      <td>6.6</td>\n",
       "      <td>4.75</td>\n",
       "      <td>4.75</td>\n",
       "      <td>6.75</td>\n",
       "      <td>3.75</td>\n",
       "      <td>5.08</td>\n",
       "      <td>NaN</td>\n",
       "      <td>NaN</td>\n",
       "      <td>NaN</td>\n",
       "      <td>NaN</td>\n",
       "      <td>3.4</td>\n",
       "      <td>4.9575</td>\n",
       "    </tr>\n",
       "    <tr>\n",
       "      <td>847346</td>\n",
       "      <td>2043335</td>\n",
       "      <td>TP. Hồ Chí Minh</td>\n",
       "      <td>5.4</td>\n",
       "      <td>5.00</td>\n",
       "      <td>2.25</td>\n",
       "      <td>5.75</td>\n",
       "      <td>4.50</td>\n",
       "      <td>4.17</td>\n",
       "      <td>NaN</td>\n",
       "      <td>NaN</td>\n",
       "      <td>NaN</td>\n",
       "      <td>NaN</td>\n",
       "      <td>4.8</td>\n",
       "      <td>4.8425</td>\n",
       "    </tr>\n",
       "    <tr>\n",
       "      <td>847347</td>\n",
       "      <td>2036615</td>\n",
       "      <td>TP. Hồ Chí Minh</td>\n",
       "      <td>5.8</td>\n",
       "      <td>5.75</td>\n",
       "      <td>6.50</td>\n",
       "      <td>4.50</td>\n",
       "      <td>4.75</td>\n",
       "      <td>5.25</td>\n",
       "      <td>NaN</td>\n",
       "      <td>NaN</td>\n",
       "      <td>NaN</td>\n",
       "      <td>NaN</td>\n",
       "      <td>7.2</td>\n",
       "      <td>6.0000</td>\n",
       "    </tr>\n",
       "  </tbody>\n",
       "</table>\n",
       "<p>715507 rows × 14 columns</p>\n",
       "</div>"
      ],
      "text/plain": [
       "             SBD       Tỉnh Thành  Toán  Ngữ văn  Vật lí  Hóa học  Sinh học  \\\n",
       "0       47006585       Bình Thuận   6.8     5.25    5.25     5.50      5.00   \n",
       "1       47003701       Bình Thuận   3.4     6.25     NaN      NaN       NaN   \n",
       "2       47007840       Bình Thuận   5.4     5.50     NaN      NaN       NaN   \n",
       "3       47006513       Bình Thuận   4.4     5.50     NaN      NaN       NaN   \n",
       "4       47000048       Bình Thuận   5.6     5.50    5.00     6.50      6.50   \n",
       "...          ...              ...   ...      ...     ...      ...       ...   \n",
       "847343   2039206  TP. Hồ Chí Minh   5.4     5.00    4.75     5.25      4.50   \n",
       "847344   2017585  TP. Hồ Chí Minh   7.4     6.75    5.25     4.50      5.25   \n",
       "847345   2003325  TP. Hồ Chí Minh   6.6     4.75    4.75     6.75      3.75   \n",
       "847346   2043335  TP. Hồ Chí Minh   5.4     5.00    2.25     5.75      4.50   \n",
       "847347   2036615  TP. Hồ Chí Minh   5.8     5.75    6.50     4.50      4.75   \n",
       "\n",
       "        KHTN  Lịch sử  Địa lí  GDCD  KHXH  Ngoại ngữ  Điểm tốt nghiệp  \n",
       "0       5.25     4.00    7.50  8.50  6.67        5.8           6.1300  \n",
       "1        NaN     2.25    3.50  5.25  3.67        3.6           4.2300  \n",
       "2        NaN     7.25    8.25  8.50  8.00        2.8           5.4250  \n",
       "3        NaN     4.50    5.25  8.00  5.92        5.0           5.2050  \n",
       "4       6.00     5.75    9.00  7.75  7.50        5.6           6.0500  \n",
       "...      ...      ...     ...   ...   ...        ...              ...  \n",
       "847343  4.83      NaN     NaN   NaN   NaN        7.2           5.6075  \n",
       "847344  5.00      NaN     NaN   NaN   NaN        7.0           6.5375  \n",
       "847345  5.08      NaN     NaN   NaN   NaN        3.4           4.9575  \n",
       "847346  4.17      NaN     NaN   NaN   NaN        4.8           4.8425  \n",
       "847347  5.25      NaN     NaN   NaN   NaN        7.2           6.0000  \n",
       "\n",
       "[715507 rows x 14 columns]"
      ]
     },
     "execution_count": 79,
     "metadata": {},
     "output_type": "execute_result"
    }
   ],
   "source": [
    "diem2017_df.dropna(subset=['Điểm tốt nghiệp'],inplace=True)\n",
    "diem2017_df"
   ]
  },
  {
   "cell_type": "markdown",
   "metadata": {},
   "source": [
    "#### Để so sánh một cách hợp lí thì đầu tiên trong một môn sẽ đếm số điểm có trong đó rồi chia cho tổng thí sinh thi môn đó để có tỉ lệ, khi là tỉ lệ thì sự so sánh nó hơp lí hơn so với việc so sánh về số lượng "
   ]
  },
  {
   "cell_type": "markdown",
   "metadata": {},
   "source": [
    "### <ul><u>Môn toán</u></ul>"
   ]
  },
  {
   "cell_type": "markdown",
   "metadata": {},
   "source": [
    "Ở đây mình có viết một hàm chính là hàm <b>PhanBoDiem</b> với đầu vào là <b>monthi</b> là môn mình cần nhìn phân bố điểm theo hai năm 2017 và 2019 và <b>fig </b> đó là kích thức biểu đồ mà mình hiển thị, và kết quả hiện thị chính là biể độ 2 cột xen nhau giữa năm 2017 và 2019, được sắp xếp theo thang điểm 0-10 theo khoảng chia là chính là khả năng điểm của bài thi."
   ]
  },
  {
   "cell_type": "markdown",
   "metadata": {},
   "source": [
    "Điểm đã được chia theo từng khoảng nhỏ theo số câu đúng từ không đúng câu nào đến đúng toàn bộ câu, đâu tiên đếm số lượng thí sinh theo từng giá trị điểm rồi chia cho tổng thí sinh thi để có được tỉ lệ. Từ tỉ lệ đó chúng ta gom hai giá trị của 2 năm 2017 và 2019 lại tạo thành 1 bảng dữ liệu và như thế chúng ta hiển thị biểu đồ từ bảng thôi."
   ]
  },
  {
   "cell_type": "code",
   "execution_count": 80,
   "metadata": {},
   "outputs": [
    {
     "data": {
      "image/png": "[encoded data removed]",
      "text/plain": [
       "<Figure size 1296x432 with 1 Axes>"
      ]
     },
     "metadata": {
      "needs_background": "light"
     },
     "output_type": "display_data"
    }
   ],
   "source": [
    "def PhanBoDiem(monthi,fig):\n",
    "    diem2017 = diem2017_df[monthi].value_counts() / diem2017_df[monthi].count() #sl điểm i/tổng sl\n",
    "    diem2019 = diem2019_df[monthi].value_counts() / diem2019_df[monthi].count()\n",
    "    diemcanuoc=pd.DataFrame({\"2017\":diem2017,\"2019\":diem2019})\n",
    "    tl = \"Điểm \"+monthi+ \" 2017-2019\"\n",
    "    diemcanuoc.sort_index().plot.bar(figsize=fig,title=tl)\n",
    "PhanBoDiem('Toán',(18,6))"
   ]
  },
  {
   "cell_type": "markdown",
   "metadata": {},
   "source": [
    "<ul> <b>Chúng ta nhìn thử và xem xét:</b>\n",
    "    <ul>- trong [0.8 - 1.0]: tỉ lệ điểm 2017 cao hơn 2019</ul>\n",
    "    <ul>- trong [1.0 - 4.8]: tỉ lệ điểm năm 2017 cao hơn 2019 </ul>\n",
    "    <ul>- trong [5.0 - 8.2]: tỉ lệ năm 2019 lại cao hơn nhiều so với 2017</ul>\n",
    "    <ul>- trong [8.2 - 10]: năm 2017 cao hơn và thập chí năm 2019 không có điểm nào từ 9.8 trở lên, 2017 lại có  </ul>\n",
    "    <ul>- Điểm số chiếm tỉ trọng cao nhất năm 2017 là 4.0 và năm 2019 5.6-6.6 (điểm cao ngang nhau)</ul>\n",
    "</ul>\n",
    "Vậy chúng ta có thể đánh giá như sau để tốt nghiệp và đậu vào một số trường cấp trung theo yêu cầu môn toán thì năm 2019 sẽ phù hợp hơn 2017 vì phổ điểm ở mức này năm 2019 cao hơn, ở mấy trường đại học cao và top thì năm 2017 sẽ có điểm cao hơn. <br>\n",
    "Vậy năm 2019 phù hợp để dễ tốt nghiệp còn năm 2017 cơ cấu điểm cao có nhiều và thí sinh sẽ khó cơ hội đậu đại học top hơn."
   ]
  },
  {
   "cell_type": "markdown",
   "metadata": {},
   "source": [
    "### <ul><u>Môn Ngữ văn:</u></ul>"
   ]
  },
  {
   "cell_type": "markdown",
   "metadata": {},
   "source": [
    "<ul>Điểm môn Ngữ văn thì chấm tự luận nên sẽ có nhiều thang điểm vì thế sẽ nhìn nhận theo các khoảng chia cụ thể, theo cá nhân mình thì sẽ chia như sau:\n",
    "    <ul>[0.0-1.0]: điểm liệt</ul>\n",
    "    <ul>[1.0-3.0]: điểm yếu</ul>\n",
    "    <ul>[3.0-5.0]: trung bình</ul>\n",
    "    <ul>[5.0-8.0]: điểm khá</ul>\n",
    "    <ul>[8.0-9.0]: điểm giỏi</ul>\n",
    "    <ul>[9.0-10]: điểm xuất sắc</ul>\n",
    "</ul>"
   ]
  },
  {
   "cell_type": "markdown",
   "metadata": {},
   "source": [
    "#### Tạo bảng phân bổ tỉ lệ theo khoảng điểm như trên"
   ]
  },
  {
   "cell_type": "markdown",
   "metadata": {},
   "source": [
    "Không như các môn khác thì môn Ngữ văn chấm theo hình thức tự luận nên có rất nhiều điểm lẻ nên việc xử lí lại và hiển thị riêng theo cách của môn Văn là điều nên làm. Đầu tiên mình chọn các khoảng chia sao cho phù hợp rồi tính tổng các thí sinh có trong đây thỏa điều kiện của từng khoảng chia rồi chia cho tổng thí sinh thi văn. Sau đó chúng ta sẽ được 2 Series dữ liệu năm 2017 và 2018, từ đó tạo DataFrame là có thể vẽ và nhìn nhận."
   ]
  },
  {
   "cell_type": "code",
   "execution_count": 70,
   "metadata": {},
   "outputs": [
    {
     "data": {
      "text/html": [
       "<div>\n",
       "<style scoped>\n",
       "    .dataframe tbody tr th:only-of-type {\n",
       "        vertical-align: middle;\n",
       "    }\n",
       "\n",
       "    .dataframe tbody tr th {\n",
       "        vertical-align: top;\n",
       "    }\n",
       "\n",
       "    .dataframe thead th {\n",
       "        text-align: right;\n",
       "    }\n",
       "</style>\n",
       "<table border=\"1\" class=\"dataframe\">\n",
       "  <thead>\n",
       "    <tr style=\"text-align: right;\">\n",
       "      <th></th>\n",
       "      <th>2017</th>\n",
       "      <th>2019</th>\n",
       "    </tr>\n",
       "  </thead>\n",
       "  <tbody>\n",
       "    <tr>\n",
       "      <td>[0.0 - 1.0]</td>\n",
       "      <td>0.000193</td>\n",
       "      <td>0.001990</td>\n",
       "    </tr>\n",
       "    <tr>\n",
       "      <td>(1.0-3.0]</td>\n",
       "      <td>0.035941</td>\n",
       "      <td>0.065221</td>\n",
       "    </tr>\n",
       "    <tr>\n",
       "      <td>(3.0-5.0]</td>\n",
       "      <td>0.311873</td>\n",
       "      <td>0.354452</td>\n",
       "    </tr>\n",
       "    <tr>\n",
       "      <td>(5.0-8.0]</td>\n",
       "      <td>0.628644</td>\n",
       "      <td>0.684003</td>\n",
       "    </tr>\n",
       "    <tr>\n",
       "      <td>(8.0-9.0)</td>\n",
       "      <td>0.020711</td>\n",
       "      <td>0.010683</td>\n",
       "    </tr>\n",
       "    <tr>\n",
       "      <td>[9.0-]</td>\n",
       "      <td>0.002639</td>\n",
       "      <td>0.000632</td>\n",
       "    </tr>\n",
       "  </tbody>\n",
       "</table>\n",
       "</div>"
      ],
      "text/plain": [
       "                 2017      2019\n",
       "[0.0 - 1.0]  0.000193  0.001990\n",
       "(1.0-3.0]    0.035941  0.065221\n",
       "(3.0-5.0]    0.311873  0.354452\n",
       "(5.0-8.0]    0.628644  0.684003\n",
       "(8.0-9.0)    0.020711  0.010683\n",
       "[9.0-]       0.002639  0.000632"
      ]
     },
     "execution_count": 70,
     "metadata": {},
     "output_type": "execute_result"
    }
   ],
   "source": [
    "def PhanBoDiemVan(temp,thisinh_thivan):\n",
    "    thisinh_thivan =diem2017_df['Ngữ văn'].count()\n",
    "    diemliet=sum(temp[temp.index <=1.0]) /thisinh_thivan\n",
    "    diemyeu=sum(temp[(temp.index <=3.0) & (temp.index >1.0)]) /thisinh_thivan\n",
    "    diemtb=sum(temp[(temp.index <=5.0) & (temp.index >3.0)])/thisinh_thivan\n",
    "    diemkha=sum(temp[(temp.index <=8.0) & (temp.index >5.0)])/thisinh_thivan\n",
    "    diemgioi=sum(temp[(temp.index <9.0) & (temp.index >8.0)])/thisinh_thivan\n",
    "    diemxs=sum(temp[temp.index >=9.0])/thisinh_thivan\n",
    "    return pd.Series({'[0.0 - 1.0]':diemliet,'(1.0-3.0]':diemyeu,'(3.0-5.0]': diemtb,'(5.0-8.0]':diemkha,\n",
    "                         '(8.0-9.0)':diemgioi,'[9.0-]':diemxs})\n",
    "    \n",
    "temp=diem2017_df['Ngữ văn'].value_counts()\n",
    "thisinh_thivan =diem2017_df['Ngữ văn'].count()\n",
    "diemvan2017=PhanBoDiemVan(temp,thisinh_thivan)\n",
    "temp=diem2019_df['Ngữ văn'].value_counts()\n",
    "thisinh_thivan =diem2019_df['Ngữ văn'].count()\n",
    "diemvan2019=PhanBoDiemVan(temp,thisinh_thivan)\n",
    "diemvan_canuoc= pd.DataFrame({'2017':diemvan2017,'2019':diemvan2019})\n",
    "diemvan_canuoc\n"
   ]
  },
  {
   "cell_type": "markdown",
   "metadata": {},
   "source": [
    "#### Vẽ biểu đồ hiển thị"
   ]
  },
  {
   "cell_type": "code",
   "execution_count": 69,
   "metadata": {},
   "outputs": [
    {
     "data": {
      "text/plain": [
       "<matplotlib.axes._subplots.AxesSubplot at 0x28039c1fda0>"
      ]
     },
     "execution_count": 69,
     "metadata": {},
     "output_type": "execute_result"
    },
    {
     "data": {
      "image/png": "[encoded data removed]",
      "text/plain": [
       "<Figure size 576x576 with 1 Axes>"
      ]
     },
     "metadata": {
      "needs_background": "light"
     },
     "output_type": "display_data"
    }
   ],
   "source": [
    "diemvan_canuoc.plot.bar(figsize=(8,8),title=\"Điểm Ngữ văn 2017-2019\")"
   ]
  },
  {
   "cell_type": "markdown",
   "metadata": {},
   "source": [
    "<ul> <b>Chúng ta nhìn thử và xem xét:</b>\n",
    "    <ul>Điểm văn dưới trung bình thì năm 2019 hơn 2017, điểm từ 5-8 năm 2018 lại cao hơn năm 2017, vậy đề văn năm 2018 cũng dễ đạt điểm trên trung bình và xét tốt nghiệp ở một số trường vừa</ul>\n",
    "    <ul>Điểm trên 8 thì năm 2017 cũng nhiều hơn,  tuy nhiên số lượng thí sinh cũng không quá đông nên việc xét đại học ở trường top cũng không quá vất vả như môn toán</ul>\n",
    "</ul>\n",
    "Nhìn chung thì điểm văn năm 2019 dễ kiếm hơn năm 2017\n"
   ]
  },
  {
   "cell_type": "markdown",
   "metadata": {},
   "source": [
    "### <u>Môn Ngoại ngữ:</u>"
   ]
  },
  {
   "cell_type": "code",
   "execution_count": 76,
   "metadata": {},
   "outputs": [
    {
     "data": {
      "image/png": "[encoded data removed]",
      "text/plain": [
       "<Figure size 1296x432 with 1 Axes>"
      ]
     },
     "metadata": {
      "needs_background": "light"
     },
     "output_type": "display_data"
    }
   ],
   "source": [
    "PhanBoDiem('Ngoại ngữ',(18,6))"
   ]
  },
  {
   "cell_type": "markdown",
   "metadata": {},
   "source": [
    "<ul> <b>Chúng ta nhìn thử và xem xét:</b>\n",
    "    <ul>Cơ bản điểm hai năm này thật là đều nhau, có lẽ độ khó xấp xỉ nhau</ul>\n",
    "    <ul>- trong [0.0 - 3.2]: tỉ lệ điểm năm 2017 thấp hơn 2019 </ul>\n",
    "    <ul>- trong [3.2]: cơ bản ngang nhau những 2017 nhỉnh hơn khi dần ở cuối và 2017 có điểm 10 nhiều hơn</ul>\n",
    "</ul>\n",
    "Vậy chúng ta có thể đánh giá độ khó môn ngoại ngữ đều nhau <br>\n"
   ]
  },
  {
   "cell_type": "markdown",
   "metadata": {},
   "source": [
    "### <u>Môn Hóa học:</u>"
   ]
  },
  {
   "cell_type": "code",
   "execution_count": 77,
   "metadata": {},
   "outputs": [
    {
     "data": {
      "image/png": "[encoded data removed]",
      "text/plain": [
       "<Figure size 1296x432 with 1 Axes>"
      ]
     },
     "metadata": {
      "needs_background": "light"
     },
     "output_type": "display_data"
    }
   ],
   "source": [
    "PhanBoDiem('Hóa học',(18,6))"
   ]
  },
  {
   "cell_type": "markdown",
   "metadata": {},
   "source": [
    "<ul> <b>Chúng ta nhìn thử và xem xét:</b>\n",
    "    <ul>- trong [0.0 - 4.5]: tỉ lệ điểm 2017 cao hơn 2019</ul>\n",
    "    <ul>- trong [4.75 - 7.5]: tỉ lệ điểm năm 2019 cao hơn 2017</ul>\n",
    "    <ul>- trong [7.75 - 10]: tỉ lệ năm 2017 lại cao hơn nhiều so với 2019</ul>\n",
    "    <ul>- Điểm chiếm tỉ trọng cao năm 2017 là 4.5 và năm 2019 là 6.0 </ul>\n",
    "</ul>\n",
    "Cũng như môn toán thì năm 2018 dễ đạt điểm trên trung bình và khá hơn năm 2017, năm 2017 thì số lượng thí sinh đạt điểm giỏi cao hơn năm 2018 rất nhiều và thậm chí điểm 10 môn Hóa năm 2017 có tỉ trọng cao trong khi năm 2019 có vẻ như không có thí sinh nào được điểm 10. Hay nói cách khác đề năm 2017 dễ hơn hoặc thí sinh năm 2017 ôn đúng bài hơn.<br>\n",
    "Vậy năm 2019 phù hợp để dễ tốt nghiệp còn năm 2017 cơ cấu điểm cao có nhiều và thí sinh sẽ khó cơ hội đậu đại học top hơn."
   ]
  },
  {
   "cell_type": "markdown",
   "metadata": {},
   "source": [
    "### <u>Môn Vật lí:</u>"
   ]
  },
  {
   "cell_type": "code",
   "execution_count": 80,
   "metadata": {},
   "outputs": [
    {
     "data": {
      "image/png": "[encoded data removed]",
      "text/plain": [
       "<Figure size 1296x432 with 1 Axes>"
      ]
     },
     "metadata": {
      "needs_background": "light"
     },
     "output_type": "display_data"
    }
   ],
   "source": [
    "PhanBoDiem('Vật lí',(18,6))"
   ]
  },
  {
   "cell_type": "markdown",
   "metadata": {},
   "source": [
    "<ul> <b>Chúng ta nhìn thử và xem xét:</b>\n",
    "    <ul>- trong [0.0 - 5.25]: tỉ lệ điểm 2017 cao hơn 2019</ul>\n",
    "    <ul>- trong [5.5 - 8.0]: tỉ lệ điểm năm 2019 cao hơn 2017, và cao hơn nhiều</ul>\n",
    "    <ul>- trong [8.25 - 10]: tỉ lệ năm 2017 lại cao hơn nhiều so với 2019</ul>\n",
    "    <ul>- điểm có tỉ trọng cao nhất là 5.5 ở năm 2017 và năm 2019 là 6.25</ul>\n",
    "</ul>\n",
    "Cũng như môn toán thì năm 2018 dễ đạt điểm trên trung bình và khá hơn năm 2017, năm 2017 thì số lượng thí sinh đạt điểm giỏi cao hơn năm 2018. Hay nói cách khác đề năm 2017 dễ hơn hoặc thí sinh năm 2017 ôn đúng bài hơn.<br>\n",
    "Vậy năm 2019 phù hợp để dễ tốt nghiệp còn năm 2017 cơ cấu điểm cao có nhiều và thí sinh sẽ khó cơ hội đậu đại học top hơn."
   ]
  },
  {
   "cell_type": "markdown",
   "metadata": {},
   "source": [
    "### <u>Môn Sinh học:</u>"
   ]
  },
  {
   "cell_type": "code",
   "execution_count": 81,
   "metadata": {},
   "outputs": [
    {
     "data": {
      "image/png": "[encoded data removed]",
      "text/plain": [
       "<Figure size 1296x432 with 1 Axes>"
      ]
     },
     "metadata": {
      "needs_background": "light"
     },
     "output_type": "display_data"
    }
   ],
   "source": [
    "PhanBoDiem('Sinh học',(18,6))"
   ]
  },
  {
   "cell_type": "markdown",
   "metadata": {},
   "source": [
    "<ul> <b>Chúng ta nhìn thử và xem xét:</b>\n",
    "    <ul>- trong [0.0 - 3.75]: tỉ lệ điểm 2017 cao hơn 2019</ul>\n",
    "    <ul>- trong [4.0 - 6.0]: tỉ lệ điểm năm 2019 cao hơn 2017</ul>\n",
    "    <ul>- trong [6.25 - 10]: tỉ lệ năm 2017 lại cao hơn nhiều so với 2019</ul>\n",
    "    <ul>- điểm chiếm tỉ trọng cao nhất năm 2017 và 2019 đều là 4,5\n",
    "</ul>\n",
    "Năm 2019 chỉ cao hơn ở khoảng điểm cận trung bình và cận khá, tức là từ 4 đến 6 điểm, đây cũng là khoảng điểm đủ xét tốt nghiệp còn việc xét đại học thì hơi khó khăn, năm 2017 cũng nhỉnh hơn tí về các điểm từ 6 trở đi nên việc đánh giá chọn đại học cũng không quá khó cho thí sinh..<br>\n",
    "Vậy năm 2019 dễ tốt nghiệp hơn năm 2017."
   ]
  },
  {
   "cell_type": "markdown",
   "metadata": {},
   "source": [
    "### <u>Môn Địa lí:</u>"
   ]
  },
  {
   "cell_type": "code",
   "execution_count": 83,
   "metadata": {},
   "outputs": [
    {
     "data": {
      "image/png": "[encoded data removed]",
      "text/plain": [
       "<Figure size 1296x432 with 1 Axes>"
      ]
     },
     "metadata": {
      "needs_background": "light"
     },
     "output_type": "display_data"
    }
   ],
   "source": [
    "PhanBoDiem('Địa lí',(18,6))"
   ]
  },
  {
   "cell_type": "markdown",
   "metadata": {},
   "source": [
    "<ul> <b>Chúng ta nhìn thử và xem xét:</b>\n",
    "    <ul>- trong [0.0 - 6.75]: tỉ lệ điểm 2019 cao hơn 2017</ul>\n",
    "    <ul>- trong [7.0 -10.0]: tỉ lệ điểm năm 2017 cao hơn và các chênh lệch về cuối</ul>\n",
    "    <ul>- điểm có tỉ trọng cao nhất năm 2017 là 6.5 và năm 2019 là 6.0</ul>\n",
    "</ul>\n",
    "Môn Địa lí thì điểm có tỉ trọng thí sinh đạt được năm 2017 cao hơn năm 2019, cũng thể hiện đề năm 2017 dễ đạt được điểm đó hơn so với năm 2019, nên có lẽ việc dễ tốt nghiệp hơn thì có lẽ năm 2017 sẽ dễ hơn, tuy nhiên cùng nên nhìn nhận lại cơ cấu điểm năm 2019, từ 5.0 đến 6.5 thì tỉ lệ thí sinh đạt điểm này chiếm tỉ lệ cao hơn năm 2017 rất nhiều nên việc nói năm 2019 dễ đạt tốt nghiệp cũng đúng, còn năm 2017 xét về sau thì tỉ lệ điểm cao rất nhiều nên việc chọn trường đại học mong muốn khá là khó<br>\n",
    "Vậy năm 2017,2019 phù hợp để dễ tốt nghiệp và năm 2017 nếu thí sinh chọn trường top thì khá khó khăn."
   ]
  },
  {
   "cell_type": "markdown",
   "metadata": {},
   "source": [
    "### <u>Môn Lịch sử:</u>"
   ]
  },
  {
   "cell_type": "code",
   "execution_count": 84,
   "metadata": {},
   "outputs": [
    {
     "data": {
      "image/png": "[encoded data removed]",
      "text/plain": [
       "<Figure size 1296x432 with 1 Axes>"
      ]
     },
     "metadata": {
      "needs_background": "light"
     },
     "output_type": "display_data"
    }
   ],
   "source": [
    "PhanBoDiem('Lịch sử',(18,6))"
   ]
  },
  {
   "cell_type": "markdown",
   "metadata": {},
   "source": [
    "<ul> <b>Chúng ta nhìn thử và xem xét:</b>\n",
    "    <ul>- trong [0.0 - 4.25]: tỉ lệ điểm 2019 cao hơn 2017</ul>\n",
    "    <ul>- trong [4.5 - 10.0]: tỉ lệ điểm năm 2017 cao hơn 2019</ul>\n",
    "    <ul>- tỉ trọng điểm năm 2017 là 4.0 và 2019 là 3.75</ul>\n",
    "</ul>\n",
    "Nhìn chung thì môn Lịch sử ở hai năm thí sinh có điểm thi thường không cao như những môn khác, chủ yếu giao động trong khoảng 3-5, nhưng xu hướng của năm 2019 điểm thấp hơn so với năm 2017.<br>\n",
    "Hai năm thì môn Lịch sử điểm cũng tương tự nhau, tuy nhiên năm 2017 điểm cao hơn."
   ]
  },
  {
   "cell_type": "markdown",
   "metadata": {},
   "source": [
    "### <u>Môn GDCD:</u>"
   ]
  },
  {
   "cell_type": "code",
   "execution_count": 85,
   "metadata": {},
   "outputs": [
    {
     "data": {
      "image/png": "[encoded data removed]",
      "text/plain": [
       "<Figure size 1296x432 with 1 Axes>"
      ]
     },
     "metadata": {
      "needs_background": "light"
     },
     "output_type": "display_data"
    }
   ],
   "source": [
    "PhanBoDiem('GDCD',(18,6))"
   ]
  },
  {
   "cell_type": "markdown",
   "metadata": {},
   "source": [
    "<ul> <b>Chúng ta nhìn thử và xem xét:</b>\n",
    "    <ul>- trong [0.0 - 7.25]: tỉ lệ điểm 2019 cao hơn 2017</ul>\n",
    "    <ul>- trong [7.5 - 9.5]: tỉ lệ điểm năm 2017 cao hơn 2019</ul>\n",
    "    <ul>- trong [9.5 - 10.0]: tỉ lệ năm 2019 lại cao 2017</ul>\n",
    "    <ul>- tỉ trọng năm 2017 là 8.5 và năm 2019 là 7.75</ul>\n",
    "</ul>\n",
    "Nhìn chung thì môn GDCD có điểm khá cao, tuy nhiên số thí sinh đạt điểm cao của năm 2017 cao hơn, tuy nhiên số thí sinh mà thuộc điểm gần tối đa thì năm 2019 cao hơn, nhìn lại số thí sinh trung bình thì số thí sinh dưới trung bình của năm 2018 cao hơn nhiều so với năm 2017 nên việc năm 2017 đề dễ hơn cũng có thể cho là đúng.<br>\n",
    "Năm 2017 dễ tốt nghiệp hơn năm 2019 và dễ đạt điểm cao hơn so với năm 2019."
   ]
  },
  {
   "cell_type": "markdown",
   "metadata": {},
   "source": [
    "<u><b>Tóm lại</b></u>: \n",
    "<ul>\n",
    "Thông qua việc đánh giá điểm số giữa một môn trong hai năm thì chúng ta có thể sơ lược nhận định rằng: năm 2017 dễ kiếm điểm hơn cho các thí sinh muốn điểm cao, còn khó cho các thí sinh ở mức trung bình khá.</ul>\n",
    "<ul>Năm 2018 thì dễ phân bố tốt hơn, có thể giúp các thí sinh dễ tốt nghiệp hơn, cũng như lượng điểm quá cao không quá nhiều dễ để phân hóa thí sinh cho việc tuyển sinh đại học và cho thí sinh một sự lựa chọn dễ dàng và phù hợp nhất với khả năng của bản thân.</ul>\n",
    "Tóm lại thì năm 2019 dễ để đậu tốt nghiệp hơn và còn năm 2017 dễ đậu trường trung và khó đậu trường đầu. Qua đó, chúng ta có thể nhận ra là muốn đậu đại học thì không chỉ do đề mà còn do chính bản thân chúng ta hơn ai trong chính năm thi. Việc dựa vào một năm mà đánh giá điểm chuẩn là khá là không chính xác vì mỗi năm có nhiều tiêu chí khác nhau, điểm chuẩn sẽ khác nhau, việc cố gắng hết sức mới là chân ái để đạt ước mơ vào ngôi trường mơ ước."
   ]
  },
  {
   "cell_type": "markdown",
   "metadata": {},
   "source": [
    "### <ul><u>Câu hỏi 3:</u> Mình có thể dự đoán được điểm chuẩn năm 2019 tăng hay giảm và những cơ hội từ phổ điểm theo khối?</ul>"
   ]
  },
  {
   "cell_type": "markdown",
   "metadata": {},
   "source": [
    "<ul>\n",
    "    <ul>\n",
    "       Để biết mình ở đâu trong một kì thi thì việc đầu tiên mỗi thí sinh là phải biết mình nhiêu điểm và hơn hết phải biết xung quanh mình điểm như thế nào và xem xét coi mình ở đâu trong kì thi này. Việc đánh giá phổ điểm sẽ giúp cho thí sinh lựa chọn tốt cho cánh cửa đại học cho mình. Ngoài ra việc phân tích cơ hội nghê nghiệp từ phổ điểm cũng đánh giá thái độ các bạn học sinh đang quan tâm theo lĩnh vực gì: ví dụ nếu tỉ lệ điểm khối A trung bình năm sau cao hơn năm trước thì ắt hẳn các bạn đang quan tâm nhiều đến các lĩnh vực về kỹ thuật hơn nên các nhà đào tạo cũng như các nhà định hướng bắt lấy xu thế mà giúp các bạn tạo đam mê và gầy dựng chuyên môn, cũng như việc cải cách giáo dục theo hướng trải nghiệm thử.</ul></ul>\n"
   ]
  },
  {
   "cell_type": "markdown",
   "metadata": {},
   "source": [
    "### Phân tích điểm theo khối thi\n",
    "<ul>\n",
    "     Hiện giờ thì có rất nhiều khối thi sinh ra bởi nhiều môn, tuy nhiên việc đánh giá này chỉ dừng lại ở các khối cơ bản\n",
    "</ul>"
   ]
  },
  {
   "cell_type": "markdown",
   "metadata": {},
   "source": [
    "#### Hàm tạo bảng thống kê theo điểm của 1 khối trong 1 năm"
   ]
  },
  {
   "cell_type": "markdown",
   "metadata": {},
   "source": [
    "<ul>Do có nhiều điểm quá nên phải chia nhỏ đề dễ đánh giá và cái chia nhỏ theo 30 khoảng</ul>"
   ]
  },
  {
   "cell_type": "markdown",
   "metadata": {},
   "source": [
    "#### Hàm chia khoảng"
   ]
  },
  {
   "cell_type": "markdown",
   "metadata": {},
   "source": [
    "Ở đây mình tạo khoảng chia <=, có nghĩa là <=1 là những thí sinh thi dưới hoặc bằng 1 điểm, <=2 là những thí sinh thi điểm >1 và <=2. Ban đầu thì mình cũng tính tổng của ba môn cơ bản ( được truyền vào hàm) sao đó sẽ xóa những thí sinh không thi khối đó và tạo các khoảng cho điểm thi môn đó theo dạng nói ở trên, từ đó tạo DataFrame từ hai năm 2017,2019 để hiển thị dữ liệu."
   ]
  },
  {
   "cell_type": "code",
   "execution_count": 216,
   "metadata": {},
   "outputs": [],
   "source": [
    "def CreateSeriesTemp(d):\n",
    "    a= dict()\n",
    "    for i in range(0,30):\n",
    "        keyname= '<='+str(i+1)\n",
    "        if(i==0):\n",
    "            a[keyname]=(d[(d>=i) & (d<=i+1)].count())/d.count()\n",
    "        else:\n",
    "            a[keyname]=(d[(d>i) & (d<=i+1)].count())/d.count()\n",
    "    return pd.Series(a)  \n",
    "def chiakhoang(mon1,mon2,mon3,fig):\n",
    "    diem3mon2017=(diem2017_df[mon1] + diem2017_df[mon2] +diem2017_df[mon3]).copy()\n",
    "    diem3mon2017.dropna(inplace=True)\n",
    "    diem3mon2019=(diem2019_df[mon1] + diem2019_df[mon2] +diem2019_df[mon3]).copy()\n",
    "    diem3mon2019.dropna(inplace=True)\n",
    "    nam2017 =CreateSeriesTemp(diem3mon2017)\n",
    "    nam2019 =CreateSeriesTemp(diem3mon2019)\n",
    "    diemtheokhoi= pd.DataFrame({'2017':nam2017,'2019':nam2019})\n",
    "    tl='Điểm 3 môn: '+''+mon1+'-'+mon2+'-'+mon3 +'(2017-2019)'\n",
    "    diemtheokhoi.plot.bar(figsize=fig,title=tl)  \n",
    "    return diemtheokhoi"
   ]
  },
  {
   "cell_type": "markdown",
   "metadata": {},
   "source": [
    "### <u>Khối A: </u>\n"
   ]
  },
  {
   "cell_type": "markdown",
   "metadata": {},
   "source": [
    "#### <ul>Phổ điểm khối A trong hai năm 2017 và 2019</ul>"
   ]
  },
  {
   "cell_type": "code",
   "execution_count": 217,
   "metadata": {},
   "outputs": [
    {
     "data": {
      "image/png": "[encoded data removed]",
      "text/plain": [
       "<Figure size 1152x432 with 1 Axes>"
      ]
     },
     "metadata": {
      "needs_background": "light"
     },
     "output_type": "display_data"
    }
   ],
   "source": [
    "diemtheokhoi=chiakhoang('Toán','Vật lí','Hóa học',(16,6))"
   ]
  },
  {
   "cell_type": "markdown",
   "metadata": {},
   "source": [
    "<b><u>Nhận xét:</u></b> \n",
    "<ul>\n",
    "      Về dự đoán thì:\n",
    "            <ul>\n",
    "                Điểm các trường có điểm chuẩn từ 17-22 sẽ tăng so với năm 2017, từ 22-23 thì có thể tăng hoặc giảm do chỉ tiêu cũng như do số lượng thí sinh đăng kí nguyện vọng vô trường đó, trên 24 điểm thì các trường có xu hướng giảm.\n",
    "    </ul>\n",
    "    Về phân tích định hướng:\n",
    "    <ul>\n",
    "        Ta thấy biểu đồ năm 2019 có xu hướng tập trung ở khoẳng 18-22 điểm, đây là số điểm mà rất dễ có thể đạt được ở mọi năm, tuy nhiên năm nay xu hướng tập trung khá cao ở cột điểm này hơn năm 2017 rất nhiều, 2017 kiể như phân bố đều có những trường hợp không đủ điểm sàn đại học và năm dưới 18 điểm chiếm gần 50% số thí sinh đi thi, năm nay thì khác, chúng ta có thể nghĩ rằng thí sinh đang muốn tham gia vào các ngành công nghệ kỹ thuật nên mới tham gia thi khối A nhiều đến vậy, nên chúng ta có thể tạo điều kiện cho các thế hệ sau, có thể trải nghiệm thử các ngành nghề trong khối A này hoặc tư vấn tuyển sinh đến các địa điểm có nhiều người đăng kí khối A nhất.\n",
    "    </ul>\n",
    "</ul>"
   ]
  },
  {
   "cell_type": "markdown",
   "metadata": {},
   "source": [
    "### <u>Khối A1:</u>"
   ]
  },
  {
   "cell_type": "code",
   "execution_count": 218,
   "metadata": {},
   "outputs": [
    {
     "data": {
      "image/png": "[encoded data removed]",
      "text/plain": [
       "<Figure size 1152x432 with 1 Axes>"
      ]
     },
     "metadata": {
      "needs_background": "light"
     },
     "output_type": "display_data"
    }
   ],
   "source": [
    "diemtheokhoi=chiakhoang('Toán','Vật lí','Ngoại ngữ',(16,6))"
   ]
  },
  {
   "cell_type": "markdown",
   "metadata": {},
   "source": [
    "<b><u>Nhận xét:</u></b> \n",
    "<ul>\n",
    "      Về dự đoán thì:\n",
    "            <ul>\n",
    "                Điểm các trường có điểm chuẩn từ 16-20 sẽ tăng so với năm 2017, từ 21-24 thì có thể tăng hoặc giảm do chỉ tiêu cũng như do số lượng thí sinh đăng kí nguyện vọng vô trường đó, trên 25 điểm thì các trường có xu hướng giảm. Tuy nhiên nếu thí sinh đăng kí chung 1 trường và xét chung một ngành so với các thí sinh khối A thì có vẻ hơi bị thiệt vì dường như khối A điểm cao hơn so với khối A1 nên khi đăng kí chọn ngành nên xem xét về yếu tố này.\n",
    "    </ul>\n",
    "    Về phân tích định hướng:\n",
    "    <ul>\n",
    "        Biểu đồ tập trung khối A1 cũng giống khối A nhưng có vẻ điểm không cao cho lắm nhưng cũng đã chuyển dời sao với năm 2017, về khối A1 thường thiên về mấy ngành kinh tế.\n",
    "    </ul>\n",
    "</ul>"
   ]
  },
  {
   "cell_type": "markdown",
   "metadata": {},
   "source": [
    "### <u>Khối B:</u>"
   ]
  },
  {
   "cell_type": "code",
   "execution_count": 219,
   "metadata": {},
   "outputs": [
    {
     "data": {
      "image/png": "[encoded data removed]",
      "text/plain": [
       "<Figure size 1152x432 with 1 Axes>"
      ]
     },
     "metadata": {
      "needs_background": "light"
     },
     "output_type": "display_data"
    }
   ],
   "source": [
    "diemtheokhoi=chiakhoang('Toán','Hóa học','Sinh học',(16,6))"
   ]
  },
  {
   "cell_type": "markdown",
   "metadata": {},
   "source": [
    "<b><u>Nhận xét:</u></b> \n",
    "<ul>\n",
    "      Về dự đoán thì:\n",
    "            <ul>\n",
    "                Điểm các trường có điểm chuẩn từ 16-21 sẽ tăng so với năm 2017, trong khoảng 22 điểm thì có thể tăng hoặc giảm do chỉ tiêu cũng như do số lượng thí sinh đăng kí nguyện vọng vô trường đó, trên 23 điểm thì các trường có xu hướng giảm.\n",
    "    </ul>\n",
    "    Về phân tích định hướng:\n",
    "    <ul>\n",
    "       Ta thấy điểm khối B không cao bằng các khối A hay A1, trong ngành Dược thì có xét tuyển chung với khối A, nếu không phân chia thì khối B khó có cơ hội cạnh tranh lúc xét tuyển, tuy nhiên trong quá trình học thì khối B sẽ có lợi thế vì học môn Sinh còn khối A dường như không biết về sinh hay chỉ biết sơ nên có khó khăn trong quá trình tiếp thu kiến thức, về chuyển dịch cũng như hai khối kia luôn tăng theo năm.\n",
    "    </ul>\n",
    "</ul>"
   ]
  },
  {
   "cell_type": "markdown",
   "metadata": {},
   "source": [
    "### <u>Khối C:</u>"
   ]
  },
  {
   "cell_type": "code",
   "execution_count": 220,
   "metadata": {},
   "outputs": [
    {
     "data": {
      "image/png": "[encoded data removed]",
      "text/plain": [
       "<Figure size 1152x432 with 1 Axes>"
      ]
     },
     "metadata": {
      "needs_background": "light"
     },
     "output_type": "display_data"
    }
   ],
   "source": [
    "diemtheokhoi=chiakhoang('Ngữ văn','Lịch sử','Địa lí',(16,6))"
   ]
  },
  {
   "cell_type": "markdown",
   "metadata": {},
   "source": [
    "<b><u>Nhận xét:</u></b> \n",
    "<ul>\n",
    "      Về dự đoán thì:\n",
    "            <ul>\n",
    "                Điểm khối C trong hai năm hầu như không thay đổi nhiều, cơ bản thấp hơn các khối khác, điểm cơ bản sẽ giảm nhẹ vì nhìn biểu đồ thấy điểm năm 2017 luôn cao hơn từ điểm số 18\n",
    "    </ul>\n",
    "    Về phân tích định hướng:\n",
    "    <ul>\n",
    "       Về chuyển dịch thì hầu như khối C không biến động gì về điểm số, và liệu chúng ta có thể tự đặt một câu hỏi vì sao ở đây hay không? Điểm khối C được cấu thành từ ba môn Ngữ văn: thiên về cảm nhận vặn học, dù bạn có chăm thì cũng không thể đạt điểm cao, Địa lí và Lịch sử là hai môn cơ bản về tính học thuộc và vài kỹ năng ghi nhớ. Nên điẻm không cao cũng có thể do chính môn văn đã ảnh hưởng không nhỏ, từ đây quay lại câu 1 về cách cãi thiện chất lượng dạy học môn học ở các tỉnh, đặc biệt môn văn. Khối C thì ngành nghề cũng không nhiều so với các khối khác nên các thí sinh cũng ít chọn lựa.\n",
    "    </ul>\n",
    "</ul>"
   ]
  },
  {
   "cell_type": "markdown",
   "metadata": {},
   "source": [
    "### <u>Khối D:</u>"
   ]
  },
  {
   "cell_type": "code",
   "execution_count": 221,
   "metadata": {},
   "outputs": [
    {
     "data": {
      "image/png": "[encoded data removed]",
      "text/plain": [
       "<Figure size 1152x432 with 1 Axes>"
      ]
     },
     "metadata": {
      "needs_background": "light"
     },
     "output_type": "display_data"
    }
   ],
   "source": [
    "diemtheokhoi=chiakhoang('Ngữ văn','Toán','Ngoại ngữ',(16,6))"
   ]
  },
  {
   "cell_type": "markdown",
   "metadata": {},
   "source": [
    "<b><u>Nhận xét:</u></b> \n",
    "<ul>\n",
    "      Về dự đoán thì:\n",
    "            <ul>\n",
    "                Điểm khối D điểm cũng tựa khối C, cơ bản thấp hơn các khối khác, điểm từ 18-20 sẽ tăng nhẹ, 21 đến 24 thì sẽ tăng giảm theo yếu tố khác như chỉ tiêu hay số lượng thí sinh đăng kí, còn lại sẽ giảm.\n",
    "    </ul>\n",
    "    Về phân tích định hướng:\n",
    "    <ul>\n",
    "      Khối D cơ bản chuyển dịch theo hướng nâng cao điểm so với năm 2017, nhưng chủ yếu tập trung ở khoảng 18-22 là nhiều, ngành nghề khối D đa dạng hơn khối C, thiên về hướng xã hội và thường giành cho nữ và thiên về cảm xúc và giao tiếp, thường những người khối D chủ yếu là người hoạt động về lĩnh vực xã hội là nhiều nên việc trải nghiệm chính là việc tham gia các câu lạc bộ hay hoạt động thiện nguyện ở lớp, trường.\n",
    "    </ul>\n",
    "</ul>"
   ]
  },
  {
   "cell_type": "markdown",
   "metadata": {},
   "source": [
    "Qua việc tìm hiểu trả lời câu hỏi trên thì chúng ta có thể đánh giá sơ lược về tình hình điểm số của 4 khối cơ bản qua đó có thể có lựa chọn tốt nhất nguyện vọng đại học cũng như có nhìn nhận sơ lược về xu thế chọn khối thi của thí sinh."
   ]
  },
  {
   "cell_type": "markdown",
   "metadata": {},
   "source": [
    "## D. BÀI HỌC RÚT RA"
   ]
  },
  {
   "cell_type": "markdown",
   "metadata": {},
   "source": [
    "<h3> <ul>Trả lời câu hỏi 1</ul> </h3>\n",
    "<ul>    <ul>\n",
    "        Ban đầu để trả lời câu hỏi 1 thì mình đã tìm cách tính điểm liệt (điểm dưới 1) cho mỗi môn, tuy nhiên mình đã không hiểu rõ dữ liệu và ra kết quả sai và vì đây là bước đâu của mình về lĩnh vực này nên mình sẽ chuyển hướng dang tính điểm liệt chung cho mỗi tỉnh, tuy nhiên ý nghĩa không nhiều như ban đầu những vấn đáng để làm.\n",
    "    </ul>\n",
    "    <ul>\n",
    "        Tuy nhiên, tuy phải làm lại, tuy bỏ một ít công sức phí công nhưng mình cũng nhận được thêm nhiều kỹ năng trong quá trình xử lí dữ liệu này. Tuy nhiên trong quá trình làm chỉ tính điẻm liệt cho mỗi tỉnh thì mình đã vô tình tính được và thống kê số điểm liệt theo môn của từng tình. Có lẽ hướng suy nghĩ ban đầu mình hơi sai và cần phải suy nghĩ kĩ hơn về dữ liệu và câu hỏi xung quanh nó, từ đó tìm ra hướng đi phù hợp nhất.\n",
    "    </ul>\n",
    "    </ul>"
   ]
  },
  {
   "cell_type": "markdown",
   "metadata": {},
   "source": [
    "<h3> <ul>Trả lời câu hỏi 2</ul> </h3>\n",
    "<ul><ul>  Câu hỏi này là trả lời về độ khó của đề mỗi năm, tuy nhiên độ khó đó sẽ được đánh giá chính xác hơn bởi các chuyên gia phân tích đề hơn là điểm của thí sinh vì dữ liệu thí sinh là điểm mà thí sinh thi trắc nghiệm nên việc điểm cao cũng có một phần may mắn của chính thi sinh đó. Tuy nhiên đánh giá muốn đúng theo dữ liệu thì cần một bộ dữ liệu có kèm tỉ lệ câu trả lời đúng theo từng câu hỏi phân hóa trong đề, tuy nhiên bộ dữ liệu kiểu này chắc không tồn tại. Các tiêu chí đánh giá của bản thân hiện giờ là chủ quan, không có tuân theo bất kì cơ sở khoa học nào cả, chỉ đơn thuần là đã trải qua và đánh giá theo kiến thức đã học trên trường lớp.\n",
    "    </ul></ul>"
   ]
  },
  {
   "cell_type": "markdown",
   "metadata": {},
   "source": [
    "<h3> <ul>Trả lời câu hỏi 3</ul> </h3>\n",
    "<ul><ul>  Ban đầu muốn trả lời cầu hỏi liên quan đến điểm chuẩn vì có một vài ý tưởng như tính theo tỉ lệ hơn nhưng nó chỉ có ý nghĩa với cá nhân một người trong một vài lĩnh vực và có sai số khá lớn khi mà đánh giá so khớp với thực tế, đã cố tìm cách xử lí nhưng không mang lại hiệu quả nên mình đã đổi đề tài qua việc phân tích dữ liệu khối thi và ý nghĩa xung quanh chúng\n",
    "    </ul></ul>"
   ]
  },
  {
   "cell_type": "markdown",
   "metadata": {},
   "source": [
    "### Hạn chế\n",
    "<ul>\n",
    "    Hạn chế rất nhiều đặc biệt là về việc lấy dữ liệu, việc lấy dữ liệu những năm gần đầy khó khăn và có những sai sót trong quá trình thu thập như việc môn ngoại ngữ giữa hai bảng không thực sự giống nhau (tiếng Anh với tiếng Nga chả hạn) việc so sánh đó đã gây ra mất một vài ý nghĩa cho đề tài. Việc xử lí theo dữ liệu mà không có một kiến thức chuyên môn phân tích thì cũng ảnh hưởng đến hướng đi khá nhiều đã sai vài lần và quay lại, có lần thành công mang ý nghĩa, có lần thất bại xin rút kinh nghiệm.\n",
    "</ul>"
   ]
  },
  {
   "cell_type": "markdown",
   "metadata": {},
   "source": [
    "## E. NGUỒN KHAM KHẢO"
   ]
  },
  {
   "cell_type": "markdown",
   "metadata": {},
   "source": [
    "Kham khảo chính từ thư viện pandas,numpy và tài liệu học môn Lập trình khoa học dữ liệu tại trường Khoa học tự nhiên "
   ]
  },
  {
   "cell_type": "markdown",
   "metadata": {},
   "source": [
    "## F. KẾT LUẬN"
   ]
  },
  {
   "cell_type": "markdown",
   "metadata": {},
   "source": [
    "<ul>Đây là đồ án đầu tiên về xử lí dữ liệu có dùng các kỹ thuật về dữ liệu của python, tuy nhiên thời gian không cho phép cũng như kiến thưc hạn hẹp nên dừng tại đây, nếu còn thời gian sẽ mở rộng về việc dự đoán điểm thi cũng như phân tích tỉ lệ chọn khối thi của mỗi tỉnh và đưa ra đánh giá phù hợp cho mỗi tỉnh thành như là tỉnh du lịch thì nên mạnh về khối C hay khối A1 để thúc đẩy du lịch cũng như tăng mối quan hệ với các khác du lịch nước ngoài. Mong muốn là có thể lấy dữ liệu một cách đầy đủ hơn và muốn xử lí 1 file nhỏ hơn tuy nhiên phải có tỉ lệ đúng hay sai của từng thí sinh thì qua đó mới đánh giá đúng đắn về năng lực của thí sinh.</ul>"
   ]
  }
 ],
 "metadata": {
  "kernelspec": {
   "display_name": "Python 3",
   "language": "python",
   "name": "python3"
  },
  "language_info": {
   "codemirror_mode": {
    "name": "ipython",
    "version": 3
   },
   "file_extension": ".py",
   "mimetype": "text/x-python",
   "name": "python",
   "nbconvert_exporter": "python",
   "pygments_lexer": "ipython3",
   "version": "3.7.1"
  },
  "varInspector": {
   "cols": {
    "lenName": 16,
    "lenType": 16,
    "lenVar": 40
   },
   "kernels_config": {
    "python": {
     "delete_cmd_postfix": "",
     "delete_cmd_prefix": "del ",
     "library": "var_list.py",
     "varRefreshCmd": "print(var_dic_list())"
    },
    "r": {
     "delete_cmd_postfix": ") ",
     "delete_cmd_prefix": "rm(",
     "library": "var_list.r",
     "varRefreshCmd": "cat(var_dic_list()) "
    }
   },
   "types_to_exclude": [
    "module",
    "function",
    "builtin_function_or_method",
    "instance",
    "_Feature"
   ],
   "window_display": false
  }
 },
 "nbformat": 4,
 "nbformat_minor": 2
}
